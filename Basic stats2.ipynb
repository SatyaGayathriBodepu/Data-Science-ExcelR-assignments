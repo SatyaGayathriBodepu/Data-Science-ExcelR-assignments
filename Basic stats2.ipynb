{
 "cells": [
  {
   "cell_type": "code",
   "execution_count": 1,
   "id": "095672a7-03ee-4e62-b1dc-78da9d6ae460",
   "metadata": {},
   "outputs": [],
   "source": [
    "import numpy as np"
   ]
  },
  {
   "cell_type": "code",
   "execution_count": 3,
   "id": "af26ac8f-c08a-4516-a803-66cb1c5b1099",
   "metadata": {},
   "outputs": [],
   "source": [
    "data = [1.13, 1.55, 1.43, 0.92, 1.25, 1.36, 1.32, 0.85, 1.07, 1.48,\n",
    "        1.20, 1.33, 1.18, 1.22, 1.29] # given data\n",
    "data = np.array(data)  # converting into an array "
   ]
  },
  {
   "cell_type": "code",
   "execution_count": 5,
   "id": "9bc082d1-38c1-48bd-a2bf-21109db8bdc2",
   "metadata": {},
   "outputs": [
    {
     "name": "stdout",
     "output_type": "stream",
     "text": [
      "Sample size: 15\n"
     ]
    }
   ],
   "source": [
    "n = len(data)\n",
    "print(\"Sample size:\",n)"
   ]
  },
  {
   "cell_type": "code",
   "execution_count": 6,
   "id": "009a6795-2270-4704-8919-2b7375ae041f",
   "metadata": {},
   "outputs": [
    {
     "name": "stdout",
     "output_type": "stream",
     "text": [
      "Sample mean: 1.239\n"
     ]
    }
   ],
   "source": [
    "mean = np.mean(data)\n",
    "print(\"Sample mean:\",round(mean,3))"
   ]
  },
  {
   "cell_type": "code",
   "execution_count": 7,
   "id": "ff4b1d59-39e5-4f02-ab70-66b50e723bbf",
   "metadata": {},
   "outputs": [
    {
     "name": "stdout",
     "output_type": "stream",
     "text": [
      "Sample standard deviation: 0.187\n"
     ]
    }
   ],
   "source": [
    "std = np.std(data)\n",
    "print(\"Sample standard deviation:\",round(std,3))"
   ]
  },
  {
   "cell_type": "code",
   "execution_count": 8,
   "id": "04016a96-a93c-4d70-acf3-0cdcd2aec511",
   "metadata": {},
   "outputs": [],
   "source": [
    "######### a)"
   ]
  },
  {
   "cell_type": "code",
   "execution_count": 23,
   "id": "7f07cbca-24d6-40b4-848c-2eef8ce3d359",
   "metadata": {},
   "outputs": [],
   "source": [
    "from scipy.stats import t, norm"
   ]
  },
  {
   "cell_type": "code",
   "execution_count": 24,
   "id": "bd56eec3-f122-4e0d-8013-0f94b1ef7e2d",
   "metadata": {},
   "outputs": [],
   "source": [
    "alpha = 0.01\n",
    "df = n - 1 # degree of freedom --- because we are using t-distribution\n",
    "se = std/np.sqrt(n) # calculating standard error"
   ]
  },
  {
   "cell_type": "code",
   "execution_count": 25,
   "id": "5c7a11cd-fcf0-4cd7-8f8b-9de8ac9925f1",
   "metadata": {},
   "outputs": [],
   "source": [
    "t_critical = t.ppf(1-alpha/2,df)  # formula of t distribution\n",
    "CI_t = (mean - t_critical *se, mean + t_critical *se) # using confidence interval by t-distribution"
   ]
  },
  {
   "cell_type": "code",
   "execution_count": 26,
   "id": "9dae3db2-e967-4e10-90af-1f80b851d446",
   "metadata": {},
   "outputs": [
    {
     "name": "stdout",
     "output_type": "stream",
     "text": [
      "We are 99% confident for using sample sd by t-distribution [1.095 1.382]\n"
     ]
    }
   ],
   "source": [
    "print(\"We are 99% confident for using sample sd by t-distribution\",np.round(CI_t,3))"
   ]
  },
  {
   "cell_type": "code",
   "execution_count": 27,
   "id": "05c7e159-0745-453d-9b42-70ae3cfb65e4",
   "metadata": {},
   "outputs": [],
   "source": [
    "# so the std lies in between 1.095 and 1.382"
   ]
  },
  {
   "cell_type": "code",
   "execution_count": 28,
   "id": "efcbfd88-4a00-4e31-a799-d18f98ae8d73",
   "metadata": {},
   "outputs": [],
   "source": [
    "########### b)"
   ]
  },
  {
   "cell_type": "code",
   "execution_count": 29,
   "id": "6b11e0bc-eeba-49e8-b3b2-b4bd627c6c71",
   "metadata": {},
   "outputs": [],
   "source": [
    "sigma = 0.2 # population mean"
   ]
  },
  {
   "cell_type": "code",
   "execution_count": 30,
   "id": "21c5d737-265b-4afb-9bf3-14731c524d9c",
   "metadata": {},
   "outputs": [],
   "source": [
    "se_m = sigma/np.sqrt(n)"
   ]
  },
  {
   "cell_type": "code",
   "execution_count": 32,
   "id": "8a370814-9b08-40fe-a2b4-90ca4c20f0ae",
   "metadata": {},
   "outputs": [],
   "source": [
    "z_critical = norm.ppf(1 - alpha/2)\n",
    "CI_z = (mean - z_critical*se_m, mean + z_critical*se_m)"
   ]
  },
  {
   "cell_type": "code",
   "execution_count": 34,
   "id": "b0cf63c8-96d1-4002-abc8-f19217b46399",
   "metadata": {},
   "outputs": [
    {
     "name": "stdout",
     "output_type": "stream",
     "text": [
      "We are 99% confident for using population using z-distribution [1.106 1.372]\n"
     ]
    }
   ],
   "source": [
    "print(\"We are 99% confident for using population using z-distribution\",np.round(CI_z,3))"
   ]
  },
  {
   "cell_type": "code",
   "execution_count": 35,
   "id": "07cd6ec3-3e81-4024-8d27-710f0a81e6af",
   "metadata": {},
   "outputs": [],
   "source": [
    "# it lies in between 1.106 and 1.372"
   ]
  },
  {
   "cell_type": "code",
   "execution_count": null,
   "id": "40f750ed-0828-4b7f-8b66-66791eb7ea59",
   "metadata": {},
   "outputs": [],
   "source": []
  }
 ],
 "metadata": {
  "kernelspec": {
   "display_name": "Python [conda env:base] *",
   "language": "python",
   "name": "conda-base-py"
  },
  "language_info": {
   "codemirror_mode": {
    "name": "ipython",
    "version": 3
   },
   "file_extension": ".py",
   "mimetype": "text/x-python",
   "name": "python",
   "nbconvert_exporter": "python",
   "pygments_lexer": "ipython3",
   "version": "3.13.5"
  }
 },
 "nbformat": 4,
 "nbformat_minor": 5
}
