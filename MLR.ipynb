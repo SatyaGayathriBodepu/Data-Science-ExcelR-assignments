{
 "cells": [
  {
   "cell_type": "code",
   "execution_count": 1,
   "id": "675d614d-58cb-4c57-84bf-2b1e52e96bbc",
   "metadata": {},
   "outputs": [],
   "source": [
    "import pandas as pd"
   ]
  },
  {
   "cell_type": "code",
   "execution_count": 2,
   "id": "108054f1-212e-4d39-9468-21c15c5df521",
   "metadata": {},
   "outputs": [
    {
     "data": {
      "text/html": [
       "<div>\n",
       "<style scoped>\n",
       "    .dataframe tbody tr th:only-of-type {\n",
       "        vertical-align: middle;\n",
       "    }\n",
       "\n",
       "    .dataframe tbody tr th {\n",
       "        vertical-align: top;\n",
       "    }\n",
       "\n",
       "    .dataframe thead th {\n",
       "        text-align: right;\n",
       "    }\n",
       "</style>\n",
       "<table border=\"1\" class=\"dataframe\">\n",
       "  <thead>\n",
       "    <tr style=\"text-align: right;\">\n",
       "      <th></th>\n",
       "      <th>Price</th>\n",
       "      <th>Age_08_04</th>\n",
       "      <th>KM</th>\n",
       "      <th>Fuel_Type</th>\n",
       "      <th>HP</th>\n",
       "      <th>Automatic</th>\n",
       "      <th>cc</th>\n",
       "      <th>Doors</th>\n",
       "      <th>Cylinders</th>\n",
       "      <th>Gears</th>\n",
       "      <th>Weight</th>\n",
       "    </tr>\n",
       "  </thead>\n",
       "  <tbody>\n",
       "    <tr>\n",
       "      <th>0</th>\n",
       "      <td>13500</td>\n",
       "      <td>23</td>\n",
       "      <td>46986</td>\n",
       "      <td>Diesel</td>\n",
       "      <td>90</td>\n",
       "      <td>0</td>\n",
       "      <td>2000</td>\n",
       "      <td>3</td>\n",
       "      <td>4</td>\n",
       "      <td>5</td>\n",
       "      <td>1165</td>\n",
       "    </tr>\n",
       "    <tr>\n",
       "      <th>1</th>\n",
       "      <td>13750</td>\n",
       "      <td>23</td>\n",
       "      <td>72937</td>\n",
       "      <td>Diesel</td>\n",
       "      <td>90</td>\n",
       "      <td>0</td>\n",
       "      <td>2000</td>\n",
       "      <td>3</td>\n",
       "      <td>4</td>\n",
       "      <td>5</td>\n",
       "      <td>1165</td>\n",
       "    </tr>\n",
       "    <tr>\n",
       "      <th>2</th>\n",
       "      <td>13950</td>\n",
       "      <td>24</td>\n",
       "      <td>41711</td>\n",
       "      <td>Diesel</td>\n",
       "      <td>90</td>\n",
       "      <td>0</td>\n",
       "      <td>2000</td>\n",
       "      <td>3</td>\n",
       "      <td>4</td>\n",
       "      <td>5</td>\n",
       "      <td>1165</td>\n",
       "    </tr>\n",
       "    <tr>\n",
       "      <th>3</th>\n",
       "      <td>14950</td>\n",
       "      <td>26</td>\n",
       "      <td>48000</td>\n",
       "      <td>Diesel</td>\n",
       "      <td>90</td>\n",
       "      <td>0</td>\n",
       "      <td>2000</td>\n",
       "      <td>3</td>\n",
       "      <td>4</td>\n",
       "      <td>5</td>\n",
       "      <td>1165</td>\n",
       "    </tr>\n",
       "    <tr>\n",
       "      <th>4</th>\n",
       "      <td>13750</td>\n",
       "      <td>30</td>\n",
       "      <td>38500</td>\n",
       "      <td>Diesel</td>\n",
       "      <td>90</td>\n",
       "      <td>0</td>\n",
       "      <td>2000</td>\n",
       "      <td>3</td>\n",
       "      <td>4</td>\n",
       "      <td>5</td>\n",
       "      <td>1170</td>\n",
       "    </tr>\n",
       "  </tbody>\n",
       "</table>\n",
       "</div>"
      ],
      "text/plain": [
       "   Price  Age_08_04     KM Fuel_Type  HP  Automatic    cc  Doors  Cylinders  \\\n",
       "0  13500         23  46986    Diesel  90          0  2000      3          4   \n",
       "1  13750         23  72937    Diesel  90          0  2000      3          4   \n",
       "2  13950         24  41711    Diesel  90          0  2000      3          4   \n",
       "3  14950         26  48000    Diesel  90          0  2000      3          4   \n",
       "4  13750         30  38500    Diesel  90          0  2000      3          4   \n",
       "\n",
       "   Gears  Weight  \n",
       "0      5    1165  \n",
       "1      5    1165  \n",
       "2      5    1165  \n",
       "3      5    1165  \n",
       "4      5    1170  "
      ]
     },
     "execution_count": 2,
     "metadata": {},
     "output_type": "execute_result"
    }
   ],
   "source": [
    "df = pd.read_csv(\"C:\\\\Users\\\\SATYA GAYATHRI\\\\OneDrive\\\\Documents\\\\Data science\\\\Assignments\\\\MLR\\\\ToyotaCorolla - MLR.csv\")\n",
    "df.head()"
   ]
  },
  {
   "cell_type": "code",
   "execution_count": 3,
   "id": "56529f9f-3596-4181-8e59-d5da8b85f1b3",
   "metadata": {},
   "outputs": [
    {
     "name": "stdout",
     "output_type": "stream",
     "text": [
      "<class 'pandas.core.frame.DataFrame'>\n",
      "RangeIndex: 1436 entries, 0 to 1435\n",
      "Data columns (total 11 columns):\n",
      " #   Column     Non-Null Count  Dtype \n",
      "---  ------     --------------  ----- \n",
      " 0   Price      1436 non-null   int64 \n",
      " 1   Age_08_04  1436 non-null   int64 \n",
      " 2   KM         1436 non-null   int64 \n",
      " 3   Fuel_Type  1436 non-null   object\n",
      " 4   HP         1436 non-null   int64 \n",
      " 5   Automatic  1436 non-null   int64 \n",
      " 6   cc         1436 non-null   int64 \n",
      " 7   Doors      1436 non-null   int64 \n",
      " 8   Cylinders  1436 non-null   int64 \n",
      " 9   Gears      1436 non-null   int64 \n",
      " 10  Weight     1436 non-null   int64 \n",
      "dtypes: int64(10), object(1)\n",
      "memory usage: 123.5+ KB\n"
     ]
    }
   ],
   "source": [
    "df.info()"
   ]
  },
  {
   "cell_type": "code",
   "execution_count": 4,
   "id": "b8aa41dc-f537-46b0-84ff-a986587c566a",
   "metadata": {},
   "outputs": [
    {
     "data": {
      "text/html": [
       "<div>\n",
       "<style scoped>\n",
       "    .dataframe tbody tr th:only-of-type {\n",
       "        vertical-align: middle;\n",
       "    }\n",
       "\n",
       "    .dataframe tbody tr th {\n",
       "        vertical-align: top;\n",
       "    }\n",
       "\n",
       "    .dataframe thead th {\n",
       "        text-align: right;\n",
       "    }\n",
       "</style>\n",
       "<table border=\"1\" class=\"dataframe\">\n",
       "  <thead>\n",
       "    <tr style=\"text-align: right;\">\n",
       "      <th></th>\n",
       "      <th>Price</th>\n",
       "      <th>Age_08_04</th>\n",
       "      <th>KM</th>\n",
       "      <th>HP</th>\n",
       "      <th>Automatic</th>\n",
       "      <th>cc</th>\n",
       "      <th>Doors</th>\n",
       "      <th>Cylinders</th>\n",
       "      <th>Gears</th>\n",
       "      <th>Weight</th>\n",
       "    </tr>\n",
       "  </thead>\n",
       "  <tbody>\n",
       "    <tr>\n",
       "      <th>count</th>\n",
       "      <td>1436.000000</td>\n",
       "      <td>1436.000000</td>\n",
       "      <td>1436.000000</td>\n",
       "      <td>1436.000000</td>\n",
       "      <td>1436.000000</td>\n",
       "      <td>1436.00000</td>\n",
       "      <td>1436.000000</td>\n",
       "      <td>1436.0</td>\n",
       "      <td>1436.000000</td>\n",
       "      <td>1436.00000</td>\n",
       "    </tr>\n",
       "    <tr>\n",
       "      <th>mean</th>\n",
       "      <td>10730.824513</td>\n",
       "      <td>55.947075</td>\n",
       "      <td>68533.259749</td>\n",
       "      <td>101.502089</td>\n",
       "      <td>0.055710</td>\n",
       "      <td>1576.85585</td>\n",
       "      <td>4.033426</td>\n",
       "      <td>4.0</td>\n",
       "      <td>5.026462</td>\n",
       "      <td>1072.45961</td>\n",
       "    </tr>\n",
       "    <tr>\n",
       "      <th>std</th>\n",
       "      <td>3626.964585</td>\n",
       "      <td>18.599988</td>\n",
       "      <td>37506.448872</td>\n",
       "      <td>14.981080</td>\n",
       "      <td>0.229441</td>\n",
       "      <td>424.38677</td>\n",
       "      <td>0.952677</td>\n",
       "      <td>0.0</td>\n",
       "      <td>0.188510</td>\n",
       "      <td>52.64112</td>\n",
       "    </tr>\n",
       "    <tr>\n",
       "      <th>min</th>\n",
       "      <td>4350.000000</td>\n",
       "      <td>1.000000</td>\n",
       "      <td>1.000000</td>\n",
       "      <td>69.000000</td>\n",
       "      <td>0.000000</td>\n",
       "      <td>1300.00000</td>\n",
       "      <td>2.000000</td>\n",
       "      <td>4.0</td>\n",
       "      <td>3.000000</td>\n",
       "      <td>1000.00000</td>\n",
       "    </tr>\n",
       "    <tr>\n",
       "      <th>25%</th>\n",
       "      <td>8450.000000</td>\n",
       "      <td>44.000000</td>\n",
       "      <td>43000.000000</td>\n",
       "      <td>90.000000</td>\n",
       "      <td>0.000000</td>\n",
       "      <td>1400.00000</td>\n",
       "      <td>3.000000</td>\n",
       "      <td>4.0</td>\n",
       "      <td>5.000000</td>\n",
       "      <td>1040.00000</td>\n",
       "    </tr>\n",
       "    <tr>\n",
       "      <th>50%</th>\n",
       "      <td>9900.000000</td>\n",
       "      <td>61.000000</td>\n",
       "      <td>63389.500000</td>\n",
       "      <td>110.000000</td>\n",
       "      <td>0.000000</td>\n",
       "      <td>1600.00000</td>\n",
       "      <td>4.000000</td>\n",
       "      <td>4.0</td>\n",
       "      <td>5.000000</td>\n",
       "      <td>1070.00000</td>\n",
       "    </tr>\n",
       "    <tr>\n",
       "      <th>75%</th>\n",
       "      <td>11950.000000</td>\n",
       "      <td>70.000000</td>\n",
       "      <td>87020.750000</td>\n",
       "      <td>110.000000</td>\n",
       "      <td>0.000000</td>\n",
       "      <td>1600.00000</td>\n",
       "      <td>5.000000</td>\n",
       "      <td>4.0</td>\n",
       "      <td>5.000000</td>\n",
       "      <td>1085.00000</td>\n",
       "    </tr>\n",
       "    <tr>\n",
       "      <th>max</th>\n",
       "      <td>32500.000000</td>\n",
       "      <td>80.000000</td>\n",
       "      <td>243000.000000</td>\n",
       "      <td>192.000000</td>\n",
       "      <td>1.000000</td>\n",
       "      <td>16000.00000</td>\n",
       "      <td>5.000000</td>\n",
       "      <td>4.0</td>\n",
       "      <td>6.000000</td>\n",
       "      <td>1615.00000</td>\n",
       "    </tr>\n",
       "  </tbody>\n",
       "</table>\n",
       "</div>"
      ],
      "text/plain": [
       "              Price    Age_08_04             KM           HP    Automatic  \\\n",
       "count   1436.000000  1436.000000    1436.000000  1436.000000  1436.000000   \n",
       "mean   10730.824513    55.947075   68533.259749   101.502089     0.055710   \n",
       "std     3626.964585    18.599988   37506.448872    14.981080     0.229441   \n",
       "min     4350.000000     1.000000       1.000000    69.000000     0.000000   \n",
       "25%     8450.000000    44.000000   43000.000000    90.000000     0.000000   \n",
       "50%     9900.000000    61.000000   63389.500000   110.000000     0.000000   \n",
       "75%    11950.000000    70.000000   87020.750000   110.000000     0.000000   \n",
       "max    32500.000000    80.000000  243000.000000   192.000000     1.000000   \n",
       "\n",
       "                cc        Doors  Cylinders        Gears      Weight  \n",
       "count   1436.00000  1436.000000     1436.0  1436.000000  1436.00000  \n",
       "mean    1576.85585     4.033426        4.0     5.026462  1072.45961  \n",
       "std      424.38677     0.952677        0.0     0.188510    52.64112  \n",
       "min     1300.00000     2.000000        4.0     3.000000  1000.00000  \n",
       "25%     1400.00000     3.000000        4.0     5.000000  1040.00000  \n",
       "50%     1600.00000     4.000000        4.0     5.000000  1070.00000  \n",
       "75%     1600.00000     5.000000        4.0     5.000000  1085.00000  \n",
       "max    16000.00000     5.000000        4.0     6.000000  1615.00000  "
      ]
     },
     "execution_count": 4,
     "metadata": {},
     "output_type": "execute_result"
    }
   ],
   "source": [
    "df.describe()"
   ]
  },
  {
   "cell_type": "code",
   "execution_count": 5,
   "id": "44306b74-6881-4a9e-83f8-8885b960d599",
   "metadata": {},
   "outputs": [],
   "source": [
    "# to check any missing values"
   ]
  },
  {
   "cell_type": "code",
   "execution_count": 6,
   "id": "83961b14-e00b-4ffd-9f05-5b11bef655ba",
   "metadata": {},
   "outputs": [
    {
     "data": {
      "text/plain": [
       "Price        0\n",
       "Age_08_04    0\n",
       "KM           0\n",
       "Fuel_Type    0\n",
       "HP           0\n",
       "Automatic    0\n",
       "cc           0\n",
       "Doors        0\n",
       "Cylinders    0\n",
       "Gears        0\n",
       "Weight       0\n",
       "dtype: int64"
      ]
     },
     "execution_count": 6,
     "metadata": {},
     "output_type": "execute_result"
    }
   ],
   "source": [
    "df.isnull().sum()"
   ]
  },
  {
   "cell_type": "code",
   "execution_count": 7,
   "id": "7ec1895a-9e40-4e6c-967c-3089010ed5e6",
   "metadata": {},
   "outputs": [],
   "source": [
    "# there are no missing values so its good to go with next step"
   ]
  },
  {
   "cell_type": "code",
   "execution_count": 8,
   "id": "26b620a7-2236-4792-823e-e8c5c09053c7",
   "metadata": {},
   "outputs": [],
   "source": [
    "# visualizations"
   ]
  },
  {
   "cell_type": "code",
   "execution_count": 9,
   "id": "2e558974-66d3-4467-8368-055920141c59",
   "metadata": {},
   "outputs": [],
   "source": [
    "# i am going with boxplot again because I want to check outliers and also treat them"
   ]
  },
  {
   "cell_type": "code",
   "execution_count": 10,
   "id": "bdd7a828-b418-4443-9adf-17c619be91f8",
   "metadata": {},
   "outputs": [
    {
     "data": {
      "text/plain": [
       "<Axes: title={'center': 'boxplot'}>"
      ]
     },
     "execution_count": 10,
     "metadata": {},
     "output_type": "execute_result"
    },
    {
     "data": {
      "image/png": "[encoded data removed]",
      "text/plain": [
       "<Figure size 640x480 with 1 Axes>"
      ]
     },
     "metadata": {},
     "output_type": "display_data"
    }
   ],
   "source": [
    "boxplot_age = df[\"Age_08_04\"].plot(kind=\"box\",vert=False,title='boxplot')\n",
    "boxplot_age"
   ]
  },
  {
   "cell_type": "code",
   "execution_count": 11,
   "id": "40387473-ff5f-4746-a171-fb9dfd71fb84",
   "metadata": {},
   "outputs": [],
   "source": [
    "import numpy as np"
   ]
  },
  {
   "cell_type": "code",
   "execution_count": 12,
   "id": "569e916f-5b80-4ba2-be9f-e172418f8dbb",
   "metadata": {},
   "outputs": [
    {
     "data": {
      "text/plain": [
       "np.float64(26.0)"
      ]
     },
     "execution_count": 12,
     "metadata": {},
     "output_type": "execute_result"
    }
   ],
   "source": [
    "Q1 = np.percentile(df[\"Age_08_04\"],25)\n",
    "Q3 = np.percentile(df[\"Age_08_04\"],75)\n",
    "IQR = Q3 - Q1\n",
    "IQR"
   ]
  },
  {
   "cell_type": "code",
   "execution_count": 13,
   "id": "058ba339-dc18-4e52-8054-3b3f038d3f46",
   "metadata": {},
   "outputs": [
    {
     "data": {
      "text/plain": [
       "np.float64(109.0)"
      ]
     },
     "execution_count": 13,
     "metadata": {},
     "output_type": "execute_result"
    }
   ],
   "source": [
    "UW = Q3 + (1.5 * IQR)\n",
    "UW"
   ]
  },
  {
   "cell_type": "code",
   "execution_count": 14,
   "id": "81741371-4fa6-44c5-922b-49b27b8b6d9f",
   "metadata": {},
   "outputs": [
    {
     "name": "stdout",
     "output_type": "stream",
     "text": [
      "#outliers are: 0\n"
     ]
    }
   ],
   "source": [
    "print(\"#outliers are:\",len(df[df[\"Age_08_04\"]>UW]))"
   ]
  },
  {
   "cell_type": "code",
   "execution_count": 15,
   "id": "40fddf0c-669b-47f2-80e6-f420e4aa514e",
   "metadata": {},
   "outputs": [
    {
     "data": {
      "text/plain": [
       "np.float64(5.0)"
      ]
     },
     "execution_count": 15,
     "metadata": {},
     "output_type": "execute_result"
    }
   ],
   "source": [
    "LW = Q1 - (1.5 * IQR)\n",
    "LW"
   ]
  },
  {
   "cell_type": "code",
   "execution_count": 16,
   "id": "dfc2485d-c24e-4357-bbfc-82c72afe241a",
   "metadata": {},
   "outputs": [
    {
     "name": "stdout",
     "output_type": "stream",
     "text": [
      "#outliers are: 7\n"
     ]
    }
   ],
   "source": [
    "print(\"#outliers are:\",len(df[df[\"Age_08_04\"]<LW]))"
   ]
  },
  {
   "cell_type": "code",
   "execution_count": 17,
   "id": "68a0a883-325d-41fb-a5b8-9b24b7e5beb9",
   "metadata": {},
   "outputs": [],
   "source": [
    "# replacing outliers\n",
    "df.loc[df[\"Age_08_04\"] < LW, \"Age_08_04\"] = LW"
   ]
  },
  {
   "cell_type": "code",
   "execution_count": 18,
   "id": "650a9406-a2cf-416d-9208-0d7ef91cabdb",
   "metadata": {},
   "outputs": [
    {
     "data": {
      "text/plain": [
       "count    1436.000000\n",
       "mean       55.958914\n",
       "std        18.566512\n",
       "min         5.000000\n",
       "25%        44.000000\n",
       "50%        61.000000\n",
       "75%        70.000000\n",
       "max        80.000000\n",
       "Name: Age_08_04, dtype: float64"
      ]
     },
     "execution_count": 18,
     "metadata": {},
     "output_type": "execute_result"
    }
   ],
   "source": [
    "df[\"Age_08_04\"].describe()"
   ]
  },
  {
   "cell_type": "code",
   "execution_count": 19,
   "id": "6b7c680f-dd23-4dfa-abf5-79a0f782b705",
   "metadata": {},
   "outputs": [
    {
     "data": {
      "text/plain": [
       "<Axes: title={'center': 'boxplot'}>"
      ]
     },
     "execution_count": 19,
     "metadata": {},
     "output_type": "execute_result"
    },
    {
     "data": {
      "image/png": "[encoded data removed]",
      "text/plain": [
       "<Figure size 640x480 with 1 Axes>"
      ]
     },
     "metadata": {},
     "output_type": "display_data"
    }
   ],
   "source": [
    "boxplot_KM = df[\"KM\"].plot(kind=\"box\",vert=False,title=\"boxplot\")\n",
    "boxplot_KM"
   ]
  },
  {
   "cell_type": "code",
   "execution_count": 20,
   "id": "3040c719-b254-44f1-96c7-a2e1608b5731",
   "metadata": {},
   "outputs": [
    {
     "data": {
      "text/plain": [
       "np.float64(44020.75)"
      ]
     },
     "execution_count": 20,
     "metadata": {},
     "output_type": "execute_result"
    }
   ],
   "source": [
    "Q1 = np.percentile(df[\"KM\"],25)\n",
    "Q3 = np.percentile(df[\"KM\"],75)\n",
    "IQR = Q3 - Q1\n",
    "IQR"
   ]
  },
  {
   "cell_type": "code",
   "execution_count": 21,
   "id": "452dac73-f63c-441b-9a92-6e74e0fcbf50",
   "metadata": {},
   "outputs": [
    {
     "data": {
      "text/plain": [
       "np.float64(153051.875)"
      ]
     },
     "execution_count": 21,
     "metadata": {},
     "output_type": "execute_result"
    }
   ],
   "source": [
    "UW = Q3 + (1.5 * IQR)\n",
    "UW"
   ]
  },
  {
   "cell_type": "code",
   "execution_count": 22,
   "id": "ebd521e1-346b-435d-926c-6286d4f66521",
   "metadata": {},
   "outputs": [
    {
     "name": "stdout",
     "output_type": "stream",
     "text": [
      "#outliers are: 49\n"
     ]
    }
   ],
   "source": [
    "print(\"#outliers are:\",len(df[df[\"KM\"]>UW]))"
   ]
  },
  {
   "cell_type": "code",
   "execution_count": 23,
   "id": "38993483-f4fb-4d9b-bdc6-4341b9a3592c",
   "metadata": {},
   "outputs": [
    {
     "name": "stderr",
     "output_type": "stream",
     "text": [
      "C:\\Users\\SATYA GAYATHRI\\AppData\\Local\\Temp\\ipykernel_6636\\404444888.py:1: FutureWarning: Setting an item of incompatible dtype is deprecated and will raise an error in a future version of pandas. Value '153051.875' has dtype incompatible with int64, please explicitly cast to a compatible dtype first.\n",
      "  df.loc[df[\"KM\"] > UW, \"KM\"] = UW\n"
     ]
    }
   ],
   "source": [
    "df.loc[df[\"KM\"] > UW, \"KM\"] = UW"
   ]
  },
  {
   "cell_type": "code",
   "execution_count": 24,
   "id": "ea88f4cb-a975-44b8-b2fb-f0bafae774f1",
   "metadata": {},
   "outputs": [
    {
     "data": {
      "text/plain": [
       "count      1436.000000\n",
       "mean      67604.873172\n",
       "std       34738.595454\n",
       "min           1.000000\n",
       "25%       43000.000000\n",
       "50%       63389.500000\n",
       "75%       87020.750000\n",
       "max      153051.875000\n",
       "Name: KM, dtype: float64"
      ]
     },
     "execution_count": 24,
     "metadata": {},
     "output_type": "execute_result"
    }
   ],
   "source": [
    "df[\"KM\"].describe()"
   ]
  },
  {
   "cell_type": "code",
   "execution_count": 25,
   "id": "e473b3d5-a52b-48c1-9aad-5f5f96199218",
   "metadata": {},
   "outputs": [
    {
     "data": {
      "text/plain": [
       "<Axes: title={'center': 'boxplot'}>"
      ]
     },
     "execution_count": 25,
     "metadata": {},
     "output_type": "execute_result"
    },
    {
     "data": {
      "image/png": "[encoded data removed]",
      "text/plain": [
       "<Figure size 640x480 with 1 Axes>"
      ]
     },
     "metadata": {},
     "output_type": "display_data"
    }
   ],
   "source": [
    "boxplot_HP = df[\"HP\"].plot(kind=\"box\",vert=False,title=\"boxplot\")\n",
    "boxplot_HP"
   ]
  },
  {
   "cell_type": "code",
   "execution_count": 26,
   "id": "374e0343-b98d-4d5e-9c99-49e4bbf294fd",
   "metadata": {},
   "outputs": [
    {
     "data": {
      "text/plain": [
       "np.float64(20.0)"
      ]
     },
     "execution_count": 26,
     "metadata": {},
     "output_type": "execute_result"
    }
   ],
   "source": [
    "Q1 = np.percentile(df[\"HP\"],25)\n",
    "Q3 = np.percentile(df[\"HP\"],75)\n",
    "IQR = Q3 - Q1\n",
    "IQR"
   ]
  },
  {
   "cell_type": "code",
   "execution_count": 27,
   "id": "88d1e690-c135-45ac-9dfe-d35c0601b3c1",
   "metadata": {},
   "outputs": [
    {
     "data": {
      "text/plain": [
       "np.float64(140.0)"
      ]
     },
     "execution_count": 27,
     "metadata": {},
     "output_type": "execute_result"
    }
   ],
   "source": [
    "UW = Q3 + (1.5*IQR)\n",
    "UW"
   ]
  },
  {
   "cell_type": "code",
   "execution_count": 28,
   "id": "1f9bb2c4-c06b-4c29-ae59-9ec296b0d91c",
   "metadata": {},
   "outputs": [
    {
     "name": "stdout",
     "output_type": "stream",
     "text": [
      "#outliers are: 11\n"
     ]
    }
   ],
   "source": [
    "print(\"#outliers are:\",len(df[df[\"HP\"]>UW]))"
   ]
  },
  {
   "cell_type": "code",
   "execution_count": 29,
   "id": "fb058be2-e202-49bf-b7b3-a039991f2eb5",
   "metadata": {},
   "outputs": [],
   "source": [
    "df.loc[df[\"HP\"] > UW, \"HP\"] = UW"
   ]
  },
  {
   "cell_type": "code",
   "execution_count": 30,
   "id": "9d973fd1-158b-49b7-97d8-6e9e2ae719fa",
   "metadata": {},
   "outputs": [
    {
     "data": {
      "text/plain": [
       "count    1436.00000\n",
       "mean      101.10376\n",
       "std        13.14745\n",
       "min        69.00000\n",
       "25%        90.00000\n",
       "50%       110.00000\n",
       "75%       110.00000\n",
       "max       140.00000\n",
       "Name: HP, dtype: float64"
      ]
     },
     "execution_count": 30,
     "metadata": {},
     "output_type": "execute_result"
    }
   ],
   "source": [
    "df[\"HP\"].describe()"
   ]
  },
  {
   "cell_type": "code",
   "execution_count": 31,
   "id": "e5f0b799-e173-40cb-88b3-d18db957cf3f",
   "metadata": {},
   "outputs": [
    {
     "data": {
      "text/plain": [
       "<Axes: title={'center': 'boxplot'}>"
      ]
     },
     "execution_count": 31,
     "metadata": {},
     "output_type": "execute_result"
    },
    {
     "data": {
      "image/png": "[encoded data removed]",
      "text/plain": [
       "<Figure size 640x480 with 1 Axes>"
      ]
     },
     "metadata": {},
     "output_type": "display_data"
    }
   ],
   "source": [
    "boxplot_cc = df[\"cc\"].plot(kind=\"box\",vert=False,title='boxplot')\n",
    "boxplot_cc"
   ]
  },
  {
   "cell_type": "code",
   "execution_count": 32,
   "id": "e534f664-55e4-4902-b02f-22d25729870f",
   "metadata": {},
   "outputs": [
    {
     "data": {
      "text/plain": [
       "np.float64(200.0)"
      ]
     },
     "execution_count": 32,
     "metadata": {},
     "output_type": "execute_result"
    }
   ],
   "source": [
    "Q1 = np.percentile(df[\"cc\"],25)\n",
    "Q3 = np.percentile(df[\"cc\"],75)\n",
    "IQR = Q3 - Q1\n",
    "IQR"
   ]
  },
  {
   "cell_type": "code",
   "execution_count": 33,
   "id": "f65b8f37-6b0a-42ec-95a4-722c48dbc602",
   "metadata": {},
   "outputs": [
    {
     "data": {
      "text/plain": [
       "np.float64(1900.0)"
      ]
     },
     "execution_count": 33,
     "metadata": {},
     "output_type": "execute_result"
    }
   ],
   "source": [
    "UW = Q3 + (1.5*IQR)\n",
    "UW"
   ]
  },
  {
   "cell_type": "code",
   "execution_count": 34,
   "id": "59499f77-7ba2-4e64-bb4f-39c80e606c3c",
   "metadata": {},
   "outputs": [
    {
     "name": "stdout",
     "output_type": "stream",
     "text": [
      "#outliers are: 123\n"
     ]
    }
   ],
   "source": [
    "print(\"#outliers are:\",len(df[df[\"cc\"]>UW]))"
   ]
  },
  {
   "cell_type": "code",
   "execution_count": 35,
   "id": "4c6fb808-12d9-4ab6-a1f1-3b955a83e99a",
   "metadata": {},
   "outputs": [],
   "source": [
    "df.loc[df[\"cc\"] > UW, \"cc\"] = UW"
   ]
  },
  {
   "cell_type": "code",
   "execution_count": 36,
   "id": "15fb6d20-6d76-4e18-addb-e3ea868d1f3b",
   "metadata": {},
   "outputs": [
    {
     "data": {
      "text/plain": [
       "count    1436.000000\n",
       "mean     1558.565460\n",
       "std       168.970222\n",
       "min      1300.000000\n",
       "25%      1400.000000\n",
       "50%      1600.000000\n",
       "75%      1600.000000\n",
       "max      1900.000000\n",
       "Name: cc, dtype: float64"
      ]
     },
     "execution_count": 36,
     "metadata": {},
     "output_type": "execute_result"
    }
   ],
   "source": [
    "df[\"cc\"].describe()"
   ]
  },
  {
   "cell_type": "code",
   "execution_count": 37,
   "id": "38339a58-03a5-4971-87cc-0e06d908dae9",
   "metadata": {},
   "outputs": [
    {
     "data": {
      "text/plain": [
       "<Axes: title={'center': 'boxplot'}>"
      ]
     },
     "execution_count": 37,
     "metadata": {},
     "output_type": "execute_result"
    },
    {
     "data": {
      "image/png": "[encoded data removed]",
      "text/plain": [
       "<Figure size 640x480 with 1 Axes>"
      ]
     },
     "metadata": {},
     "output_type": "display_data"
    }
   ],
   "source": [
    "boxplot_Doors = df[\"Doors\"].plot(kind=\"box\",vert=False,title=\"boxplot\")\n",
    "boxplot_Doors"
   ]
  },
  {
   "cell_type": "code",
   "execution_count": 38,
   "id": "8051acf5-dbe2-4e60-929c-3162ab4be28c",
   "metadata": {},
   "outputs": [],
   "source": [
    "# no outliers in the above one, so going to the next one"
   ]
  },
  {
   "cell_type": "code",
   "execution_count": 39,
   "id": "855958b3-0c63-413d-99e7-16dd11c67f58",
   "metadata": {},
   "outputs": [
    {
     "data": {
      "text/plain": [
       "<Axes: title={'center': 'boxplot'}>"
      ]
     },
     "execution_count": 39,
     "metadata": {},
     "output_type": "execute_result"
    },
    {
     "data": {
      "image/png": "[encoded data removed]",
      "text/plain": [
       "<Figure size 640x480 with 1 Axes>"
      ]
     },
     "metadata": {},
     "output_type": "display_data"
    }
   ],
   "source": [
    "boxplot_cylinders = df[\"Cylinders\"].plot(kind=\"box\",vert=False,title=\"boxplot\")\n",
    "boxplot_cylinders"
   ]
  },
  {
   "cell_type": "code",
   "execution_count": 40,
   "id": "dcf9f936-9fd7-4e94-b434-e6fe6a7c0aba",
   "metadata": {},
   "outputs": [
    {
     "data": {
      "text/plain": [
       "<Axes: title={'center': 'boxplot'}>"
      ]
     },
     "execution_count": 40,
     "metadata": {},
     "output_type": "execute_result"
    },
    {
     "data": {
      "image/png": "[encoded data removed]",
      "text/plain": [
       "<Figure size 640x480 with 1 Axes>"
      ]
     },
     "metadata": {},
     "output_type": "display_data"
    }
   ],
   "source": [
    "boxplot_Gears = df[\"Gears\"].plot(kind=\"box\",vert=False,title=\"boxplot\")\n",
    "boxplot_Gears"
   ]
  },
  {
   "cell_type": "code",
   "execution_count": 41,
   "id": "3400b830-44cf-4a45-a853-8acaf2bcd1dc",
   "metadata": {},
   "outputs": [
    {
     "data": {
      "text/plain": [
       "<Axes: title={'center': 'boxplot'}>"
      ]
     },
     "execution_count": 41,
     "metadata": {},
     "output_type": "execute_result"
    },
    {
     "data": {
      "image/png": "[encoded data removed]",
      "text/plain": [
       "<Figure size 640x480 with 1 Axes>"
      ]
     },
     "metadata": {},
     "output_type": "display_data"
    }
   ],
   "source": [
    "boxplot_Weight = df[\"Weight\"].plot(kind=\"box\",vert=False,title='boxplot')\n",
    "boxplot_Weight"
   ]
  },
  {
   "cell_type": "code",
   "execution_count": 42,
   "id": "8bfcf27a-f6f7-461e-9539-7512dcbe1226",
   "metadata": {},
   "outputs": [
    {
     "data": {
      "text/plain": [
       "np.float64(45.0)"
      ]
     },
     "execution_count": 42,
     "metadata": {},
     "output_type": "execute_result"
    }
   ],
   "source": [
    "Q1 = np.percentile(df[\"Weight\"],25)\n",
    "Q3 = np.percentile(df[\"Weight\"],75)\n",
    "IQR = Q3 - Q1\n",
    "IQR"
   ]
  },
  {
   "cell_type": "code",
   "execution_count": 43,
   "id": "24601ce7-521d-41b7-902a-12cba5dd69aa",
   "metadata": {},
   "outputs": [
    {
     "data": {
      "text/plain": [
       "np.float64(1152.5)"
      ]
     },
     "execution_count": 43,
     "metadata": {},
     "output_type": "execute_result"
    }
   ],
   "source": [
    "UW = Q3 + (1.5 * IQR)\n",
    "UW"
   ]
  },
  {
   "cell_type": "code",
   "execution_count": 44,
   "id": "6c8f0f0d-9528-4c77-9a0d-307142570a64",
   "metadata": {},
   "outputs": [
    {
     "name": "stdout",
     "output_type": "stream",
     "text": [
      "#outliers are: 66\n"
     ]
    }
   ],
   "source": [
    "print(\"#outliers are:\",len(df[df[\"Weight\"]>UW]))"
   ]
  },
  {
   "cell_type": "code",
   "execution_count": 45,
   "id": "0660c817-50c3-4618-8e2b-fa2b67316e2b",
   "metadata": {},
   "outputs": [],
   "source": [
    "df.loc[df[\"Weight\"] > UW, \"Weight\"] = int(UW)"
   ]
  },
  {
   "cell_type": "code",
   "execution_count": 46,
   "id": "b72ae072-359e-43ee-bafa-bd5ed92788c2",
   "metadata": {},
   "outputs": [
    {
     "data": {
      "text/plain": [
       "count    1436.000000\n",
       "mean     1068.556407\n",
       "std        37.723646\n",
       "min      1000.000000\n",
       "25%      1040.000000\n",
       "50%      1070.000000\n",
       "75%      1085.000000\n",
       "max      1152.000000\n",
       "Name: Weight, dtype: float64"
      ]
     },
     "execution_count": 46,
     "metadata": {},
     "output_type": "execute_result"
    }
   ],
   "source": [
    "df[\"Weight\"].describe()"
   ]
  },
  {
   "cell_type": "code",
   "execution_count": 47,
   "id": "479df70d-b03b-4e26-8d29-875c5f9deefe",
   "metadata": {},
   "outputs": [],
   "source": [
    "# standardization"
   ]
  },
  {
   "cell_type": "code",
   "execution_count": 48,
   "id": "5e9cbb14-df4d-4349-86a7-837c42e9ba9e",
   "metadata": {},
   "outputs": [],
   "source": [
    "# we have to perform standardization because all the \"X\" variables have different units. Once\n",
    "# data is standardized the units will be removed and we can go further with next steps."
   ]
  },
  {
   "cell_type": "code",
   "execution_count": 51,
   "id": "123b648e-391f-4463-823c-fdfe70b17a18",
   "metadata": {},
   "outputs": [
    {
     "data": {
      "text/html": [
       "<div>\n",
       "<style scoped>\n",
       "    .dataframe tbody tr th:only-of-type {\n",
       "        vertical-align: middle;\n",
       "    }\n",
       "\n",
       "    .dataframe tbody tr th {\n",
       "        vertical-align: top;\n",
       "    }\n",
       "\n",
       "    .dataframe thead th {\n",
       "        text-align: right;\n",
       "    }\n",
       "</style>\n",
       "<table border=\"1\" class=\"dataframe\">\n",
       "  <thead>\n",
       "    <tr style=\"text-align: right;\">\n",
       "      <th></th>\n",
       "      <th>Age_08_04</th>\n",
       "      <th>KM</th>\n",
       "      <th>HP</th>\n",
       "      <th>Automatic</th>\n",
       "      <th>cc</th>\n",
       "      <th>Doors</th>\n",
       "      <th>Cylinders</th>\n",
       "      <th>Gears</th>\n",
       "      <th>Weight</th>\n",
       "    </tr>\n",
       "  </thead>\n",
       "  <tbody>\n",
       "    <tr>\n",
       "      <th>0</th>\n",
       "      <td>23</td>\n",
       "      <td>46986.0</td>\n",
       "      <td>90</td>\n",
       "      <td>0</td>\n",
       "      <td>1900</td>\n",
       "      <td>3</td>\n",
       "      <td>4</td>\n",
       "      <td>5</td>\n",
       "      <td>1152</td>\n",
       "    </tr>\n",
       "    <tr>\n",
       "      <th>1</th>\n",
       "      <td>23</td>\n",
       "      <td>72937.0</td>\n",
       "      <td>90</td>\n",
       "      <td>0</td>\n",
       "      <td>1900</td>\n",
       "      <td>3</td>\n",
       "      <td>4</td>\n",
       "      <td>5</td>\n",
       "      <td>1152</td>\n",
       "    </tr>\n",
       "    <tr>\n",
       "      <th>2</th>\n",
       "      <td>24</td>\n",
       "      <td>41711.0</td>\n",
       "      <td>90</td>\n",
       "      <td>0</td>\n",
       "      <td>1900</td>\n",
       "      <td>3</td>\n",
       "      <td>4</td>\n",
       "      <td>5</td>\n",
       "      <td>1152</td>\n",
       "    </tr>\n",
       "    <tr>\n",
       "      <th>3</th>\n",
       "      <td>26</td>\n",
       "      <td>48000.0</td>\n",
       "      <td>90</td>\n",
       "      <td>0</td>\n",
       "      <td>1900</td>\n",
       "      <td>3</td>\n",
       "      <td>4</td>\n",
       "      <td>5</td>\n",
       "      <td>1152</td>\n",
       "    </tr>\n",
       "    <tr>\n",
       "      <th>4</th>\n",
       "      <td>30</td>\n",
       "      <td>38500.0</td>\n",
       "      <td>90</td>\n",
       "      <td>0</td>\n",
       "      <td>1900</td>\n",
       "      <td>3</td>\n",
       "      <td>4</td>\n",
       "      <td>5</td>\n",
       "      <td>1152</td>\n",
       "    </tr>\n",
       "  </tbody>\n",
       "</table>\n",
       "</div>"
      ],
      "text/plain": [
       "   Age_08_04       KM  HP  Automatic    cc  Doors  Cylinders  Gears  Weight\n",
       "0         23  46986.0  90          0  1900      3          4      5    1152\n",
       "1         23  72937.0  90          0  1900      3          4      5    1152\n",
       "2         24  41711.0  90          0  1900      3          4      5    1152\n",
       "3         26  48000.0  90          0  1900      3          4      5    1152\n",
       "4         30  38500.0  90          0  1900      3          4      5    1152"
      ]
     },
     "execution_count": 51,
     "metadata": {},
     "output_type": "execute_result"
    }
   ],
   "source": [
    "X= df.loc[:, ['Age_08_04', 'KM', 'HP', 'Automatic', 'cc', 'Doors', 'Cylinders', 'Gears', 'Weight']]\n",
    "X.head()"
   ]
  },
  {
   "cell_type": "code",
   "execution_count": 52,
   "id": "a0664322-b6fb-4b99-8e7f-d9891e1c858c",
   "metadata": {},
   "outputs": [
    {
     "data": {
      "text/html": [
       "<div>\n",
       "<style scoped>\n",
       "    .dataframe tbody tr th:only-of-type {\n",
       "        vertical-align: middle;\n",
       "    }\n",
       "\n",
       "    .dataframe tbody tr th {\n",
       "        vertical-align: top;\n",
       "    }\n",
       "\n",
       "    .dataframe thead th {\n",
       "        text-align: right;\n",
       "    }\n",
       "</style>\n",
       "<table border=\"1\" class=\"dataframe\">\n",
       "  <thead>\n",
       "    <tr style=\"text-align: right;\">\n",
       "      <th></th>\n",
       "      <th>Age_08_04</th>\n",
       "      <th>KM</th>\n",
       "      <th>HP</th>\n",
       "      <th>Automatic</th>\n",
       "      <th>cc</th>\n",
       "      <th>Doors</th>\n",
       "      <th>Cylinders</th>\n",
       "      <th>Gears</th>\n",
       "      <th>Weight</th>\n",
       "    </tr>\n",
       "  </thead>\n",
       "  <tbody>\n",
       "    <tr>\n",
       "      <th>0</th>\n",
       "      <td>-1.775799</td>\n",
       "      <td>-0.593750</td>\n",
       "      <td>-0.84485</td>\n",
       "      <td>-0.242893</td>\n",
       "      <td>2.021383</td>\n",
       "      <td>-1.085139</td>\n",
       "      <td>0.0</td>\n",
       "      <td>-0.140425</td>\n",
       "      <td>2.212741</td>\n",
       "    </tr>\n",
       "    <tr>\n",
       "      <th>1</th>\n",
       "      <td>-1.775799</td>\n",
       "      <td>0.153546</td>\n",
       "      <td>-0.84485</td>\n",
       "      <td>-0.242893</td>\n",
       "      <td>2.021383</td>\n",
       "      <td>-1.085139</td>\n",
       "      <td>0.0</td>\n",
       "      <td>-0.140425</td>\n",
       "      <td>2.212741</td>\n",
       "    </tr>\n",
       "    <tr>\n",
       "      <th>2</th>\n",
       "      <td>-1.721920</td>\n",
       "      <td>-0.745652</td>\n",
       "      <td>-0.84485</td>\n",
       "      <td>-0.242893</td>\n",
       "      <td>2.021383</td>\n",
       "      <td>-1.085139</td>\n",
       "      <td>0.0</td>\n",
       "      <td>-0.140425</td>\n",
       "      <td>2.212741</td>\n",
       "    </tr>\n",
       "    <tr>\n",
       "      <th>3</th>\n",
       "      <td>-1.614162</td>\n",
       "      <td>-0.564551</td>\n",
       "      <td>-0.84485</td>\n",
       "      <td>-0.242893</td>\n",
       "      <td>2.021383</td>\n",
       "      <td>-1.085139</td>\n",
       "      <td>0.0</td>\n",
       "      <td>-0.140425</td>\n",
       "      <td>2.212741</td>\n",
       "    </tr>\n",
       "    <tr>\n",
       "      <th>4</th>\n",
       "      <td>-1.398645</td>\n",
       "      <td>-0.838117</td>\n",
       "      <td>-0.84485</td>\n",
       "      <td>-0.242893</td>\n",
       "      <td>2.021383</td>\n",
       "      <td>-1.085139</td>\n",
       "      <td>0.0</td>\n",
       "      <td>-0.140425</td>\n",
       "      <td>2.212741</td>\n",
       "    </tr>\n",
       "  </tbody>\n",
       "</table>\n",
       "</div>"
      ],
      "text/plain": [
       "   Age_08_04        KM       HP  Automatic        cc     Doors  Cylinders  \\\n",
       "0  -1.775799 -0.593750 -0.84485  -0.242893  2.021383 -1.085139        0.0   \n",
       "1  -1.775799  0.153546 -0.84485  -0.242893  2.021383 -1.085139        0.0   \n",
       "2  -1.721920 -0.745652 -0.84485  -0.242893  2.021383 -1.085139        0.0   \n",
       "3  -1.614162 -0.564551 -0.84485  -0.242893  2.021383 -1.085139        0.0   \n",
       "4  -1.398645 -0.838117 -0.84485  -0.242893  2.021383 -1.085139        0.0   \n",
       "\n",
       "      Gears    Weight  \n",
       "0 -0.140425  2.212741  \n",
       "1 -0.140425  2.212741  \n",
       "2 -0.140425  2.212741  \n",
       "3 -0.140425  2.212741  \n",
       "4 -0.140425  2.212741  "
      ]
     },
     "execution_count": 52,
     "metadata": {},
     "output_type": "execute_result"
    }
   ],
   "source": [
    "# standardization\n",
    "from sklearn.preprocessing import StandardScaler\n",
    "SS = StandardScaler()\n",
    "SS_X = SS.fit_transform(X)\n",
    "SS_X = pd.DataFrame(SS_X)\n",
    "SS_X.columns = list(X)\n",
    "SS_X.head()"
   ]
  },
  {
   "cell_type": "code",
   "execution_count": 53,
   "id": "819edc82-7d01-41f0-b568-5764dfabd272",
   "metadata": {},
   "outputs": [],
   "source": [
    "from sklearn.preprocessing import OneHotEncoder\n",
    "OHE = OneHotEncoder()"
   ]
  },
  {
   "cell_type": "code",
   "execution_count": 55,
   "id": "9b385254-2992-4704-9639-ef3c60984cc6",
   "metadata": {},
   "outputs": [
    {
     "data": {
      "text/html": [
       "<div>\n",
       "<style scoped>\n",
       "    .dataframe tbody tr th:only-of-type {\n",
       "        vertical-align: middle;\n",
       "    }\n",
       "\n",
       "    .dataframe tbody tr th {\n",
       "        vertical-align: top;\n",
       "    }\n",
       "\n",
       "    .dataframe thead th {\n",
       "        text-align: right;\n",
       "    }\n",
       "</style>\n",
       "<table border=\"1\" class=\"dataframe\">\n",
       "  <thead>\n",
       "    <tr style=\"text-align: right;\">\n",
       "      <th></th>\n",
       "      <th>CNG</th>\n",
       "      <th>Diesel</th>\n",
       "      <th>Petrol</th>\n",
       "    </tr>\n",
       "  </thead>\n",
       "  <tbody>\n",
       "    <tr>\n",
       "      <th>0</th>\n",
       "      <td>0.0</td>\n",
       "      <td>1.0</td>\n",
       "      <td>0.0</td>\n",
       "    </tr>\n",
       "    <tr>\n",
       "      <th>1</th>\n",
       "      <td>0.0</td>\n",
       "      <td>1.0</td>\n",
       "      <td>0.0</td>\n",
       "    </tr>\n",
       "    <tr>\n",
       "      <th>2</th>\n",
       "      <td>0.0</td>\n",
       "      <td>1.0</td>\n",
       "      <td>0.0</td>\n",
       "    </tr>\n",
       "    <tr>\n",
       "      <th>3</th>\n",
       "      <td>0.0</td>\n",
       "      <td>1.0</td>\n",
       "      <td>0.0</td>\n",
       "    </tr>\n",
       "    <tr>\n",
       "      <th>4</th>\n",
       "      <td>0.0</td>\n",
       "      <td>1.0</td>\n",
       "      <td>0.0</td>\n",
       "    </tr>\n",
       "  </tbody>\n",
       "</table>\n",
       "</div>"
      ],
      "text/plain": [
       "   CNG  Diesel  Petrol\n",
       "0  0.0     1.0     0.0\n",
       "1  0.0     1.0     0.0\n",
       "2  0.0     1.0     0.0\n",
       "3  0.0     1.0     0.0\n",
       "4  0.0     1.0     0.0"
      ]
     },
     "execution_count": 55,
     "metadata": {},
     "output_type": "execute_result"
    }
   ],
   "source": [
    "OH = OHE.fit_transform(df[[\"Fuel_Type\"]]).toarray() \n",
    "OH = pd.DataFrame(OH)\n",
    "OH.columns = [\"CNG\",\"Diesel\",\"Petrol\"] \n",
    "OH.head()"
   ]
  },
  {
   "cell_type": "code",
   "execution_count": 56,
   "id": "479604ed-40ab-4e27-ab1e-cf0ff740fd82",
   "metadata": {},
   "outputs": [
    {
     "data": {
      "text/html": [
       "<div>\n",
       "<style scoped>\n",
       "    .dataframe tbody tr th:only-of-type {\n",
       "        vertical-align: middle;\n",
       "    }\n",
       "\n",
       "    .dataframe tbody tr th {\n",
       "        vertical-align: top;\n",
       "    }\n",
       "\n",
       "    .dataframe thead th {\n",
       "        text-align: right;\n",
       "    }\n",
       "</style>\n",
       "<table border=\"1\" class=\"dataframe\">\n",
       "  <thead>\n",
       "    <tr style=\"text-align: right;\">\n",
       "      <th></th>\n",
       "      <th>Age_08_04</th>\n",
       "      <th>KM</th>\n",
       "      <th>HP</th>\n",
       "      <th>Automatic</th>\n",
       "      <th>cc</th>\n",
       "      <th>Doors</th>\n",
       "      <th>Cylinders</th>\n",
       "      <th>Gears</th>\n",
       "      <th>Weight</th>\n",
       "      <th>CNG</th>\n",
       "      <th>Diesel</th>\n",
       "      <th>Petrol</th>\n",
       "    </tr>\n",
       "  </thead>\n",
       "  <tbody>\n",
       "    <tr>\n",
       "      <th>0</th>\n",
       "      <td>-1.775799</td>\n",
       "      <td>-0.593750</td>\n",
       "      <td>-0.84485</td>\n",
       "      <td>-0.242893</td>\n",
       "      <td>2.021383</td>\n",
       "      <td>-1.085139</td>\n",
       "      <td>0.0</td>\n",
       "      <td>-0.140425</td>\n",
       "      <td>2.212741</td>\n",
       "      <td>0.0</td>\n",
       "      <td>1.0</td>\n",
       "      <td>0.0</td>\n",
       "    </tr>\n",
       "    <tr>\n",
       "      <th>1</th>\n",
       "      <td>-1.775799</td>\n",
       "      <td>0.153546</td>\n",
       "      <td>-0.84485</td>\n",
       "      <td>-0.242893</td>\n",
       "      <td>2.021383</td>\n",
       "      <td>-1.085139</td>\n",
       "      <td>0.0</td>\n",
       "      <td>-0.140425</td>\n",
       "      <td>2.212741</td>\n",
       "      <td>0.0</td>\n",
       "      <td>1.0</td>\n",
       "      <td>0.0</td>\n",
       "    </tr>\n",
       "    <tr>\n",
       "      <th>2</th>\n",
       "      <td>-1.721920</td>\n",
       "      <td>-0.745652</td>\n",
       "      <td>-0.84485</td>\n",
       "      <td>-0.242893</td>\n",
       "      <td>2.021383</td>\n",
       "      <td>-1.085139</td>\n",
       "      <td>0.0</td>\n",
       "      <td>-0.140425</td>\n",
       "      <td>2.212741</td>\n",
       "      <td>0.0</td>\n",
       "      <td>1.0</td>\n",
       "      <td>0.0</td>\n",
       "    </tr>\n",
       "    <tr>\n",
       "      <th>3</th>\n",
       "      <td>-1.614162</td>\n",
       "      <td>-0.564551</td>\n",
       "      <td>-0.84485</td>\n",
       "      <td>-0.242893</td>\n",
       "      <td>2.021383</td>\n",
       "      <td>-1.085139</td>\n",
       "      <td>0.0</td>\n",
       "      <td>-0.140425</td>\n",
       "      <td>2.212741</td>\n",
       "      <td>0.0</td>\n",
       "      <td>1.0</td>\n",
       "      <td>0.0</td>\n",
       "    </tr>\n",
       "    <tr>\n",
       "      <th>4</th>\n",
       "      <td>-1.398645</td>\n",
       "      <td>-0.838117</td>\n",
       "      <td>-0.84485</td>\n",
       "      <td>-0.242893</td>\n",
       "      <td>2.021383</td>\n",
       "      <td>-1.085139</td>\n",
       "      <td>0.0</td>\n",
       "      <td>-0.140425</td>\n",
       "      <td>2.212741</td>\n",
       "      <td>0.0</td>\n",
       "      <td>1.0</td>\n",
       "      <td>0.0</td>\n",
       "    </tr>\n",
       "  </tbody>\n",
       "</table>\n",
       "</div>"
      ],
      "text/plain": [
       "   Age_08_04        KM       HP  Automatic        cc     Doors  Cylinders  \\\n",
       "0  -1.775799 -0.593750 -0.84485  -0.242893  2.021383 -1.085139        0.0   \n",
       "1  -1.775799  0.153546 -0.84485  -0.242893  2.021383 -1.085139        0.0   \n",
       "2  -1.721920 -0.745652 -0.84485  -0.242893  2.021383 -1.085139        0.0   \n",
       "3  -1.614162 -0.564551 -0.84485  -0.242893  2.021383 -1.085139        0.0   \n",
       "4  -1.398645 -0.838117 -0.84485  -0.242893  2.021383 -1.085139        0.0   \n",
       "\n",
       "      Gears    Weight  CNG  Diesel  Petrol  \n",
       "0 -0.140425  2.212741  0.0     1.0     0.0  \n",
       "1 -0.140425  2.212741  0.0     1.0     0.0  \n",
       "2 -0.140425  2.212741  0.0     1.0     0.0  \n",
       "3 -0.140425  2.212741  0.0     1.0     0.0  \n",
       "4 -0.140425  2.212741  0.0     1.0     0.0  "
      ]
     },
     "execution_count": 56,
     "metadata": {},
     "output_type": "execute_result"
    }
   ],
   "source": [
    "X_final = pd.concat([SS_X,OH],axis=1)\n",
    "X_final.head()"
   ]
  },
  {
   "cell_type": "code",
   "execution_count": 57,
   "id": "f44010cb-24a8-44a6-a820-05d765cdef6a",
   "metadata": {},
   "outputs": [
    {
     "data": {
      "text/plain": [
       "0       161\n",
       "1       162\n",
       "2       164\n",
       "3       169\n",
       "4       162\n",
       "       ... \n",
       "1431     45\n",
       "1432    117\n",
       "1433     66\n",
       "1434     36\n",
       "1435     29\n",
       "Name: Price, Length: 1436, dtype: int64"
      ]
     },
     "execution_count": 57,
     "metadata": {},
     "output_type": "execute_result"
    }
   ],
   "source": [
    "# Label Encoding\n",
    "from sklearn.preprocessing import LabelEncoder\n",
    "LE = LabelEncoder()\n",
    "df[\"Price\"] = LE.fit_transform(df[\"Price\"])\n",
    "Y = df[\"Price\"]\n",
    "Y"
   ]
  },
  {
   "cell_type": "code",
   "execution_count": 58,
   "id": "106061b9-5afc-4e06-9589-40046ee1bdb4",
   "metadata": {},
   "outputs": [],
   "source": [
    "# splitting data --- data partition"
   ]
  },
  {
   "cell_type": "code",
   "execution_count": 59,
   "id": "8893cdd9-4879-493f-93e7-3ceaff5fce2b",
   "metadata": {},
   "outputs": [],
   "source": [
    "# the entire data will be divided into two parts -- training data(70%) and testing data(20%)"
   ]
  },
  {
   "cell_type": "code",
   "execution_count": 61,
   "id": "156af632-3214-4ee2-8e41-fbf71125f982",
   "metadata": {},
   "outputs": [],
   "source": [
    "from sklearn.model_selection import train_test_split\n",
    "X_train,X_test,Y_train,Y_test = train_test_split(X_final,Y,test_size = 0.30,random_state = 100)"
   ]
  },
  {
   "cell_type": "code",
   "execution_count": 64,
   "id": "3f675e94-712f-4ac8-8a40-324c9226dbe9",
   "metadata": {},
   "outputs": [],
   "source": [
    "from sklearn.linear_model import LinearRegression\n",
    "model = LinearRegression()"
   ]
  },
  {
   "cell_type": "code",
   "execution_count": 65,
   "id": "ea4e6f28-ce74-4095-88b3-37ac6c546603",
   "metadata": {},
   "outputs": [
    {
     "data": {
      "text/html": [
       "<style>#sk-container-id-2 {\n",
       "  /* Definition of color scheme common for light and dark mode */\n",
       "  --sklearn-color-text: #000;\n",
       "  --sklearn-color-text-muted: #666;\n",
       "  --sklearn-color-line: gray;\n",
       "  /* Definition of color scheme for unfitted estimators */\n",
       "  --sklearn-color-unfitted-level-0: #fff5e6;\n",
       "  --sklearn-color-unfitted-level-1: #f6e4d2;\n",
       "  --sklearn-color-unfitted-level-2: #ffe0b3;\n",
       "  --sklearn-color-unfitted-level-3: chocolate;\n",
       "  /* Definition of color scheme for fitted estimators */\n",
       "  --sklearn-color-fitted-level-0: #f0f8ff;\n",
       "  --sklearn-color-fitted-level-1: #d4ebff;\n",
       "  --sklearn-color-fitted-level-2: #b3dbfd;\n",
       "  --sklearn-color-fitted-level-3: cornflowerblue;\n",
       "\n",
       "  /* Specific color for light theme */\n",
       "  --sklearn-color-text-on-default-background: var(--sg-text-color, var(--theme-code-foreground, var(--jp-content-font-color1, black)));\n",
       "  --sklearn-color-background: var(--sg-background-color, var(--theme-background, var(--jp-layout-color0, white)));\n",
       "  --sklearn-color-border-box: var(--sg-text-color, var(--theme-code-foreground, var(--jp-content-font-color1, black)));\n",
       "  --sklearn-color-icon: #696969;\n",
       "\n",
       "  @media (prefers-color-scheme: dark) {\n",
       "    /* Redefinition of color scheme for dark theme */\n",
       "    --sklearn-color-text-on-default-background: var(--sg-text-color, var(--theme-code-foreground, var(--jp-content-font-color1, white)));\n",
       "    --sklearn-color-background: var(--sg-background-color, var(--theme-background, var(--jp-layout-color0, #111)));\n",
       "    --sklearn-color-border-box: var(--sg-text-color, var(--theme-code-foreground, var(--jp-content-font-color1, white)));\n",
       "    --sklearn-color-icon: #878787;\n",
       "  }\n",
       "}\n",
       "\n",
       "#sk-container-id-2 {\n",
       "  color: var(--sklearn-color-text);\n",
       "}\n",
       "\n",
       "#sk-container-id-2 pre {\n",
       "  padding: 0;\n",
       "}\n",
       "\n",
       "#sk-container-id-2 input.sk-hidden--visually {\n",
       "  border: 0;\n",
       "  clip: rect(1px 1px 1px 1px);\n",
       "  clip: rect(1px, 1px, 1px, 1px);\n",
       "  height: 1px;\n",
       "  margin: -1px;\n",
       "  overflow: hidden;\n",
       "  padding: 0;\n",
       "  position: absolute;\n",
       "  width: 1px;\n",
       "}\n",
       "\n",
       "#sk-container-id-2 div.sk-dashed-wrapped {\n",
       "  border: 1px dashed var(--sklearn-color-line);\n",
       "  margin: 0 0.4em 0.5em 0.4em;\n",
       "  box-sizing: border-box;\n",
       "  padding-bottom: 0.4em;\n",
       "  background-color: var(--sklearn-color-background);\n",
       "}\n",
       "\n",
       "#sk-container-id-2 div.sk-container {\n",
       "  /* jupyter's `normalize.less` sets `[hidden] { display: none; }`\n",
       "     but bootstrap.min.css set `[hidden] { display: none !important; }`\n",
       "     so we also need the `!important` here to be able to override the\n",
       "     default hidden behavior on the sphinx rendered scikit-learn.org.\n",
       "     See: https://github.com/scikit-learn/scikit-learn/issues/21755 */\n",
       "  display: inline-block !important;\n",
       "  position: relative;\n",
       "}\n",
       "\n",
       "#sk-container-id-2 div.sk-text-repr-fallback {\n",
       "  display: none;\n",
       "}\n",
       "\n",
       "div.sk-parallel-item,\n",
       "div.sk-serial,\n",
       "div.sk-item {\n",
       "  /* draw centered vertical line to link estimators */\n",
       "  background-image: linear-gradient(var(--sklearn-color-text-on-default-background), var(--sklearn-color-text-on-default-background));\n",
       "  background-size: 2px 100%;\n",
       "  background-repeat: no-repeat;\n",
       "  background-position: center center;\n",
       "}\n",
       "\n",
       "/* Parallel-specific style estimator block */\n",
       "\n",
       "#sk-container-id-2 div.sk-parallel-item::after {\n",
       "  content: \"\";\n",
       "  width: 100%;\n",
       "  border-bottom: 2px solid var(--sklearn-color-text-on-default-background);\n",
       "  flex-grow: 1;\n",
       "}\n",
       "\n",
       "#sk-container-id-2 div.sk-parallel {\n",
       "  display: flex;\n",
       "  align-items: stretch;\n",
       "  justify-content: center;\n",
       "  background-color: var(--sklearn-color-background);\n",
       "  position: relative;\n",
       "}\n",
       "\n",
       "#sk-container-id-2 div.sk-parallel-item {\n",
       "  display: flex;\n",
       "  flex-direction: column;\n",
       "}\n",
       "\n",
       "#sk-container-id-2 div.sk-parallel-item:first-child::after {\n",
       "  align-self: flex-end;\n",
       "  width: 50%;\n",
       "}\n",
       "\n",
       "#sk-container-id-2 div.sk-parallel-item:last-child::after {\n",
       "  align-self: flex-start;\n",
       "  width: 50%;\n",
       "}\n",
       "\n",
       "#sk-container-id-2 div.sk-parallel-item:only-child::after {\n",
       "  width: 0;\n",
       "}\n",
       "\n",
       "/* Serial-specific style estimator block */\n",
       "\n",
       "#sk-container-id-2 div.sk-serial {\n",
       "  display: flex;\n",
       "  flex-direction: column;\n",
       "  align-items: center;\n",
       "  background-color: var(--sklearn-color-background);\n",
       "  padding-right: 1em;\n",
       "  padding-left: 1em;\n",
       "}\n",
       "\n",
       "\n",
       "/* Toggleable style: style used for estimator/Pipeline/ColumnTransformer box that is\n",
       "clickable and can be expanded/collapsed.\n",
       "- Pipeline and ColumnTransformer use this feature and define the default style\n",
       "- Estimators will overwrite some part of the style using the `sk-estimator` class\n",
       "*/\n",
       "\n",
       "/* Pipeline and ColumnTransformer style (default) */\n",
       "\n",
       "#sk-container-id-2 div.sk-toggleable {\n",
       "  /* Default theme specific background. It is overwritten whether we have a\n",
       "  specific estimator or a Pipeline/ColumnTransformer */\n",
       "  background-color: var(--sklearn-color-background);\n",
       "}\n",
       "\n",
       "/* Toggleable label */\n",
       "#sk-container-id-2 label.sk-toggleable__label {\n",
       "  cursor: pointer;\n",
       "  display: flex;\n",
       "  width: 100%;\n",
       "  margin-bottom: 0;\n",
       "  padding: 0.5em;\n",
       "  box-sizing: border-box;\n",
       "  text-align: center;\n",
       "  align-items: start;\n",
       "  justify-content: space-between;\n",
       "  gap: 0.5em;\n",
       "}\n",
       "\n",
       "#sk-container-id-2 label.sk-toggleable__label .caption {\n",
       "  font-size: 0.6rem;\n",
       "  font-weight: lighter;\n",
       "  color: var(--sklearn-color-text-muted);\n",
       "}\n",
       "\n",
       "#sk-container-id-2 label.sk-toggleable__label-arrow:before {\n",
       "  /* Arrow on the left of the label */\n",
       "  content: \"▸\";\n",
       "  float: left;\n",
       "  margin-right: 0.25em;\n",
       "  color: var(--sklearn-color-icon);\n",
       "}\n",
       "\n",
       "#sk-container-id-2 label.sk-toggleable__label-arrow:hover:before {\n",
       "  color: var(--sklearn-color-text);\n",
       "}\n",
       "\n",
       "/* Toggleable content - dropdown */\n",
       "\n",
       "#sk-container-id-2 div.sk-toggleable__content {\n",
       "  max-height: 0;\n",
       "  max-width: 0;\n",
       "  overflow: hidden;\n",
       "  text-align: left;\n",
       "  /* unfitted */\n",
       "  background-color: var(--sklearn-color-unfitted-level-0);\n",
       "}\n",
       "\n",
       "#sk-container-id-2 div.sk-toggleable__content.fitted {\n",
       "  /* fitted */\n",
       "  background-color: var(--sklearn-color-fitted-level-0);\n",
       "}\n",
       "\n",
       "#sk-container-id-2 div.sk-toggleable__content pre {\n",
       "  margin: 0.2em;\n",
       "  border-radius: 0.25em;\n",
       "  color: var(--sklearn-color-text);\n",
       "  /* unfitted */\n",
       "  background-color: var(--sklearn-color-unfitted-level-0);\n",
       "}\n",
       "\n",
       "#sk-container-id-2 div.sk-toggleable__content.fitted pre {\n",
       "  /* unfitted */\n",
       "  background-color: var(--sklearn-color-fitted-level-0);\n",
       "}\n",
       "\n",
       "#sk-container-id-2 input.sk-toggleable__control:checked~div.sk-toggleable__content {\n",
       "  /* Expand drop-down */\n",
       "  max-height: 200px;\n",
       "  max-width: 100%;\n",
       "  overflow: auto;\n",
       "}\n",
       "\n",
       "#sk-container-id-2 input.sk-toggleable__control:checked~label.sk-toggleable__label-arrow:before {\n",
       "  content: \"▾\";\n",
       "}\n",
       "\n",
       "/* Pipeline/ColumnTransformer-specific style */\n",
       "\n",
       "#sk-container-id-2 div.sk-label input.sk-toggleable__control:checked~label.sk-toggleable__label {\n",
       "  color: var(--sklearn-color-text);\n",
       "  background-color: var(--sklearn-color-unfitted-level-2);\n",
       "}\n",
       "\n",
       "#sk-container-id-2 div.sk-label.fitted input.sk-toggleable__control:checked~label.sk-toggleable__label {\n",
       "  background-color: var(--sklearn-color-fitted-level-2);\n",
       "}\n",
       "\n",
       "/* Estimator-specific style */\n",
       "\n",
       "/* Colorize estimator box */\n",
       "#sk-container-id-2 div.sk-estimator input.sk-toggleable__control:checked~label.sk-toggleable__label {\n",
       "  /* unfitted */\n",
       "  background-color: var(--sklearn-color-unfitted-level-2);\n",
       "}\n",
       "\n",
       "#sk-container-id-2 div.sk-estimator.fitted input.sk-toggleable__control:checked~label.sk-toggleable__label {\n",
       "  /* fitted */\n",
       "  background-color: var(--sklearn-color-fitted-level-2);\n",
       "}\n",
       "\n",
       "#sk-container-id-2 div.sk-label label.sk-toggleable__label,\n",
       "#sk-container-id-2 div.sk-label label {\n",
       "  /* The background is the default theme color */\n",
       "  color: var(--sklearn-color-text-on-default-background);\n",
       "}\n",
       "\n",
       "/* On hover, darken the color of the background */\n",
       "#sk-container-id-2 div.sk-label:hover label.sk-toggleable__label {\n",
       "  color: var(--sklearn-color-text);\n",
       "  background-color: var(--sklearn-color-unfitted-level-2);\n",
       "}\n",
       "\n",
       "/* Label box, darken color on hover, fitted */\n",
       "#sk-container-id-2 div.sk-label.fitted:hover label.sk-toggleable__label.fitted {\n",
       "  color: var(--sklearn-color-text);\n",
       "  background-color: var(--sklearn-color-fitted-level-2);\n",
       "}\n",
       "\n",
       "/* Estimator label */\n",
       "\n",
       "#sk-container-id-2 div.sk-label label {\n",
       "  font-family: monospace;\n",
       "  font-weight: bold;\n",
       "  display: inline-block;\n",
       "  line-height: 1.2em;\n",
       "}\n",
       "\n",
       "#sk-container-id-2 div.sk-label-container {\n",
       "  text-align: center;\n",
       "}\n",
       "\n",
       "/* Estimator-specific */\n",
       "#sk-container-id-2 div.sk-estimator {\n",
       "  font-family: monospace;\n",
       "  border: 1px dotted var(--sklearn-color-border-box);\n",
       "  border-radius: 0.25em;\n",
       "  box-sizing: border-box;\n",
       "  margin-bottom: 0.5em;\n",
       "  /* unfitted */\n",
       "  background-color: var(--sklearn-color-unfitted-level-0);\n",
       "}\n",
       "\n",
       "#sk-container-id-2 div.sk-estimator.fitted {\n",
       "  /* fitted */\n",
       "  background-color: var(--sklearn-color-fitted-level-0);\n",
       "}\n",
       "\n",
       "/* on hover */\n",
       "#sk-container-id-2 div.sk-estimator:hover {\n",
       "  /* unfitted */\n",
       "  background-color: var(--sklearn-color-unfitted-level-2);\n",
       "}\n",
       "\n",
       "#sk-container-id-2 div.sk-estimator.fitted:hover {\n",
       "  /* fitted */\n",
       "  background-color: var(--sklearn-color-fitted-level-2);\n",
       "}\n",
       "\n",
       "/* Specification for estimator info (e.g. \"i\" and \"?\") */\n",
       "\n",
       "/* Common style for \"i\" and \"?\" */\n",
       "\n",
       ".sk-estimator-doc-link,\n",
       "a:link.sk-estimator-doc-link,\n",
       "a:visited.sk-estimator-doc-link {\n",
       "  float: right;\n",
       "  font-size: smaller;\n",
       "  line-height: 1em;\n",
       "  font-family: monospace;\n",
       "  background-color: var(--sklearn-color-background);\n",
       "  border-radius: 1em;\n",
       "  height: 1em;\n",
       "  width: 1em;\n",
       "  text-decoration: none !important;\n",
       "  margin-left: 0.5em;\n",
       "  text-align: center;\n",
       "  /* unfitted */\n",
       "  border: var(--sklearn-color-unfitted-level-1) 1pt solid;\n",
       "  color: var(--sklearn-color-unfitted-level-1);\n",
       "}\n",
       "\n",
       ".sk-estimator-doc-link.fitted,\n",
       "a:link.sk-estimator-doc-link.fitted,\n",
       "a:visited.sk-estimator-doc-link.fitted {\n",
       "  /* fitted */\n",
       "  border: var(--sklearn-color-fitted-level-1) 1pt solid;\n",
       "  color: var(--sklearn-color-fitted-level-1);\n",
       "}\n",
       "\n",
       "/* On hover */\n",
       "div.sk-estimator:hover .sk-estimator-doc-link:hover,\n",
       ".sk-estimator-doc-link:hover,\n",
       "div.sk-label-container:hover .sk-estimator-doc-link:hover,\n",
       ".sk-estimator-doc-link:hover {\n",
       "  /* unfitted */\n",
       "  background-color: var(--sklearn-color-unfitted-level-3);\n",
       "  color: var(--sklearn-color-background);\n",
       "  text-decoration: none;\n",
       "}\n",
       "\n",
       "div.sk-estimator.fitted:hover .sk-estimator-doc-link.fitted:hover,\n",
       ".sk-estimator-doc-link.fitted:hover,\n",
       "div.sk-label-container:hover .sk-estimator-doc-link.fitted:hover,\n",
       ".sk-estimator-doc-link.fitted:hover {\n",
       "  /* fitted */\n",
       "  background-color: var(--sklearn-color-fitted-level-3);\n",
       "  color: var(--sklearn-color-background);\n",
       "  text-decoration: none;\n",
       "}\n",
       "\n",
       "/* Span, style for the box shown on hovering the info icon */\n",
       ".sk-estimator-doc-link span {\n",
       "  display: none;\n",
       "  z-index: 9999;\n",
       "  position: relative;\n",
       "  font-weight: normal;\n",
       "  right: .2ex;\n",
       "  padding: .5ex;\n",
       "  margin: .5ex;\n",
       "  width: min-content;\n",
       "  min-width: 20ex;\n",
       "  max-width: 50ex;\n",
       "  color: var(--sklearn-color-text);\n",
       "  box-shadow: 2pt 2pt 4pt #999;\n",
       "  /* unfitted */\n",
       "  background: var(--sklearn-color-unfitted-level-0);\n",
       "  border: .5pt solid var(--sklearn-color-unfitted-level-3);\n",
       "}\n",
       "\n",
       ".sk-estimator-doc-link.fitted span {\n",
       "  /* fitted */\n",
       "  background: var(--sklearn-color-fitted-level-0);\n",
       "  border: var(--sklearn-color-fitted-level-3);\n",
       "}\n",
       "\n",
       ".sk-estimator-doc-link:hover span {\n",
       "  display: block;\n",
       "}\n",
       "\n",
       "/* \"?\"-specific style due to the `<a>` HTML tag */\n",
       "\n",
       "#sk-container-id-2 a.estimator_doc_link {\n",
       "  float: right;\n",
       "  font-size: 1rem;\n",
       "  line-height: 1em;\n",
       "  font-family: monospace;\n",
       "  background-color: var(--sklearn-color-background);\n",
       "  border-radius: 1rem;\n",
       "  height: 1rem;\n",
       "  width: 1rem;\n",
       "  text-decoration: none;\n",
       "  /* unfitted */\n",
       "  color: var(--sklearn-color-unfitted-level-1);\n",
       "  border: var(--sklearn-color-unfitted-level-1) 1pt solid;\n",
       "}\n",
       "\n",
       "#sk-container-id-2 a.estimator_doc_link.fitted {\n",
       "  /* fitted */\n",
       "  border: var(--sklearn-color-fitted-level-1) 1pt solid;\n",
       "  color: var(--sklearn-color-fitted-level-1);\n",
       "}\n",
       "\n",
       "/* On hover */\n",
       "#sk-container-id-2 a.estimator_doc_link:hover {\n",
       "  /* unfitted */\n",
       "  background-color: var(--sklearn-color-unfitted-level-3);\n",
       "  color: var(--sklearn-color-background);\n",
       "  text-decoration: none;\n",
       "}\n",
       "\n",
       "#sk-container-id-2 a.estimator_doc_link.fitted:hover {\n",
       "  /* fitted */\n",
       "  background-color: var(--sklearn-color-fitted-level-3);\n",
       "}\n",
       "</style><div id=\"sk-container-id-2\" class=\"sk-top-container\"><div class=\"sk-text-repr-fallback\"><pre>LinearRegression()</pre><b>In a Jupyter environment, please rerun this cell to show the HTML representation or trust the notebook. <br />On GitHub, the HTML representation is unable to render, please try loading this page with nbviewer.org.</b></div><div class=\"sk-container\" hidden><div class=\"sk-item\"><div class=\"sk-estimator fitted sk-toggleable\"><input class=\"sk-toggleable__control sk-hidden--visually\" id=\"sk-estimator-id-2\" type=\"checkbox\" checked><label for=\"sk-estimator-id-2\" class=\"sk-toggleable__label fitted sk-toggleable__label-arrow\"><div><div>LinearRegression</div></div><div><a class=\"sk-estimator-doc-link fitted\" rel=\"noreferrer\" target=\"_blank\" href=\"https://scikit-learn.org/1.6/modules/generated/sklearn.linear_model.LinearRegression.html\">?<span>Documentation for LinearRegression</span></a><span class=\"sk-estimator-doc-link fitted\">i<span>Fitted</span></span></div></label><div class=\"sk-toggleable__content fitted\"><pre>LinearRegression()</pre></div> </div></div></div></div>"
      ],
      "text/plain": [
       "LinearRegression()"
      ]
     },
     "execution_count": 65,
     "metadata": {},
     "output_type": "execute_result"
    }
   ],
   "source": [
    "model.fit(X_train,Y_train)"
   ]
  },
  {
   "cell_type": "code",
   "execution_count": 66,
   "id": "a0141e03-1cd9-4fd6-962b-776390182585",
   "metadata": {},
   "outputs": [],
   "source": [
    "Y_pred= model.predict(X_test)"
   ]
  },
  {
   "cell_type": "code",
   "execution_count": 73,
   "id": "a1de7bfe-01ba-48b2-b95a-7d0e4bc5b859",
   "metadata": {},
   "outputs": [],
   "source": [
    "from sklearn.metrics import mean_squared_error, r2_score"
   ]
  },
  {
   "cell_type": "code",
   "execution_count": 76,
   "id": "33297898-8acf-4e12-ae2a-6c9c5510adb7",
   "metadata": {},
   "outputs": [
    {
     "name": "stdout",
     "output_type": "stream",
     "text": [
      "R2 score: 0.83\n"
     ]
    }
   ],
   "source": [
    "r2 = r2_score(Y_test, Y_pred)\n",
    "print(\"R2 score:\", np.round(r2, 2))"
   ]
  },
  {
   "cell_type": "code",
   "execution_count": 77,
   "id": "af3d7269-e901-45c2-af9f-52a8ff8e0e80",
   "metadata": {},
   "outputs": [
    {
     "name": "stdout",
     "output_type": "stream",
     "text": [
      "MSE: 464.94\n"
     ]
    }
   ],
   "source": [
    "mse = mean_squared_error(Y_test, Y_pred)\n",
    "print(\"MSE:\", np.round(mse, 2))"
   ]
  },
  {
   "cell_type": "code",
   "execution_count": 78,
   "id": "2471fe2f-f356-4cd6-9c6c-283cf93aceb1",
   "metadata": {},
   "outputs": [
    {
     "name": "stdout",
     "output_type": "stream",
     "text": [
      "RMSE: 21.56\n"
     ]
    }
   ],
   "source": [
    "rmse = np.sqrt(mse)\n",
    "print(\"RMSE:\", np.round(rmse, 2))"
   ]
  },
  {
   "cell_type": "code",
   "execution_count": 89,
   "id": "3228672c-5019-49c1-9393-a53ca20708c6",
   "metadata": {},
   "outputs": [],
   "source": [
    "# model1"
   ]
  },
  {
   "cell_type": "code",
   "execution_count": 84,
   "id": "6a210223-0eb8-4488-8295-ca5e90d7a644",
   "metadata": {},
   "outputs": [],
   "source": [
    "import statsmodels.api as sm\n",
    "X_train_sm = sm.add_constant(X_train)  \n",
    "sm_model = sm.OLS(Y_train, X_train_sm).fit()"
   ]
  },
  {
   "cell_type": "code",
   "execution_count": 86,
   "id": "8fa15024-e440-46ad-80e6-f469ff2b5095",
   "metadata": {},
   "outputs": [
    {
     "data": {
      "text/html": [
       "<table class=\"simpletable\">\n",
       "<caption>OLS Regression Results</caption>\n",
       "<tr>\n",
       "  <th>Dep. Variable:</th>          <td>Price</td>      <th>  R-squared:         </th> <td>   0.841</td>\n",
       "</tr>\n",
       "<tr>\n",
       "  <th>Model:</th>                   <td>OLS</td>       <th>  Adj. R-squared:    </th> <td>   0.839</td>\n",
       "</tr>\n",
       "<tr>\n",
       "  <th>Method:</th>             <td>Least Squares</td>  <th>  F-statistic:       </th> <td>   524.7</td>\n",
       "</tr>\n",
       "<tr>\n",
       "  <th>Date:</th>             <td>Thu, 16 Oct 2025</td> <th>  Prob (F-statistic):</th>  <td>  0.00</td> \n",
       "</tr>\n",
       "<tr>\n",
       "  <th>Time:</th>                 <td>15:36:38</td>     <th>  Log-Likelihood:    </th> <td> -4478.9</td>\n",
       "</tr>\n",
       "<tr>\n",
       "  <th>No. Observations:</th>      <td>  1005</td>      <th>  AIC:               </th> <td>   8980.</td>\n",
       "</tr>\n",
       "<tr>\n",
       "  <th>Df Residuals:</th>          <td>   994</td>      <th>  BIC:               </th> <td>   9034.</td>\n",
       "</tr>\n",
       "<tr>\n",
       "  <th>Df Model:</th>              <td>    10</td>      <th>                     </th>     <td> </td>   \n",
       "</tr>\n",
       "<tr>\n",
       "  <th>Covariance Type:</th>      <td>nonrobust</td>    <th>                     </th>     <td> </td>   \n",
       "</tr>\n",
       "</table>\n",
       "<table class=\"simpletable\">\n",
       "<tr>\n",
       "      <td></td>         <th>coef</th>     <th>std err</th>      <th>t</th>      <th>P>|t|</th>  <th>[0.025</th>    <th>0.975]</th>  \n",
       "</tr>\n",
       "<tr>\n",
       "  <th>const</th>     <td>   74.7098</td> <td>    2.289</td> <td>   32.638</td> <td> 0.000</td> <td>   70.218</td> <td>   79.202</td>\n",
       "</tr>\n",
       "<tr>\n",
       "  <th>Age_08_04</th> <td>  -35.1701</td> <td>    1.031</td> <td>  -34.117</td> <td> 0.000</td> <td>  -37.193</td> <td>  -33.147</td>\n",
       "</tr>\n",
       "<tr>\n",
       "  <th>KM</th>        <td>  -10.8281</td> <td>    0.968</td> <td>  -11.182</td> <td> 0.000</td> <td>  -12.728</td> <td>   -8.928</td>\n",
       "</tr>\n",
       "<tr>\n",
       "  <th>HP</th>        <td>    8.8623</td> <td>    2.063</td> <td>    4.297</td> <td> 0.000</td> <td>    4.815</td> <td>   12.910</td>\n",
       "</tr>\n",
       "<tr>\n",
       "  <th>Automatic</th> <td>    2.2440</td> <td>    0.708</td> <td>    3.170</td> <td> 0.002</td> <td>    0.855</td> <td>    3.633</td>\n",
       "</tr>\n",
       "<tr>\n",
       "  <th>cc</th>        <td>   -4.0181</td> <td>    2.347</td> <td>   -1.712</td> <td> 0.087</td> <td>   -8.623</td> <td>    0.587</td>\n",
       "</tr>\n",
       "<tr>\n",
       "  <th>Doors</th>     <td>    2.4998</td> <td>    0.794</td> <td>    3.149</td> <td> 0.002</td> <td>    0.942</td> <td>    4.058</td>\n",
       "</tr>\n",
       "<tr>\n",
       "  <th>Cylinders</th> <td>-3.397e-14</td> <td> 1.07e-14</td> <td>   -3.160</td> <td> 0.002</td> <td>-5.51e-14</td> <td>-1.29e-14</td>\n",
       "</tr>\n",
       "<tr>\n",
       "  <th>Gears</th>     <td>    3.2269</td> <td>    0.677</td> <td>    4.769</td> <td> 0.000</td> <td>    1.899</td> <td>    4.555</td>\n",
       "</tr>\n",
       "<tr>\n",
       "  <th>Weight</th>    <td>    7.2159</td> <td>    1.429</td> <td>    5.051</td> <td> 0.000</td> <td>    4.412</td> <td>   10.019</td>\n",
       "</tr>\n",
       "<tr>\n",
       "  <th>CNG</th>       <td>    8.2261</td> <td>    5.290</td> <td>    1.555</td> <td> 0.120</td> <td>   -2.155</td> <td>   18.607</td>\n",
       "</tr>\n",
       "<tr>\n",
       "  <th>Diesel</th>    <td>   38.7322</td> <td>    6.717</td> <td>    5.767</td> <td> 0.000</td> <td>   25.552</td> <td>   51.913</td>\n",
       "</tr>\n",
       "<tr>\n",
       "  <th>Petrol</th>    <td>   27.7515</td> <td>    3.079</td> <td>    9.014</td> <td> 0.000</td> <td>   21.710</td> <td>   33.793</td>\n",
       "</tr>\n",
       "</table>\n",
       "<table class=\"simpletable\">\n",
       "<tr>\n",
       "  <th>Omnibus:</th>       <td>32.877</td> <th>  Durbin-Watson:     </th> <td>   1.993</td>\n",
       "</tr>\n",
       "<tr>\n",
       "  <th>Prob(Omnibus):</th> <td> 0.000</td> <th>  Jarque-Bera (JB):  </th> <td>  53.977</td>\n",
       "</tr>\n",
       "<tr>\n",
       "  <th>Skew:</th>          <td>-0.267</td> <th>  Prob(JB):          </th> <td>1.90e-12</td>\n",
       "</tr>\n",
       "<tr>\n",
       "  <th>Kurtosis:</th>      <td> 4.002</td> <th>  Cond. No.          </th> <td>9.37e+17</td>\n",
       "</tr>\n",
       "</table><br/><br/>Notes:<br/>[1] Standard Errors assume that the covariance matrix of the errors is correctly specified.<br/>[2] The smallest eigenvalue is 2.57e-33. This might indicate that there are<br/>strong multicollinearity problems or that the design matrix is singular."
      ],
      "text/latex": [
       "\\begin{center}\n",
       "\\begin{tabular}{lclc}\n",
       "\\toprule\n",
       "\\textbf{Dep. Variable:}    &      Price       & \\textbf{  R-squared:         } &     0.841   \\\\\n",
       "\\textbf{Model:}            &       OLS        & \\textbf{  Adj. R-squared:    } &     0.839   \\\\\n",
       "\\textbf{Method:}           &  Least Squares   & \\textbf{  F-statistic:       } &     524.7   \\\\\n",
       "\\textbf{Date:}             & Thu, 16 Oct 2025 & \\textbf{  Prob (F-statistic):} &     0.00    \\\\\n",
       "\\textbf{Time:}             &     15:36:38     & \\textbf{  Log-Likelihood:    } &   -4478.9   \\\\\n",
       "\\textbf{No. Observations:} &        1005      & \\textbf{  AIC:               } &     8980.   \\\\\n",
       "\\textbf{Df Residuals:}     &         994      & \\textbf{  BIC:               } &     9034.   \\\\\n",
       "\\textbf{Df Model:}         &          10      & \\textbf{                     } &             \\\\\n",
       "\\textbf{Covariance Type:}  &    nonrobust     & \\textbf{                     } &             \\\\\n",
       "\\bottomrule\n",
       "\\end{tabular}\n",
       "\\begin{tabular}{lcccccc}\n",
       "                     & \\textbf{coef} & \\textbf{std err} & \\textbf{t} & \\textbf{P$> |$t$|$} & \\textbf{[0.025} & \\textbf{0.975]}  \\\\\n",
       "\\midrule\n",
       "\\textbf{const}       &      74.7098  &        2.289     &    32.638  &         0.000        &       70.218    &       79.202     \\\\\n",
       "\\textbf{Age\\_08\\_04} &     -35.1701  &        1.031     &   -34.117  &         0.000        &      -37.193    &      -33.147     \\\\\n",
       "\\textbf{KM}          &     -10.8281  &        0.968     &   -11.182  &         0.000        &      -12.728    &       -8.928     \\\\\n",
       "\\textbf{HP}          &       8.8623  &        2.063     &     4.297  &         0.000        &        4.815    &       12.910     \\\\\n",
       "\\textbf{Automatic}   &       2.2440  &        0.708     &     3.170  &         0.002        &        0.855    &        3.633     \\\\\n",
       "\\textbf{cc}          &      -4.0181  &        2.347     &    -1.712  &         0.087        &       -8.623    &        0.587     \\\\\n",
       "\\textbf{Doors}       &       2.4998  &        0.794     &     3.149  &         0.002        &        0.942    &        4.058     \\\\\n",
       "\\textbf{Cylinders}   &   -3.397e-14  &     1.07e-14     &    -3.160  &         0.002        &    -5.51e-14    &    -1.29e-14     \\\\\n",
       "\\textbf{Gears}       &       3.2269  &        0.677     &     4.769  &         0.000        &        1.899    &        4.555     \\\\\n",
       "\\textbf{Weight}      &       7.2159  &        1.429     &     5.051  &         0.000        &        4.412    &       10.019     \\\\\n",
       "\\textbf{CNG}         &       8.2261  &        5.290     &     1.555  &         0.120        &       -2.155    &       18.607     \\\\\n",
       "\\textbf{Diesel}      &      38.7322  &        6.717     &     5.767  &         0.000        &       25.552    &       51.913     \\\\\n",
       "\\textbf{Petrol}      &      27.7515  &        3.079     &     9.014  &         0.000        &       21.710    &       33.793     \\\\\n",
       "\\bottomrule\n",
       "\\end{tabular}\n",
       "\\begin{tabular}{lclc}\n",
       "\\textbf{Omnibus:}       & 32.877 & \\textbf{  Durbin-Watson:     } &    1.993  \\\\\n",
       "\\textbf{Prob(Omnibus):} &  0.000 & \\textbf{  Jarque-Bera (JB):  } &   53.977  \\\\\n",
       "\\textbf{Skew:}          & -0.267 & \\textbf{  Prob(JB):          } & 1.90e-12  \\\\\n",
       "\\textbf{Kurtosis:}      &  4.002 & \\textbf{  Cond. No.          } & 9.37e+17  \\\\\n",
       "\\bottomrule\n",
       "\\end{tabular}\n",
       "%\\caption{OLS Regression Results}\n",
       "\\end{center}\n",
       "\n",
       "Notes: \\newline\n",
       " [1] Standard Errors assume that the covariance matrix of the errors is correctly specified. \\newline\n",
       " [2] The smallest eigenvalue is 2.57e-33. This might indicate that there are \\newline\n",
       " strong multicollinearity problems or that the design matrix is singular."
      ],
      "text/plain": [
       "<class 'statsmodels.iolib.summary.Summary'>\n",
       "\"\"\"\n",
       "                            OLS Regression Results                            \n",
       "==============================================================================\n",
       "Dep. Variable:                  Price   R-squared:                       0.841\n",
       "Model:                            OLS   Adj. R-squared:                  0.839\n",
       "Method:                 Least Squares   F-statistic:                     524.7\n",
       "Date:                Thu, 16 Oct 2025   Prob (F-statistic):               0.00\n",
       "Time:                        15:36:38   Log-Likelihood:                -4478.9\n",
       "No. Observations:                1005   AIC:                             8980.\n",
       "Df Residuals:                     994   BIC:                             9034.\n",
       "Df Model:                          10                                         \n",
       "Covariance Type:            nonrobust                                         \n",
       "==============================================================================\n",
       "                 coef    std err          t      P>|t|      [0.025      0.975]\n",
       "------------------------------------------------------------------------------\n",
       "const         74.7098      2.289     32.638      0.000      70.218      79.202\n",
       "Age_08_04    -35.1701      1.031    -34.117      0.000     -37.193     -33.147\n",
       "KM           -10.8281      0.968    -11.182      0.000     -12.728      -8.928\n",
       "HP             8.8623      2.063      4.297      0.000       4.815      12.910\n",
       "Automatic      2.2440      0.708      3.170      0.002       0.855       3.633\n",
       "cc            -4.0181      2.347     -1.712      0.087      -8.623       0.587\n",
       "Doors          2.4998      0.794      3.149      0.002       0.942       4.058\n",
       "Cylinders  -3.397e-14   1.07e-14     -3.160      0.002   -5.51e-14   -1.29e-14\n",
       "Gears          3.2269      0.677      4.769      0.000       1.899       4.555\n",
       "Weight         7.2159      1.429      5.051      0.000       4.412      10.019\n",
       "CNG            8.2261      5.290      1.555      0.120      -2.155      18.607\n",
       "Diesel        38.7322      6.717      5.767      0.000      25.552      51.913\n",
       "Petrol        27.7515      3.079      9.014      0.000      21.710      33.793\n",
       "==============================================================================\n",
       "Omnibus:                       32.877   Durbin-Watson:                   1.993\n",
       "Prob(Omnibus):                  0.000   Jarque-Bera (JB):               53.977\n",
       "Skew:                          -0.267   Prob(JB):                     1.90e-12\n",
       "Kurtosis:                       4.002   Cond. No.                     9.37e+17\n",
       "==============================================================================\n",
       "\n",
       "Notes:\n",
       "[1] Standard Errors assume that the covariance matrix of the errors is correctly specified.\n",
       "[2] The smallest eigenvalue is 2.57e-33. This might indicate that there are\n",
       "strong multicollinearity problems or that the design matrix is singular.\n",
       "\"\"\""
      ]
     },
     "execution_count": 86,
     "metadata": {},
     "output_type": "execute_result"
    }
   ],
   "source": [
    "sm_model.summary()"
   ]
  },
  {
   "cell_type": "code",
   "execution_count": 87,
   "id": "3ee40942-675f-4321-8ae7-fe0e99c68180",
   "metadata": {},
   "outputs": [],
   "source": [
    "# from the table we can observe cc and cng as insignificant so we can remove them"
   ]
  },
  {
   "cell_type": "code",
   "execution_count": 88,
   "id": "56f0515a-2942-412a-88c6-f4f2f079603c",
   "metadata": {},
   "outputs": [
    {
     "name": "stdout",
     "output_type": "stream",
     "text": [
      "VIF: 5.88\n"
     ]
    }
   ],
   "source": [
    "VIF = 1/(1-r2)\n",
    "print(\"VIF:\", np.round(VIF,2))"
   ]
  },
  {
   "cell_type": "code",
   "execution_count": 90,
   "id": "92df128c-dbfd-42ef-bad3-57d4c2285830",
   "metadata": {},
   "outputs": [],
   "source": [
    "# so I am removing them for model 2 "
   ]
  },
  {
   "cell_type": "code",
   "execution_count": 92,
   "id": "cb8be4b5-6bd4-4776-a1c0-cb3528c781db",
   "metadata": {},
   "outputs": [],
   "source": [
    "X_train_model2 = X_train[['Age_08_04', 'KM', 'HP', 'Automatic', 'Doors',\n",
    "                          'Cylinders', 'Gears', 'Weight', 'Petrol', 'Diesel']]"
   ]
  },
  {
   "cell_type": "code",
   "execution_count": 94,
   "id": "8d0e4b84-00b7-4747-bd47-c651b07121c9",
   "metadata": {},
   "outputs": [],
   "source": [
    "X_train_model2_sm = sm.add_constant(X_train_model2)\n",
    "sm_model2 = sm.OLS(Y_train, X_train_model2_sm).fit()"
   ]
  },
  {
   "cell_type": "code",
   "execution_count": 95,
   "id": "33dcba0e-9ae2-4d2d-b222-73ffdbf37cc6",
   "metadata": {},
   "outputs": [
    {
     "data": {
      "text/html": [
       "<table class=\"simpletable\">\n",
       "<caption>OLS Regression Results</caption>\n",
       "<tr>\n",
       "  <th>Dep. Variable:</th>          <td>Price</td>      <th>  R-squared:         </th> <td>   0.840</td>\n",
       "</tr>\n",
       "<tr>\n",
       "  <th>Model:</th>                   <td>OLS</td>       <th>  Adj. R-squared:    </th> <td>   0.839</td>\n",
       "</tr>\n",
       "<tr>\n",
       "  <th>Method:</th>             <td>Least Squares</td>  <th>  F-statistic:       </th> <td>   581.6</td>\n",
       "</tr>\n",
       "<tr>\n",
       "  <th>Date:</th>             <td>Thu, 16 Oct 2025</td> <th>  Prob (F-statistic):</th>  <td>  0.00</td> \n",
       "</tr>\n",
       "<tr>\n",
       "  <th>Time:</th>                 <td>15:52:35</td>     <th>  Log-Likelihood:    </th> <td> -4480.4</td>\n",
       "</tr>\n",
       "<tr>\n",
       "  <th>No. Observations:</th>      <td>  1005</td>      <th>  AIC:               </th> <td>   8981.</td>\n",
       "</tr>\n",
       "<tr>\n",
       "  <th>Df Residuals:</th>          <td>   995</td>      <th>  BIC:               </th> <td>   9030.</td>\n",
       "</tr>\n",
       "<tr>\n",
       "  <th>Df Model:</th>              <td>     9</td>      <th>                     </th>     <td> </td>   \n",
       "</tr>\n",
       "<tr>\n",
       "  <th>Covariance Type:</th>      <td>nonrobust</td>    <th>                     </th>     <td> </td>   \n",
       "</tr>\n",
       "</table>\n",
       "<table class=\"simpletable\">\n",
       "<tr>\n",
       "      <td></td>         <th>coef</th>     <th>std err</th>      <th>t</th>      <th>P>|t|</th>  <th>[0.025</th>    <th>0.975]</th>  \n",
       "</tr>\n",
       "<tr>\n",
       "  <th>const</th>     <td>   84.9708</td> <td>    6.274</td> <td>   13.544</td> <td> 0.000</td> <td>   72.660</td> <td>   97.282</td>\n",
       "</tr>\n",
       "<tr>\n",
       "  <th>Age_08_04</th> <td>  -35.5457</td> <td>    1.008</td> <td>  -35.256</td> <td> 0.000</td> <td>  -37.524</td> <td>  -33.567</td>\n",
       "</tr>\n",
       "<tr>\n",
       "  <th>KM</th>        <td>  -11.1438</td> <td>    0.952</td> <td>  -11.711</td> <td> 0.000</td> <td>  -13.011</td> <td>   -9.276</td>\n",
       "</tr>\n",
       "<tr>\n",
       "  <th>HP</th>        <td>    5.8147</td> <td>    1.044</td> <td>    5.572</td> <td> 0.000</td> <td>    3.767</td> <td>    7.863</td>\n",
       "</tr>\n",
       "<tr>\n",
       "  <th>Automatic</th> <td>    2.2532</td> <td>    0.708</td> <td>    3.180</td> <td> 0.002</td> <td>    0.863</td> <td>    3.644</td>\n",
       "</tr>\n",
       "<tr>\n",
       "  <th>Doors</th>     <td>    2.5739</td> <td>    0.793</td> <td>    3.244</td> <td> 0.001</td> <td>    1.017</td> <td>    4.131</td>\n",
       "</tr>\n",
       "<tr>\n",
       "  <th>Cylinders</th> <td> 2.808e-15</td> <td> 1.29e-15</td> <td>    2.182</td> <td> 0.029</td> <td> 2.82e-16</td> <td> 5.33e-15</td>\n",
       "</tr>\n",
       "<tr>\n",
       "  <th>Gears</th>     <td>    3.2867</td> <td>    0.676</td> <td>    4.859</td> <td> 0.000</td> <td>    1.959</td> <td>    4.614</td>\n",
       "</tr>\n",
       "<tr>\n",
       "  <th>Weight</th>    <td>    6.6042</td> <td>    1.385</td> <td>    4.770</td> <td> 0.000</td> <td>    3.887</td> <td>    9.321</td>\n",
       "</tr>\n",
       "<tr>\n",
       "  <th>Petrol</th>    <td>   18.9539</td> <td>    6.390</td> <td>    2.966</td> <td> 0.003</td> <td>    6.415</td> <td>   31.492</td>\n",
       "</tr>\n",
       "<tr>\n",
       "  <th>Diesel</th>    <td>   16.4969</td> <td>    7.167</td> <td>    2.302</td> <td> 0.022</td> <td>    2.433</td> <td>   30.561</td>\n",
       "</tr>\n",
       "</table>\n",
       "<table class=\"simpletable\">\n",
       "<tr>\n",
       "  <th>Omnibus:</th>       <td>32.889</td> <th>  Durbin-Watson:     </th> <td>   1.984</td>\n",
       "</tr>\n",
       "<tr>\n",
       "  <th>Prob(Omnibus):</th> <td> 0.000</td> <th>  Jarque-Bera (JB):  </th> <td>  52.768</td>\n",
       "</tr>\n",
       "<tr>\n",
       "  <th>Skew:</th>          <td>-0.275</td> <th>  Prob(JB):          </th> <td>3.48e-12</td>\n",
       "</tr>\n",
       "<tr>\n",
       "  <th>Kurtosis:</th>      <td> 3.979</td> <th>  Cond. No.          </th> <td>1.45e+16</td>\n",
       "</tr>\n",
       "</table><br/><br/>Notes:<br/>[1] Standard Errors assume that the covariance matrix of the errors is correctly specified.<br/>[2] The smallest eigenvalue is 9.37e-30. This might indicate that there are<br/>strong multicollinearity problems or that the design matrix is singular."
      ],
      "text/latex": [
       "\\begin{center}\n",
       "\\begin{tabular}{lclc}\n",
       "\\toprule\n",
       "\\textbf{Dep. Variable:}    &      Price       & \\textbf{  R-squared:         } &     0.840   \\\\\n",
       "\\textbf{Model:}            &       OLS        & \\textbf{  Adj. R-squared:    } &     0.839   \\\\\n",
       "\\textbf{Method:}           &  Least Squares   & \\textbf{  F-statistic:       } &     581.6   \\\\\n",
       "\\textbf{Date:}             & Thu, 16 Oct 2025 & \\textbf{  Prob (F-statistic):} &     0.00    \\\\\n",
       "\\textbf{Time:}             &     15:52:35     & \\textbf{  Log-Likelihood:    } &   -4480.4   \\\\\n",
       "\\textbf{No. Observations:} &        1005      & \\textbf{  AIC:               } &     8981.   \\\\\n",
       "\\textbf{Df Residuals:}     &         995      & \\textbf{  BIC:               } &     9030.   \\\\\n",
       "\\textbf{Df Model:}         &           9      & \\textbf{                     } &             \\\\\n",
       "\\textbf{Covariance Type:}  &    nonrobust     & \\textbf{                     } &             \\\\\n",
       "\\bottomrule\n",
       "\\end{tabular}\n",
       "\\begin{tabular}{lcccccc}\n",
       "                     & \\textbf{coef} & \\textbf{std err} & \\textbf{t} & \\textbf{P$> |$t$|$} & \\textbf{[0.025} & \\textbf{0.975]}  \\\\\n",
       "\\midrule\n",
       "\\textbf{const}       &      84.9708  &        6.274     &    13.544  &         0.000        &       72.660    &       97.282     \\\\\n",
       "\\textbf{Age\\_08\\_04} &     -35.5457  &        1.008     &   -35.256  &         0.000        &      -37.524    &      -33.567     \\\\\n",
       "\\textbf{KM}          &     -11.1438  &        0.952     &   -11.711  &         0.000        &      -13.011    &       -9.276     \\\\\n",
       "\\textbf{HP}          &       5.8147  &        1.044     &     5.572  &         0.000        &        3.767    &        7.863     \\\\\n",
       "\\textbf{Automatic}   &       2.2532  &        0.708     &     3.180  &         0.002        &        0.863    &        3.644     \\\\\n",
       "\\textbf{Doors}       &       2.5739  &        0.793     &     3.244  &         0.001        &        1.017    &        4.131     \\\\\n",
       "\\textbf{Cylinders}   &    2.808e-15  &     1.29e-15     &     2.182  &         0.029        &     2.82e-16    &     5.33e-15     \\\\\n",
       "\\textbf{Gears}       &       3.2867  &        0.676     &     4.859  &         0.000        &        1.959    &        4.614     \\\\\n",
       "\\textbf{Weight}      &       6.6042  &        1.385     &     4.770  &         0.000        &        3.887    &        9.321     \\\\\n",
       "\\textbf{Petrol}      &      18.9539  &        6.390     &     2.966  &         0.003        &        6.415    &       31.492     \\\\\n",
       "\\textbf{Diesel}      &      16.4969  &        7.167     &     2.302  &         0.022        &        2.433    &       30.561     \\\\\n",
       "\\bottomrule\n",
       "\\end{tabular}\n",
       "\\begin{tabular}{lclc}\n",
       "\\textbf{Omnibus:}       & 32.889 & \\textbf{  Durbin-Watson:     } &    1.984  \\\\\n",
       "\\textbf{Prob(Omnibus):} &  0.000 & \\textbf{  Jarque-Bera (JB):  } &   52.768  \\\\\n",
       "\\textbf{Skew:}          & -0.275 & \\textbf{  Prob(JB):          } & 3.48e-12  \\\\\n",
       "\\textbf{Kurtosis:}      &  3.979 & \\textbf{  Cond. No.          } & 1.45e+16  \\\\\n",
       "\\bottomrule\n",
       "\\end{tabular}\n",
       "%\\caption{OLS Regression Results}\n",
       "\\end{center}\n",
       "\n",
       "Notes: \\newline\n",
       " [1] Standard Errors assume that the covariance matrix of the errors is correctly specified. \\newline\n",
       " [2] The smallest eigenvalue is 9.37e-30. This might indicate that there are \\newline\n",
       " strong multicollinearity problems or that the design matrix is singular."
      ],
      "text/plain": [
       "<class 'statsmodels.iolib.summary.Summary'>\n",
       "\"\"\"\n",
       "                            OLS Regression Results                            \n",
       "==============================================================================\n",
       "Dep. Variable:                  Price   R-squared:                       0.840\n",
       "Model:                            OLS   Adj. R-squared:                  0.839\n",
       "Method:                 Least Squares   F-statistic:                     581.6\n",
       "Date:                Thu, 16 Oct 2025   Prob (F-statistic):               0.00\n",
       "Time:                        15:52:35   Log-Likelihood:                -4480.4\n",
       "No. Observations:                1005   AIC:                             8981.\n",
       "Df Residuals:                     995   BIC:                             9030.\n",
       "Df Model:                           9                                         \n",
       "Covariance Type:            nonrobust                                         \n",
       "==============================================================================\n",
       "                 coef    std err          t      P>|t|      [0.025      0.975]\n",
       "------------------------------------------------------------------------------\n",
       "const         84.9708      6.274     13.544      0.000      72.660      97.282\n",
       "Age_08_04    -35.5457      1.008    -35.256      0.000     -37.524     -33.567\n",
       "KM           -11.1438      0.952    -11.711      0.000     -13.011      -9.276\n",
       "HP             5.8147      1.044      5.572      0.000       3.767       7.863\n",
       "Automatic      2.2532      0.708      3.180      0.002       0.863       3.644\n",
       "Doors          2.5739      0.793      3.244      0.001       1.017       4.131\n",
       "Cylinders   2.808e-15   1.29e-15      2.182      0.029    2.82e-16    5.33e-15\n",
       "Gears          3.2867      0.676      4.859      0.000       1.959       4.614\n",
       "Weight         6.6042      1.385      4.770      0.000       3.887       9.321\n",
       "Petrol        18.9539      6.390      2.966      0.003       6.415      31.492\n",
       "Diesel        16.4969      7.167      2.302      0.022       2.433      30.561\n",
       "==============================================================================\n",
       "Omnibus:                       32.889   Durbin-Watson:                   1.984\n",
       "Prob(Omnibus):                  0.000   Jarque-Bera (JB):               52.768\n",
       "Skew:                          -0.275   Prob(JB):                     3.48e-12\n",
       "Kurtosis:                       3.979   Cond. No.                     1.45e+16\n",
       "==============================================================================\n",
       "\n",
       "Notes:\n",
       "[1] Standard Errors assume that the covariance matrix of the errors is correctly specified.\n",
       "[2] The smallest eigenvalue is 9.37e-30. This might indicate that there are\n",
       "strong multicollinearity problems or that the design matrix is singular.\n",
       "\"\"\""
      ]
     },
     "execution_count": 95,
     "metadata": {},
     "output_type": "execute_result"
    }
   ],
   "source": [
    "sm_model2.summary()"
   ]
  },
  {
   "cell_type": "code",
   "execution_count": 98,
   "id": "7500baf6-65af-439e-b2b9-2ae15d47e9b7",
   "metadata": {},
   "outputs": [],
   "source": [
    "# testing"
   ]
  },
  {
   "cell_type": "code",
   "execution_count": 101,
   "id": "3083aa5c-caa7-4277-8cd9-405631720234",
   "metadata": {},
   "outputs": [],
   "source": [
    "X_test_model2 = X_test[['Age_08_04', 'KM', 'HP', 'Automatic', 'Doors','Cylinders', 'Gears', 'Weight', 'Petrol', 'Diesel']]\n",
    "X_test_model2_sm = sm.add_constant(X_test_model2)"
   ]
  },
  {
   "cell_type": "code",
   "execution_count": 102,
   "id": "98f386d2-ff64-44aa-b1bb-8125a3c00bd0",
   "metadata": {},
   "outputs": [],
   "source": [
    "Y_pred_model2 = sm_model2.predict(X_test_model2_sm)"
   ]
  },
  {
   "cell_type": "code",
   "execution_count": 103,
   "id": "0c8d6f07-61ac-4c17-a0e8-5b0b5d6a9541",
   "metadata": {},
   "outputs": [],
   "source": [
    "from sklearn.metrics import mean_squared_error, r2_score"
   ]
  },
  {
   "cell_type": "code",
   "execution_count": 105,
   "id": "f7afc12a-7106-45f1-94f2-87f04465ec10",
   "metadata": {},
   "outputs": [
    {
     "name": "stdout",
     "output_type": "stream",
     "text": [
      "R2 score: 0.83\n"
     ]
    }
   ],
   "source": [
    "r2 = r2_score(Y_test, Y_pred_model2)\n",
    "print(\"R2 score:\", np.round(r2, 2))"
   ]
  },
  {
   "cell_type": "code",
   "execution_count": 106,
   "id": "c5b9c24e-59b5-4b57-9182-21351da7fcf6",
   "metadata": {},
   "outputs": [
    {
     "name": "stdout",
     "output_type": "stream",
     "text": [
      "MSE: 464.19\n"
     ]
    }
   ],
   "source": [
    "mse = mean_squared_error(Y_test, Y_pred_model2)\n",
    "print(\"MSE:\", np.round(mse, 2))"
   ]
  },
  {
   "cell_type": "code",
   "execution_count": 107,
   "id": "17e4e453-4231-49ef-ba0f-2e4ae97a6c30",
   "metadata": {},
   "outputs": [
    {
     "name": "stdout",
     "output_type": "stream",
     "text": [
      "RMSE: 21.54\n"
     ]
    }
   ],
   "source": [
    "rmse = np.sqrt(mse)\n",
    "print(\"RMSE:\", np.round(rmse, 2))"
   ]
  },
  {
   "cell_type": "code",
   "execution_count": 108,
   "id": "672b0f8b-d569-48be-b27e-1dd48e1a29a6",
   "metadata": {},
   "outputs": [
    {
     "name": "stdout",
     "output_type": "stream",
     "text": [
      "VIF: 5.89\n"
     ]
    }
   ],
   "source": [
    "VIF = 1/(1-r2)\n",
    "print(\"VIF:\", np.round(VIF,2))"
   ]
  },
  {
   "cell_type": "code",
   "execution_count": 110,
   "id": "725a5da9-00e3-4ae7-aa00-60c5208d4092",
   "metadata": {},
   "outputs": [],
   "source": [
    "# since there is no change I am removing other insignificant variables and proceeding with next model \n",
    "# model3"
   ]
  },
  {
   "cell_type": "code",
   "execution_count": 152,
   "id": "91e7a90f-dc0b-44b6-ae16-3c9bb8bb1d0c",
   "metadata": {},
   "outputs": [],
   "source": [
    "X_train_model3 = X_train[['Age_08_04','KM', 'HP', 'Weight', 'Automatic', 'Diesel']]\n",
    "X_test_model3 = X_test[['Age_08_04','KM', 'HP', 'Weight', 'Automatic', 'Diesel']]"
   ]
  },
  {
   "cell_type": "code",
   "execution_count": 153,
   "id": "f1f89cf1-1d1c-4316-9d51-7dd8daaf0a75",
   "metadata": {},
   "outputs": [],
   "source": [
    "import statsmodels.api as sm\n",
    "X_train_model3_sm = sm.add_constant(X_train_model3)"
   ]
  },
  {
   "cell_type": "code",
   "execution_count": 154,
   "id": "8a93638d-4c37-48db-88dc-1b2d2a66f149",
   "metadata": {},
   "outputs": [],
   "source": [
    "sm_model3 = sm.OLS(Y_train, X_train_model3_sm).fit()"
   ]
  },
  {
   "cell_type": "code",
   "execution_count": 155,
   "id": "d4da3d12-8d00-4932-9d60-74c147b2d47c",
   "metadata": {},
   "outputs": [
    {
     "data": {
      "text/html": [
       "<table class=\"simpletable\">\n",
       "<caption>OLS Regression Results</caption>\n",
       "<tr>\n",
       "  <th>Dep. Variable:</th>          <td>Price</td>      <th>  R-squared:         </th> <td>   0.834</td>\n",
       "</tr>\n",
       "<tr>\n",
       "  <th>Model:</th>                   <td>OLS</td>       <th>  Adj. R-squared:    </th> <td>   0.833</td>\n",
       "</tr>\n",
       "<tr>\n",
       "  <th>Method:</th>             <td>Least Squares</td>  <th>  F-statistic:       </th> <td>   832.8</td>\n",
       "</tr>\n",
       "<tr>\n",
       "  <th>Date:</th>             <td>Thu, 16 Oct 2025</td> <th>  Prob (F-statistic):</th>  <td>  0.00</td> \n",
       "</tr>\n",
       "<tr>\n",
       "  <th>Time:</th>                 <td>16:38:12</td>     <th>  Log-Likelihood:    </th> <td> -4501.1</td>\n",
       "</tr>\n",
       "<tr>\n",
       "  <th>No. Observations:</th>      <td>  1005</td>      <th>  AIC:               </th> <td>   9016.</td>\n",
       "</tr>\n",
       "<tr>\n",
       "  <th>Df Residuals:</th>          <td>   998</td>      <th>  BIC:               </th> <td>   9051.</td>\n",
       "</tr>\n",
       "<tr>\n",
       "  <th>Df Model:</th>              <td>     6</td>      <th>                     </th>     <td> </td>   \n",
       "</tr>\n",
       "<tr>\n",
       "  <th>Covariance Type:</th>      <td>nonrobust</td>    <th>                     </th>     <td> </td>   \n",
       "</tr>\n",
       "</table>\n",
       "<table class=\"simpletable\">\n",
       "<tr>\n",
       "      <td></td>         <th>coef</th>     <th>std err</th>      <th>t</th>      <th>P>|t|</th>  <th>[0.025</th>    <th>0.975]</th>  \n",
       "</tr>\n",
       "<tr>\n",
       "  <th>const</th>     <td>  103.9791</td> <td>    0.825</td> <td>  126.109</td> <td> 0.000</td> <td>  102.361</td> <td>  105.597</td>\n",
       "</tr>\n",
       "<tr>\n",
       "  <th>Age_08_04</th> <td>  -35.1637</td> <td>    1.022</td> <td>  -34.392</td> <td> 0.000</td> <td>  -37.170</td> <td>  -33.157</td>\n",
       "</tr>\n",
       "<tr>\n",
       "  <th>KM</th>        <td>  -11.3569</td> <td>    0.945</td> <td>  -12.015</td> <td> 0.000</td> <td>  -13.212</td> <td>   -9.502</td>\n",
       "</tr>\n",
       "<tr>\n",
       "  <th>HP</th>        <td>    5.9128</td> <td>    1.045</td> <td>    5.657</td> <td> 0.000</td> <td>    3.862</td> <td>    7.964</td>\n",
       "</tr>\n",
       "<tr>\n",
       "  <th>Weight</th>    <td>    8.2374</td> <td>    1.224</td> <td>    6.729</td> <td> 0.000</td> <td>    5.835</td> <td>   10.639</td>\n",
       "</tr>\n",
       "<tr>\n",
       "  <th>Automatic</th> <td>    1.4493</td> <td>    0.702</td> <td>    2.066</td> <td> 0.039</td> <td>    0.073</td> <td>    2.826</td>\n",
       "</tr>\n",
       "<tr>\n",
       "  <th>Diesel</th>    <td>   -5.3542</td> <td>    4.408</td> <td>   -1.215</td> <td> 0.225</td> <td>  -14.004</td> <td>    3.296</td>\n",
       "</tr>\n",
       "</table>\n",
       "<table class=\"simpletable\">\n",
       "<tr>\n",
       "  <th>Omnibus:</th>       <td>33.583</td> <th>  Durbin-Watson:     </th> <td>   1.987</td>\n",
       "</tr>\n",
       "<tr>\n",
       "  <th>Prob(Omnibus):</th> <td> 0.000</td> <th>  Jarque-Bera (JB):  </th> <td>  51.286</td>\n",
       "</tr>\n",
       "<tr>\n",
       "  <th>Skew:</th>          <td>-0.297</td> <th>  Prob(JB):          </th> <td>7.30e-12</td>\n",
       "</tr>\n",
       "<tr>\n",
       "  <th>Kurtosis:</th>      <td> 3.934</td> <th>  Cond. No.          </th> <td>    9.20</td>\n",
       "</tr>\n",
       "</table><br/><br/>Notes:<br/>[1] Standard Errors assume that the covariance matrix of the errors is correctly specified."
      ],
      "text/latex": [
       "\\begin{center}\n",
       "\\begin{tabular}{lclc}\n",
       "\\toprule\n",
       "\\textbf{Dep. Variable:}    &      Price       & \\textbf{  R-squared:         } &     0.834   \\\\\n",
       "\\textbf{Model:}            &       OLS        & \\textbf{  Adj. R-squared:    } &     0.833   \\\\\n",
       "\\textbf{Method:}           &  Least Squares   & \\textbf{  F-statistic:       } &     832.8   \\\\\n",
       "\\textbf{Date:}             & Thu, 16 Oct 2025 & \\textbf{  Prob (F-statistic):} &     0.00    \\\\\n",
       "\\textbf{Time:}             &     16:38:12     & \\textbf{  Log-Likelihood:    } &   -4501.1   \\\\\n",
       "\\textbf{No. Observations:} &        1005      & \\textbf{  AIC:               } &     9016.   \\\\\n",
       "\\textbf{Df Residuals:}     &         998      & \\textbf{  BIC:               } &     9051.   \\\\\n",
       "\\textbf{Df Model:}         &           6      & \\textbf{                     } &             \\\\\n",
       "\\textbf{Covariance Type:}  &    nonrobust     & \\textbf{                     } &             \\\\\n",
       "\\bottomrule\n",
       "\\end{tabular}\n",
       "\\begin{tabular}{lcccccc}\n",
       "                     & \\textbf{coef} & \\textbf{std err} & \\textbf{t} & \\textbf{P$> |$t$|$} & \\textbf{[0.025} & \\textbf{0.975]}  \\\\\n",
       "\\midrule\n",
       "\\textbf{const}       &     103.9791  &        0.825     &   126.109  &         0.000        &      102.361    &      105.597     \\\\\n",
       "\\textbf{Age\\_08\\_04} &     -35.1637  &        1.022     &   -34.392  &         0.000        &      -37.170    &      -33.157     \\\\\n",
       "\\textbf{KM}          &     -11.3569  &        0.945     &   -12.015  &         0.000        &      -13.212    &       -9.502     \\\\\n",
       "\\textbf{HP}          &       5.9128  &        1.045     &     5.657  &         0.000        &        3.862    &        7.964     \\\\\n",
       "\\textbf{Weight}      &       8.2374  &        1.224     &     6.729  &         0.000        &        5.835    &       10.639     \\\\\n",
       "\\textbf{Automatic}   &       1.4493  &        0.702     &     2.066  &         0.039        &        0.073    &        2.826     \\\\\n",
       "\\textbf{Diesel}      &      -5.3542  &        4.408     &    -1.215  &         0.225        &      -14.004    &        3.296     \\\\\n",
       "\\bottomrule\n",
       "\\end{tabular}\n",
       "\\begin{tabular}{lclc}\n",
       "\\textbf{Omnibus:}       & 33.583 & \\textbf{  Durbin-Watson:     } &    1.987  \\\\\n",
       "\\textbf{Prob(Omnibus):} &  0.000 & \\textbf{  Jarque-Bera (JB):  } &   51.286  \\\\\n",
       "\\textbf{Skew:}          & -0.297 & \\textbf{  Prob(JB):          } & 7.30e-12  \\\\\n",
       "\\textbf{Kurtosis:}      &  3.934 & \\textbf{  Cond. No.          } &     9.20  \\\\\n",
       "\\bottomrule\n",
       "\\end{tabular}\n",
       "%\\caption{OLS Regression Results}\n",
       "\\end{center}\n",
       "\n",
       "Notes: \\newline\n",
       " [1] Standard Errors assume that the covariance matrix of the errors is correctly specified."
      ],
      "text/plain": [
       "<class 'statsmodels.iolib.summary.Summary'>\n",
       "\"\"\"\n",
       "                            OLS Regression Results                            \n",
       "==============================================================================\n",
       "Dep. Variable:                  Price   R-squared:                       0.834\n",
       "Model:                            OLS   Adj. R-squared:                  0.833\n",
       "Method:                 Least Squares   F-statistic:                     832.8\n",
       "Date:                Thu, 16 Oct 2025   Prob (F-statistic):               0.00\n",
       "Time:                        16:38:12   Log-Likelihood:                -4501.1\n",
       "No. Observations:                1005   AIC:                             9016.\n",
       "Df Residuals:                     998   BIC:                             9051.\n",
       "Df Model:                           6                                         \n",
       "Covariance Type:            nonrobust                                         \n",
       "==============================================================================\n",
       "                 coef    std err          t      P>|t|      [0.025      0.975]\n",
       "------------------------------------------------------------------------------\n",
       "const        103.9791      0.825    126.109      0.000     102.361     105.597\n",
       "Age_08_04    -35.1637      1.022    -34.392      0.000     -37.170     -33.157\n",
       "KM           -11.3569      0.945    -12.015      0.000     -13.212      -9.502\n",
       "HP             5.9128      1.045      5.657      0.000       3.862       7.964\n",
       "Weight         8.2374      1.224      6.729      0.000       5.835      10.639\n",
       "Automatic      1.4493      0.702      2.066      0.039       0.073       2.826\n",
       "Diesel        -5.3542      4.408     -1.215      0.225     -14.004       3.296\n",
       "==============================================================================\n",
       "Omnibus:                       33.583   Durbin-Watson:                   1.987\n",
       "Prob(Omnibus):                  0.000   Jarque-Bera (JB):               51.286\n",
       "Skew:                          -0.297   Prob(JB):                     7.30e-12\n",
       "Kurtosis:                       3.934   Cond. No.                         9.20\n",
       "==============================================================================\n",
       "\n",
       "Notes:\n",
       "[1] Standard Errors assume that the covariance matrix of the errors is correctly specified.\n",
       "\"\"\""
      ]
     },
     "execution_count": 155,
     "metadata": {},
     "output_type": "execute_result"
    }
   ],
   "source": [
    "sm_model3.summary()"
   ]
  },
  {
   "cell_type": "code",
   "execution_count": 156,
   "id": "b5851f57-e196-4619-88c5-be1f624556d0",
   "metadata": {},
   "outputs": [],
   "source": [
    "# preparing testing model"
   ]
  },
  {
   "cell_type": "code",
   "execution_count": 157,
   "id": "a5c58cd5-b7a8-4455-8a9f-c4571945a105",
   "metadata": {},
   "outputs": [],
   "source": [
    "X_test_model3_sm = sm.add_constant(X_test_model3)"
   ]
  },
  {
   "cell_type": "code",
   "execution_count": 158,
   "id": "86f00c05-7456-4270-bcfb-1cabd2c6487d",
   "metadata": {},
   "outputs": [],
   "source": [
    "Y_pred_model3 = sm_model3.predict(X_test_model3_sm)"
   ]
  },
  {
   "cell_type": "code",
   "execution_count": 159,
   "id": "9a52e392-7274-4ab4-a10c-c146e5f3b9aa",
   "metadata": {},
   "outputs": [],
   "source": [
    "from sklearn.metrics import r2_score, mean_squared_error"
   ]
  },
  {
   "cell_type": "code",
   "execution_count": 160,
   "id": "5fcb2aa0-df93-4759-9a8b-a3ad5f6155bc",
   "metadata": {},
   "outputs": [
    {
     "name": "stdout",
     "output_type": "stream",
     "text": [
      "R2 score: 0.83\n"
     ]
    }
   ],
   "source": [
    "r2 = r2_score(Y_test, Y_pred_model3)\n",
    "print(\"R2 score:\", np.round(r2, 2))"
   ]
  },
  {
   "cell_type": "code",
   "execution_count": 161,
   "id": "853d467d-3675-44c5-a94b-ffea433a0f97",
   "metadata": {},
   "outputs": [
    {
     "name": "stdout",
     "output_type": "stream",
     "text": [
      "MSE: 464.44\n"
     ]
    }
   ],
   "source": [
    "mse = mean_squared_error(Y_test, Y_pred_model3)\n",
    "print(\"MSE:\", np.round(mse, 2))"
   ]
  },
  {
   "cell_type": "code",
   "execution_count": 162,
   "id": "6e0bba44-b4bc-41e5-abaf-72d5852ab9c1",
   "metadata": {},
   "outputs": [
    {
     "name": "stdout",
     "output_type": "stream",
     "text": [
      "RMSE: 21.55\n"
     ]
    }
   ],
   "source": [
    "rmse = np.sqrt(mse)\n",
    "print(\"RMSE:\", np.round(rmse, 2))"
   ]
  },
  {
   "cell_type": "code",
   "execution_count": 163,
   "id": "91d136a5-97f0-4cec-821f-bb042140a145",
   "metadata": {},
   "outputs": [],
   "source": [
    "# i am concluding this model 3 as the best fit model as of now because it has no multicollinearity\n",
    "# issues and i minimized the usage of the variables and even then i have the same metrics "
   ]
  },
  {
   "cell_type": "code",
   "execution_count": 164,
   "id": "e582165d-fe37-43e4-9559-f8b8166ef2a0",
   "metadata": {},
   "outputs": [],
   "source": [
    "from sklearn.linear_model import Lasso"
   ]
  },
  {
   "cell_type": "code",
   "execution_count": 165,
   "id": "92e517c6-7417-432f-b21e-cdecbcd65690",
   "metadata": {},
   "outputs": [
    {
     "data": {
      "text/html": [
       "<style>#sk-container-id-5 {\n",
       "  /* Definition of color scheme common for light and dark mode */\n",
       "  --sklearn-color-text: #000;\n",
       "  --sklearn-color-text-muted: #666;\n",
       "  --sklearn-color-line: gray;\n",
       "  /* Definition of color scheme for unfitted estimators */\n",
       "  --sklearn-color-unfitted-level-0: #fff5e6;\n",
       "  --sklearn-color-unfitted-level-1: #f6e4d2;\n",
       "  --sklearn-color-unfitted-level-2: #ffe0b3;\n",
       "  --sklearn-color-unfitted-level-3: chocolate;\n",
       "  /* Definition of color scheme for fitted estimators */\n",
       "  --sklearn-color-fitted-level-0: #f0f8ff;\n",
       "  --sklearn-color-fitted-level-1: #d4ebff;\n",
       "  --sklearn-color-fitted-level-2: #b3dbfd;\n",
       "  --sklearn-color-fitted-level-3: cornflowerblue;\n",
       "\n",
       "  /* Specific color for light theme */\n",
       "  --sklearn-color-text-on-default-background: var(--sg-text-color, var(--theme-code-foreground, var(--jp-content-font-color1, black)));\n",
       "  --sklearn-color-background: var(--sg-background-color, var(--theme-background, var(--jp-layout-color0, white)));\n",
       "  --sklearn-color-border-box: var(--sg-text-color, var(--theme-code-foreground, var(--jp-content-font-color1, black)));\n",
       "  --sklearn-color-icon: #696969;\n",
       "\n",
       "  @media (prefers-color-scheme: dark) {\n",
       "    /* Redefinition of color scheme for dark theme */\n",
       "    --sklearn-color-text-on-default-background: var(--sg-text-color, var(--theme-code-foreground, var(--jp-content-font-color1, white)));\n",
       "    --sklearn-color-background: var(--sg-background-color, var(--theme-background, var(--jp-layout-color0, #111)));\n",
       "    --sklearn-color-border-box: var(--sg-text-color, var(--theme-code-foreground, var(--jp-content-font-color1, white)));\n",
       "    --sklearn-color-icon: #878787;\n",
       "  }\n",
       "}\n",
       "\n",
       "#sk-container-id-5 {\n",
       "  color: var(--sklearn-color-text);\n",
       "}\n",
       "\n",
       "#sk-container-id-5 pre {\n",
       "  padding: 0;\n",
       "}\n",
       "\n",
       "#sk-container-id-5 input.sk-hidden--visually {\n",
       "  border: 0;\n",
       "  clip: rect(1px 1px 1px 1px);\n",
       "  clip: rect(1px, 1px, 1px, 1px);\n",
       "  height: 1px;\n",
       "  margin: -1px;\n",
       "  overflow: hidden;\n",
       "  padding: 0;\n",
       "  position: absolute;\n",
       "  width: 1px;\n",
       "}\n",
       "\n",
       "#sk-container-id-5 div.sk-dashed-wrapped {\n",
       "  border: 1px dashed var(--sklearn-color-line);\n",
       "  margin: 0 0.4em 0.5em 0.4em;\n",
       "  box-sizing: border-box;\n",
       "  padding-bottom: 0.4em;\n",
       "  background-color: var(--sklearn-color-background);\n",
       "}\n",
       "\n",
       "#sk-container-id-5 div.sk-container {\n",
       "  /* jupyter's `normalize.less` sets `[hidden] { display: none; }`\n",
       "     but bootstrap.min.css set `[hidden] { display: none !important; }`\n",
       "     so we also need the `!important` here to be able to override the\n",
       "     default hidden behavior on the sphinx rendered scikit-learn.org.\n",
       "     See: https://github.com/scikit-learn/scikit-learn/issues/21755 */\n",
       "  display: inline-block !important;\n",
       "  position: relative;\n",
       "}\n",
       "\n",
       "#sk-container-id-5 div.sk-text-repr-fallback {\n",
       "  display: none;\n",
       "}\n",
       "\n",
       "div.sk-parallel-item,\n",
       "div.sk-serial,\n",
       "div.sk-item {\n",
       "  /* draw centered vertical line to link estimators */\n",
       "  background-image: linear-gradient(var(--sklearn-color-text-on-default-background), var(--sklearn-color-text-on-default-background));\n",
       "  background-size: 2px 100%;\n",
       "  background-repeat: no-repeat;\n",
       "  background-position: center center;\n",
       "}\n",
       "\n",
       "/* Parallel-specific style estimator block */\n",
       "\n",
       "#sk-container-id-5 div.sk-parallel-item::after {\n",
       "  content: \"\";\n",
       "  width: 100%;\n",
       "  border-bottom: 2px solid var(--sklearn-color-text-on-default-background);\n",
       "  flex-grow: 1;\n",
       "}\n",
       "\n",
       "#sk-container-id-5 div.sk-parallel {\n",
       "  display: flex;\n",
       "  align-items: stretch;\n",
       "  justify-content: center;\n",
       "  background-color: var(--sklearn-color-background);\n",
       "  position: relative;\n",
       "}\n",
       "\n",
       "#sk-container-id-5 div.sk-parallel-item {\n",
       "  display: flex;\n",
       "  flex-direction: column;\n",
       "}\n",
       "\n",
       "#sk-container-id-5 div.sk-parallel-item:first-child::after {\n",
       "  align-self: flex-end;\n",
       "  width: 50%;\n",
       "}\n",
       "\n",
       "#sk-container-id-5 div.sk-parallel-item:last-child::after {\n",
       "  align-self: flex-start;\n",
       "  width: 50%;\n",
       "}\n",
       "\n",
       "#sk-container-id-5 div.sk-parallel-item:only-child::after {\n",
       "  width: 0;\n",
       "}\n",
       "\n",
       "/* Serial-specific style estimator block */\n",
       "\n",
       "#sk-container-id-5 div.sk-serial {\n",
       "  display: flex;\n",
       "  flex-direction: column;\n",
       "  align-items: center;\n",
       "  background-color: var(--sklearn-color-background);\n",
       "  padding-right: 1em;\n",
       "  padding-left: 1em;\n",
       "}\n",
       "\n",
       "\n",
       "/* Toggleable style: style used for estimator/Pipeline/ColumnTransformer box that is\n",
       "clickable and can be expanded/collapsed.\n",
       "- Pipeline and ColumnTransformer use this feature and define the default style\n",
       "- Estimators will overwrite some part of the style using the `sk-estimator` class\n",
       "*/\n",
       "\n",
       "/* Pipeline and ColumnTransformer style (default) */\n",
       "\n",
       "#sk-container-id-5 div.sk-toggleable {\n",
       "  /* Default theme specific background. It is overwritten whether we have a\n",
       "  specific estimator or a Pipeline/ColumnTransformer */\n",
       "  background-color: var(--sklearn-color-background);\n",
       "}\n",
       "\n",
       "/* Toggleable label */\n",
       "#sk-container-id-5 label.sk-toggleable__label {\n",
       "  cursor: pointer;\n",
       "  display: flex;\n",
       "  width: 100%;\n",
       "  margin-bottom: 0;\n",
       "  padding: 0.5em;\n",
       "  box-sizing: border-box;\n",
       "  text-align: center;\n",
       "  align-items: start;\n",
       "  justify-content: space-between;\n",
       "  gap: 0.5em;\n",
       "}\n",
       "\n",
       "#sk-container-id-5 label.sk-toggleable__label .caption {\n",
       "  font-size: 0.6rem;\n",
       "  font-weight: lighter;\n",
       "  color: var(--sklearn-color-text-muted);\n",
       "}\n",
       "\n",
       "#sk-container-id-5 label.sk-toggleable__label-arrow:before {\n",
       "  /* Arrow on the left of the label */\n",
       "  content: \"▸\";\n",
       "  float: left;\n",
       "  margin-right: 0.25em;\n",
       "  color: var(--sklearn-color-icon);\n",
       "}\n",
       "\n",
       "#sk-container-id-5 label.sk-toggleable__label-arrow:hover:before {\n",
       "  color: var(--sklearn-color-text);\n",
       "}\n",
       "\n",
       "/* Toggleable content - dropdown */\n",
       "\n",
       "#sk-container-id-5 div.sk-toggleable__content {\n",
       "  max-height: 0;\n",
       "  max-width: 0;\n",
       "  overflow: hidden;\n",
       "  text-align: left;\n",
       "  /* unfitted */\n",
       "  background-color: var(--sklearn-color-unfitted-level-0);\n",
       "}\n",
       "\n",
       "#sk-container-id-5 div.sk-toggleable__content.fitted {\n",
       "  /* fitted */\n",
       "  background-color: var(--sklearn-color-fitted-level-0);\n",
       "}\n",
       "\n",
       "#sk-container-id-5 div.sk-toggleable__content pre {\n",
       "  margin: 0.2em;\n",
       "  border-radius: 0.25em;\n",
       "  color: var(--sklearn-color-text);\n",
       "  /* unfitted */\n",
       "  background-color: var(--sklearn-color-unfitted-level-0);\n",
       "}\n",
       "\n",
       "#sk-container-id-5 div.sk-toggleable__content.fitted pre {\n",
       "  /* unfitted */\n",
       "  background-color: var(--sklearn-color-fitted-level-0);\n",
       "}\n",
       "\n",
       "#sk-container-id-5 input.sk-toggleable__control:checked~div.sk-toggleable__content {\n",
       "  /* Expand drop-down */\n",
       "  max-height: 200px;\n",
       "  max-width: 100%;\n",
       "  overflow: auto;\n",
       "}\n",
       "\n",
       "#sk-container-id-5 input.sk-toggleable__control:checked~label.sk-toggleable__label-arrow:before {\n",
       "  content: \"▾\";\n",
       "}\n",
       "\n",
       "/* Pipeline/ColumnTransformer-specific style */\n",
       "\n",
       "#sk-container-id-5 div.sk-label input.sk-toggleable__control:checked~label.sk-toggleable__label {\n",
       "  color: var(--sklearn-color-text);\n",
       "  background-color: var(--sklearn-color-unfitted-level-2);\n",
       "}\n",
       "\n",
       "#sk-container-id-5 div.sk-label.fitted input.sk-toggleable__control:checked~label.sk-toggleable__label {\n",
       "  background-color: var(--sklearn-color-fitted-level-2);\n",
       "}\n",
       "\n",
       "/* Estimator-specific style */\n",
       "\n",
       "/* Colorize estimator box */\n",
       "#sk-container-id-5 div.sk-estimator input.sk-toggleable__control:checked~label.sk-toggleable__label {\n",
       "  /* unfitted */\n",
       "  background-color: var(--sklearn-color-unfitted-level-2);\n",
       "}\n",
       "\n",
       "#sk-container-id-5 div.sk-estimator.fitted input.sk-toggleable__control:checked~label.sk-toggleable__label {\n",
       "  /* fitted */\n",
       "  background-color: var(--sklearn-color-fitted-level-2);\n",
       "}\n",
       "\n",
       "#sk-container-id-5 div.sk-label label.sk-toggleable__label,\n",
       "#sk-container-id-5 div.sk-label label {\n",
       "  /* The background is the default theme color */\n",
       "  color: var(--sklearn-color-text-on-default-background);\n",
       "}\n",
       "\n",
       "/* On hover, darken the color of the background */\n",
       "#sk-container-id-5 div.sk-label:hover label.sk-toggleable__label {\n",
       "  color: var(--sklearn-color-text);\n",
       "  background-color: var(--sklearn-color-unfitted-level-2);\n",
       "}\n",
       "\n",
       "/* Label box, darken color on hover, fitted */\n",
       "#sk-container-id-5 div.sk-label.fitted:hover label.sk-toggleable__label.fitted {\n",
       "  color: var(--sklearn-color-text);\n",
       "  background-color: var(--sklearn-color-fitted-level-2);\n",
       "}\n",
       "\n",
       "/* Estimator label */\n",
       "\n",
       "#sk-container-id-5 div.sk-label label {\n",
       "  font-family: monospace;\n",
       "  font-weight: bold;\n",
       "  display: inline-block;\n",
       "  line-height: 1.2em;\n",
       "}\n",
       "\n",
       "#sk-container-id-5 div.sk-label-container {\n",
       "  text-align: center;\n",
       "}\n",
       "\n",
       "/* Estimator-specific */\n",
       "#sk-container-id-5 div.sk-estimator {\n",
       "  font-family: monospace;\n",
       "  border: 1px dotted var(--sklearn-color-border-box);\n",
       "  border-radius: 0.25em;\n",
       "  box-sizing: border-box;\n",
       "  margin-bottom: 0.5em;\n",
       "  /* unfitted */\n",
       "  background-color: var(--sklearn-color-unfitted-level-0);\n",
       "}\n",
       "\n",
       "#sk-container-id-5 div.sk-estimator.fitted {\n",
       "  /* fitted */\n",
       "  background-color: var(--sklearn-color-fitted-level-0);\n",
       "}\n",
       "\n",
       "/* on hover */\n",
       "#sk-container-id-5 div.sk-estimator:hover {\n",
       "  /* unfitted */\n",
       "  background-color: var(--sklearn-color-unfitted-level-2);\n",
       "}\n",
       "\n",
       "#sk-container-id-5 div.sk-estimator.fitted:hover {\n",
       "  /* fitted */\n",
       "  background-color: var(--sklearn-color-fitted-level-2);\n",
       "}\n",
       "\n",
       "/* Specification for estimator info (e.g. \"i\" and \"?\") */\n",
       "\n",
       "/* Common style for \"i\" and \"?\" */\n",
       "\n",
       ".sk-estimator-doc-link,\n",
       "a:link.sk-estimator-doc-link,\n",
       "a:visited.sk-estimator-doc-link {\n",
       "  float: right;\n",
       "  font-size: smaller;\n",
       "  line-height: 1em;\n",
       "  font-family: monospace;\n",
       "  background-color: var(--sklearn-color-background);\n",
       "  border-radius: 1em;\n",
       "  height: 1em;\n",
       "  width: 1em;\n",
       "  text-decoration: none !important;\n",
       "  margin-left: 0.5em;\n",
       "  text-align: center;\n",
       "  /* unfitted */\n",
       "  border: var(--sklearn-color-unfitted-level-1) 1pt solid;\n",
       "  color: var(--sklearn-color-unfitted-level-1);\n",
       "}\n",
       "\n",
       ".sk-estimator-doc-link.fitted,\n",
       "a:link.sk-estimator-doc-link.fitted,\n",
       "a:visited.sk-estimator-doc-link.fitted {\n",
       "  /* fitted */\n",
       "  border: var(--sklearn-color-fitted-level-1) 1pt solid;\n",
       "  color: var(--sklearn-color-fitted-level-1);\n",
       "}\n",
       "\n",
       "/* On hover */\n",
       "div.sk-estimator:hover .sk-estimator-doc-link:hover,\n",
       ".sk-estimator-doc-link:hover,\n",
       "div.sk-label-container:hover .sk-estimator-doc-link:hover,\n",
       ".sk-estimator-doc-link:hover {\n",
       "  /* unfitted */\n",
       "  background-color: var(--sklearn-color-unfitted-level-3);\n",
       "  color: var(--sklearn-color-background);\n",
       "  text-decoration: none;\n",
       "}\n",
       "\n",
       "div.sk-estimator.fitted:hover .sk-estimator-doc-link.fitted:hover,\n",
       ".sk-estimator-doc-link.fitted:hover,\n",
       "div.sk-label-container:hover .sk-estimator-doc-link.fitted:hover,\n",
       ".sk-estimator-doc-link.fitted:hover {\n",
       "  /* fitted */\n",
       "  background-color: var(--sklearn-color-fitted-level-3);\n",
       "  color: var(--sklearn-color-background);\n",
       "  text-decoration: none;\n",
       "}\n",
       "\n",
       "/* Span, style for the box shown on hovering the info icon */\n",
       ".sk-estimator-doc-link span {\n",
       "  display: none;\n",
       "  z-index: 9999;\n",
       "  position: relative;\n",
       "  font-weight: normal;\n",
       "  right: .2ex;\n",
       "  padding: .5ex;\n",
       "  margin: .5ex;\n",
       "  width: min-content;\n",
       "  min-width: 20ex;\n",
       "  max-width: 50ex;\n",
       "  color: var(--sklearn-color-text);\n",
       "  box-shadow: 2pt 2pt 4pt #999;\n",
       "  /* unfitted */\n",
       "  background: var(--sklearn-color-unfitted-level-0);\n",
       "  border: .5pt solid var(--sklearn-color-unfitted-level-3);\n",
       "}\n",
       "\n",
       ".sk-estimator-doc-link.fitted span {\n",
       "  /* fitted */\n",
       "  background: var(--sklearn-color-fitted-level-0);\n",
       "  border: var(--sklearn-color-fitted-level-3);\n",
       "}\n",
       "\n",
       ".sk-estimator-doc-link:hover span {\n",
       "  display: block;\n",
       "}\n",
       "\n",
       "/* \"?\"-specific style due to the `<a>` HTML tag */\n",
       "\n",
       "#sk-container-id-5 a.estimator_doc_link {\n",
       "  float: right;\n",
       "  font-size: 1rem;\n",
       "  line-height: 1em;\n",
       "  font-family: monospace;\n",
       "  background-color: var(--sklearn-color-background);\n",
       "  border-radius: 1rem;\n",
       "  height: 1rem;\n",
       "  width: 1rem;\n",
       "  text-decoration: none;\n",
       "  /* unfitted */\n",
       "  color: var(--sklearn-color-unfitted-level-1);\n",
       "  border: var(--sklearn-color-unfitted-level-1) 1pt solid;\n",
       "}\n",
       "\n",
       "#sk-container-id-5 a.estimator_doc_link.fitted {\n",
       "  /* fitted */\n",
       "  border: var(--sklearn-color-fitted-level-1) 1pt solid;\n",
       "  color: var(--sklearn-color-fitted-level-1);\n",
       "}\n",
       "\n",
       "/* On hover */\n",
       "#sk-container-id-5 a.estimator_doc_link:hover {\n",
       "  /* unfitted */\n",
       "  background-color: var(--sklearn-color-unfitted-level-3);\n",
       "  color: var(--sklearn-color-background);\n",
       "  text-decoration: none;\n",
       "}\n",
       "\n",
       "#sk-container-id-5 a.estimator_doc_link.fitted:hover {\n",
       "  /* fitted */\n",
       "  background-color: var(--sklearn-color-fitted-level-3);\n",
       "}\n",
       "</style><div id=\"sk-container-id-5\" class=\"sk-top-container\"><div class=\"sk-text-repr-fallback\"><pre>Lasso(alpha=0.1)</pre><b>In a Jupyter environment, please rerun this cell to show the HTML representation or trust the notebook. <br />On GitHub, the HTML representation is unable to render, please try loading this page with nbviewer.org.</b></div><div class=\"sk-container\" hidden><div class=\"sk-item\"><div class=\"sk-estimator fitted sk-toggleable\"><input class=\"sk-toggleable__control sk-hidden--visually\" id=\"sk-estimator-id-5\" type=\"checkbox\" checked><label for=\"sk-estimator-id-5\" class=\"sk-toggleable__label fitted sk-toggleable__label-arrow\"><div><div>Lasso</div></div><div><a class=\"sk-estimator-doc-link fitted\" rel=\"noreferrer\" target=\"_blank\" href=\"https://scikit-learn.org/1.6/modules/generated/sklearn.linear_model.Lasso.html\">?<span>Documentation for Lasso</span></a><span class=\"sk-estimator-doc-link fitted\">i<span>Fitted</span></span></div></label><div class=\"sk-toggleable__content fitted\"><pre>Lasso(alpha=0.1)</pre></div> </div></div></div></div>"
      ],
      "text/plain": [
       "Lasso(alpha=0.1)"
      ]
     },
     "execution_count": 165,
     "metadata": {},
     "output_type": "execute_result"
    }
   ],
   "source": [
    "lasso_model = Lasso(alpha=0.1) \n",
    "lasso_model.fit(X_train_model3, Y_train)"
   ]
  },
  {
   "cell_type": "code",
   "execution_count": 166,
   "id": "972ac5a1-35fe-4c6f-8b8a-b6d693540262",
   "metadata": {},
   "outputs": [],
   "source": [
    "Y_pred_lasso = lasso_model.predict(X_test_model3)"
   ]
  },
  {
   "cell_type": "code",
   "execution_count": 167,
   "id": "389caac6-2a1b-43a7-9940-7f496b862d36",
   "metadata": {},
   "outputs": [
    {
     "name": "stdout",
     "output_type": "stream",
     "text": [
      "R2: 0.83\n"
     ]
    }
   ],
   "source": [
    "r2_lasso = r2_score(Y_test, Y_pred_lasso)\n",
    "print(\"R2:\", np.round(r2_lasso, 2))"
   ]
  },
  {
   "cell_type": "code",
   "execution_count": 168,
   "id": "e67b10e0-2039-48e0-bad4-3fa36d3846f0",
   "metadata": {},
   "outputs": [
    {
     "name": "stdout",
     "output_type": "stream",
     "text": [
      "MSE: 462.83\n"
     ]
    }
   ],
   "source": [
    "mse_lasso = mean_squared_error(Y_test, Y_pred_lasso)\n",
    "print(\"MSE:\", np.round(mse_lasso, 2))"
   ]
  },
  {
   "cell_type": "code",
   "execution_count": 169,
   "id": "30b113e7-18e2-4dc1-9281-20c5c5e460e8",
   "metadata": {},
   "outputs": [
    {
     "name": "stdout",
     "output_type": "stream",
     "text": [
      "RMSE: 21.51\n"
     ]
    }
   ],
   "source": [
    "rmse_lasso = np.sqrt(mse_lasso)\n",
    "print(\"RMSE:\", np.round(rmse_lasso, 2))"
   ]
  },
  {
   "cell_type": "code",
   "execution_count": 170,
   "id": "c0c48e88-33f5-45ed-9b09-6cff64daa8d0",
   "metadata": {},
   "outputs": [
    {
     "name": "stdout",
     "output_type": "stream",
     "text": [
      "Coefficients: [-35.22377471 -11.47989699   6.5192418    7.3829674    1.51930559\n",
      "  -1.42985869]\n"
     ]
    }
   ],
   "source": [
    "print(\"Coefficients:\", lasso_model.coef_)"
   ]
  },
  {
   "cell_type": "code",
   "execution_count": 171,
   "id": "5615cb88-5c67-476a-9f16-3a8de297d781",
   "metadata": {},
   "outputs": [],
   "source": [
    "# ridge regression"
   ]
  },
  {
   "cell_type": "code",
   "execution_count": 172,
   "id": "a4c2a629-c5a1-442a-9c1e-7c11fe92f20d",
   "metadata": {},
   "outputs": [
    {
     "data": {
      "text/html": [
       "<style>#sk-container-id-6 {\n",
       "  /* Definition of color scheme common for light and dark mode */\n",
       "  --sklearn-color-text: #000;\n",
       "  --sklearn-color-text-muted: #666;\n",
       "  --sklearn-color-line: gray;\n",
       "  /* Definition of color scheme for unfitted estimators */\n",
       "  --sklearn-color-unfitted-level-0: #fff5e6;\n",
       "  --sklearn-color-unfitted-level-1: #f6e4d2;\n",
       "  --sklearn-color-unfitted-level-2: #ffe0b3;\n",
       "  --sklearn-color-unfitted-level-3: chocolate;\n",
       "  /* Definition of color scheme for fitted estimators */\n",
       "  --sklearn-color-fitted-level-0: #f0f8ff;\n",
       "  --sklearn-color-fitted-level-1: #d4ebff;\n",
       "  --sklearn-color-fitted-level-2: #b3dbfd;\n",
       "  --sklearn-color-fitted-level-3: cornflowerblue;\n",
       "\n",
       "  /* Specific color for light theme */\n",
       "  --sklearn-color-text-on-default-background: var(--sg-text-color, var(--theme-code-foreground, var(--jp-content-font-color1, black)));\n",
       "  --sklearn-color-background: var(--sg-background-color, var(--theme-background, var(--jp-layout-color0, white)));\n",
       "  --sklearn-color-border-box: var(--sg-text-color, var(--theme-code-foreground, var(--jp-content-font-color1, black)));\n",
       "  --sklearn-color-icon: #696969;\n",
       "\n",
       "  @media (prefers-color-scheme: dark) {\n",
       "    /* Redefinition of color scheme for dark theme */\n",
       "    --sklearn-color-text-on-default-background: var(--sg-text-color, var(--theme-code-foreground, var(--jp-content-font-color1, white)));\n",
       "    --sklearn-color-background: var(--sg-background-color, var(--theme-background, var(--jp-layout-color0, #111)));\n",
       "    --sklearn-color-border-box: var(--sg-text-color, var(--theme-code-foreground, var(--jp-content-font-color1, white)));\n",
       "    --sklearn-color-icon: #878787;\n",
       "  }\n",
       "}\n",
       "\n",
       "#sk-container-id-6 {\n",
       "  color: var(--sklearn-color-text);\n",
       "}\n",
       "\n",
       "#sk-container-id-6 pre {\n",
       "  padding: 0;\n",
       "}\n",
       "\n",
       "#sk-container-id-6 input.sk-hidden--visually {\n",
       "  border: 0;\n",
       "  clip: rect(1px 1px 1px 1px);\n",
       "  clip: rect(1px, 1px, 1px, 1px);\n",
       "  height: 1px;\n",
       "  margin: -1px;\n",
       "  overflow: hidden;\n",
       "  padding: 0;\n",
       "  position: absolute;\n",
       "  width: 1px;\n",
       "}\n",
       "\n",
       "#sk-container-id-6 div.sk-dashed-wrapped {\n",
       "  border: 1px dashed var(--sklearn-color-line);\n",
       "  margin: 0 0.4em 0.5em 0.4em;\n",
       "  box-sizing: border-box;\n",
       "  padding-bottom: 0.4em;\n",
       "  background-color: var(--sklearn-color-background);\n",
       "}\n",
       "\n",
       "#sk-container-id-6 div.sk-container {\n",
       "  /* jupyter's `normalize.less` sets `[hidden] { display: none; }`\n",
       "     but bootstrap.min.css set `[hidden] { display: none !important; }`\n",
       "     so we also need the `!important` here to be able to override the\n",
       "     default hidden behavior on the sphinx rendered scikit-learn.org.\n",
       "     See: https://github.com/scikit-learn/scikit-learn/issues/21755 */\n",
       "  display: inline-block !important;\n",
       "  position: relative;\n",
       "}\n",
       "\n",
       "#sk-container-id-6 div.sk-text-repr-fallback {\n",
       "  display: none;\n",
       "}\n",
       "\n",
       "div.sk-parallel-item,\n",
       "div.sk-serial,\n",
       "div.sk-item {\n",
       "  /* draw centered vertical line to link estimators */\n",
       "  background-image: linear-gradient(var(--sklearn-color-text-on-default-background), var(--sklearn-color-text-on-default-background));\n",
       "  background-size: 2px 100%;\n",
       "  background-repeat: no-repeat;\n",
       "  background-position: center center;\n",
       "}\n",
       "\n",
       "/* Parallel-specific style estimator block */\n",
       "\n",
       "#sk-container-id-6 div.sk-parallel-item::after {\n",
       "  content: \"\";\n",
       "  width: 100%;\n",
       "  border-bottom: 2px solid var(--sklearn-color-text-on-default-background);\n",
       "  flex-grow: 1;\n",
       "}\n",
       "\n",
       "#sk-container-id-6 div.sk-parallel {\n",
       "  display: flex;\n",
       "  align-items: stretch;\n",
       "  justify-content: center;\n",
       "  background-color: var(--sklearn-color-background);\n",
       "  position: relative;\n",
       "}\n",
       "\n",
       "#sk-container-id-6 div.sk-parallel-item {\n",
       "  display: flex;\n",
       "  flex-direction: column;\n",
       "}\n",
       "\n",
       "#sk-container-id-6 div.sk-parallel-item:first-child::after {\n",
       "  align-self: flex-end;\n",
       "  width: 50%;\n",
       "}\n",
       "\n",
       "#sk-container-id-6 div.sk-parallel-item:last-child::after {\n",
       "  align-self: flex-start;\n",
       "  width: 50%;\n",
       "}\n",
       "\n",
       "#sk-container-id-6 div.sk-parallel-item:only-child::after {\n",
       "  width: 0;\n",
       "}\n",
       "\n",
       "/* Serial-specific style estimator block */\n",
       "\n",
       "#sk-container-id-6 div.sk-serial {\n",
       "  display: flex;\n",
       "  flex-direction: column;\n",
       "  align-items: center;\n",
       "  background-color: var(--sklearn-color-background);\n",
       "  padding-right: 1em;\n",
       "  padding-left: 1em;\n",
       "}\n",
       "\n",
       "\n",
       "/* Toggleable style: style used for estimator/Pipeline/ColumnTransformer box that is\n",
       "clickable and can be expanded/collapsed.\n",
       "- Pipeline and ColumnTransformer use this feature and define the default style\n",
       "- Estimators will overwrite some part of the style using the `sk-estimator` class\n",
       "*/\n",
       "\n",
       "/* Pipeline and ColumnTransformer style (default) */\n",
       "\n",
       "#sk-container-id-6 div.sk-toggleable {\n",
       "  /* Default theme specific background. It is overwritten whether we have a\n",
       "  specific estimator or a Pipeline/ColumnTransformer */\n",
       "  background-color: var(--sklearn-color-background);\n",
       "}\n",
       "\n",
       "/* Toggleable label */\n",
       "#sk-container-id-6 label.sk-toggleable__label {\n",
       "  cursor: pointer;\n",
       "  display: flex;\n",
       "  width: 100%;\n",
       "  margin-bottom: 0;\n",
       "  padding: 0.5em;\n",
       "  box-sizing: border-box;\n",
       "  text-align: center;\n",
       "  align-items: start;\n",
       "  justify-content: space-between;\n",
       "  gap: 0.5em;\n",
       "}\n",
       "\n",
       "#sk-container-id-6 label.sk-toggleable__label .caption {\n",
       "  font-size: 0.6rem;\n",
       "  font-weight: lighter;\n",
       "  color: var(--sklearn-color-text-muted);\n",
       "}\n",
       "\n",
       "#sk-container-id-6 label.sk-toggleable__label-arrow:before {\n",
       "  /* Arrow on the left of the label */\n",
       "  content: \"▸\";\n",
       "  float: left;\n",
       "  margin-right: 0.25em;\n",
       "  color: var(--sklearn-color-icon);\n",
       "}\n",
       "\n",
       "#sk-container-id-6 label.sk-toggleable__label-arrow:hover:before {\n",
       "  color: var(--sklearn-color-text);\n",
       "}\n",
       "\n",
       "/* Toggleable content - dropdown */\n",
       "\n",
       "#sk-container-id-6 div.sk-toggleable__content {\n",
       "  max-height: 0;\n",
       "  max-width: 0;\n",
       "  overflow: hidden;\n",
       "  text-align: left;\n",
       "  /* unfitted */\n",
       "  background-color: var(--sklearn-color-unfitted-level-0);\n",
       "}\n",
       "\n",
       "#sk-container-id-6 div.sk-toggleable__content.fitted {\n",
       "  /* fitted */\n",
       "  background-color: var(--sklearn-color-fitted-level-0);\n",
       "}\n",
       "\n",
       "#sk-container-id-6 div.sk-toggleable__content pre {\n",
       "  margin: 0.2em;\n",
       "  border-radius: 0.25em;\n",
       "  color: var(--sklearn-color-text);\n",
       "  /* unfitted */\n",
       "  background-color: var(--sklearn-color-unfitted-level-0);\n",
       "}\n",
       "\n",
       "#sk-container-id-6 div.sk-toggleable__content.fitted pre {\n",
       "  /* unfitted */\n",
       "  background-color: var(--sklearn-color-fitted-level-0);\n",
       "}\n",
       "\n",
       "#sk-container-id-6 input.sk-toggleable__control:checked~div.sk-toggleable__content {\n",
       "  /* Expand drop-down */\n",
       "  max-height: 200px;\n",
       "  max-width: 100%;\n",
       "  overflow: auto;\n",
       "}\n",
       "\n",
       "#sk-container-id-6 input.sk-toggleable__control:checked~label.sk-toggleable__label-arrow:before {\n",
       "  content: \"▾\";\n",
       "}\n",
       "\n",
       "/* Pipeline/ColumnTransformer-specific style */\n",
       "\n",
       "#sk-container-id-6 div.sk-label input.sk-toggleable__control:checked~label.sk-toggleable__label {\n",
       "  color: var(--sklearn-color-text);\n",
       "  background-color: var(--sklearn-color-unfitted-level-2);\n",
       "}\n",
       "\n",
       "#sk-container-id-6 div.sk-label.fitted input.sk-toggleable__control:checked~label.sk-toggleable__label {\n",
       "  background-color: var(--sklearn-color-fitted-level-2);\n",
       "}\n",
       "\n",
       "/* Estimator-specific style */\n",
       "\n",
       "/* Colorize estimator box */\n",
       "#sk-container-id-6 div.sk-estimator input.sk-toggleable__control:checked~label.sk-toggleable__label {\n",
       "  /* unfitted */\n",
       "  background-color: var(--sklearn-color-unfitted-level-2);\n",
       "}\n",
       "\n",
       "#sk-container-id-6 div.sk-estimator.fitted input.sk-toggleable__control:checked~label.sk-toggleable__label {\n",
       "  /* fitted */\n",
       "  background-color: var(--sklearn-color-fitted-level-2);\n",
       "}\n",
       "\n",
       "#sk-container-id-6 div.sk-label label.sk-toggleable__label,\n",
       "#sk-container-id-6 div.sk-label label {\n",
       "  /* The background is the default theme color */\n",
       "  color: var(--sklearn-color-text-on-default-background);\n",
       "}\n",
       "\n",
       "/* On hover, darken the color of the background */\n",
       "#sk-container-id-6 div.sk-label:hover label.sk-toggleable__label {\n",
       "  color: var(--sklearn-color-text);\n",
       "  background-color: var(--sklearn-color-unfitted-level-2);\n",
       "}\n",
       "\n",
       "/* Label box, darken color on hover, fitted */\n",
       "#sk-container-id-6 div.sk-label.fitted:hover label.sk-toggleable__label.fitted {\n",
       "  color: var(--sklearn-color-text);\n",
       "  background-color: var(--sklearn-color-fitted-level-2);\n",
       "}\n",
       "\n",
       "/* Estimator label */\n",
       "\n",
       "#sk-container-id-6 div.sk-label label {\n",
       "  font-family: monospace;\n",
       "  font-weight: bold;\n",
       "  display: inline-block;\n",
       "  line-height: 1.2em;\n",
       "}\n",
       "\n",
       "#sk-container-id-6 div.sk-label-container {\n",
       "  text-align: center;\n",
       "}\n",
       "\n",
       "/* Estimator-specific */\n",
       "#sk-container-id-6 div.sk-estimator {\n",
       "  font-family: monospace;\n",
       "  border: 1px dotted var(--sklearn-color-border-box);\n",
       "  border-radius: 0.25em;\n",
       "  box-sizing: border-box;\n",
       "  margin-bottom: 0.5em;\n",
       "  /* unfitted */\n",
       "  background-color: var(--sklearn-color-unfitted-level-0);\n",
       "}\n",
       "\n",
       "#sk-container-id-6 div.sk-estimator.fitted {\n",
       "  /* fitted */\n",
       "  background-color: var(--sklearn-color-fitted-level-0);\n",
       "}\n",
       "\n",
       "/* on hover */\n",
       "#sk-container-id-6 div.sk-estimator:hover {\n",
       "  /* unfitted */\n",
       "  background-color: var(--sklearn-color-unfitted-level-2);\n",
       "}\n",
       "\n",
       "#sk-container-id-6 div.sk-estimator.fitted:hover {\n",
       "  /* fitted */\n",
       "  background-color: var(--sklearn-color-fitted-level-2);\n",
       "}\n",
       "\n",
       "/* Specification for estimator info (e.g. \"i\" and \"?\") */\n",
       "\n",
       "/* Common style for \"i\" and \"?\" */\n",
       "\n",
       ".sk-estimator-doc-link,\n",
       "a:link.sk-estimator-doc-link,\n",
       "a:visited.sk-estimator-doc-link {\n",
       "  float: right;\n",
       "  font-size: smaller;\n",
       "  line-height: 1em;\n",
       "  font-family: monospace;\n",
       "  background-color: var(--sklearn-color-background);\n",
       "  border-radius: 1em;\n",
       "  height: 1em;\n",
       "  width: 1em;\n",
       "  text-decoration: none !important;\n",
       "  margin-left: 0.5em;\n",
       "  text-align: center;\n",
       "  /* unfitted */\n",
       "  border: var(--sklearn-color-unfitted-level-1) 1pt solid;\n",
       "  color: var(--sklearn-color-unfitted-level-1);\n",
       "}\n",
       "\n",
       ".sk-estimator-doc-link.fitted,\n",
       "a:link.sk-estimator-doc-link.fitted,\n",
       "a:visited.sk-estimator-doc-link.fitted {\n",
       "  /* fitted */\n",
       "  border: var(--sklearn-color-fitted-level-1) 1pt solid;\n",
       "  color: var(--sklearn-color-fitted-level-1);\n",
       "}\n",
       "\n",
       "/* On hover */\n",
       "div.sk-estimator:hover .sk-estimator-doc-link:hover,\n",
       ".sk-estimator-doc-link:hover,\n",
       "div.sk-label-container:hover .sk-estimator-doc-link:hover,\n",
       ".sk-estimator-doc-link:hover {\n",
       "  /* unfitted */\n",
       "  background-color: var(--sklearn-color-unfitted-level-3);\n",
       "  color: var(--sklearn-color-background);\n",
       "  text-decoration: none;\n",
       "}\n",
       "\n",
       "div.sk-estimator.fitted:hover .sk-estimator-doc-link.fitted:hover,\n",
       ".sk-estimator-doc-link.fitted:hover,\n",
       "div.sk-label-container:hover .sk-estimator-doc-link.fitted:hover,\n",
       ".sk-estimator-doc-link.fitted:hover {\n",
       "  /* fitted */\n",
       "  background-color: var(--sklearn-color-fitted-level-3);\n",
       "  color: var(--sklearn-color-background);\n",
       "  text-decoration: none;\n",
       "}\n",
       "\n",
       "/* Span, style for the box shown on hovering the info icon */\n",
       ".sk-estimator-doc-link span {\n",
       "  display: none;\n",
       "  z-index: 9999;\n",
       "  position: relative;\n",
       "  font-weight: normal;\n",
       "  right: .2ex;\n",
       "  padding: .5ex;\n",
       "  margin: .5ex;\n",
       "  width: min-content;\n",
       "  min-width: 20ex;\n",
       "  max-width: 50ex;\n",
       "  color: var(--sklearn-color-text);\n",
       "  box-shadow: 2pt 2pt 4pt #999;\n",
       "  /* unfitted */\n",
       "  background: var(--sklearn-color-unfitted-level-0);\n",
       "  border: .5pt solid var(--sklearn-color-unfitted-level-3);\n",
       "}\n",
       "\n",
       ".sk-estimator-doc-link.fitted span {\n",
       "  /* fitted */\n",
       "  background: var(--sklearn-color-fitted-level-0);\n",
       "  border: var(--sklearn-color-fitted-level-3);\n",
       "}\n",
       "\n",
       ".sk-estimator-doc-link:hover span {\n",
       "  display: block;\n",
       "}\n",
       "\n",
       "/* \"?\"-specific style due to the `<a>` HTML tag */\n",
       "\n",
       "#sk-container-id-6 a.estimator_doc_link {\n",
       "  float: right;\n",
       "  font-size: 1rem;\n",
       "  line-height: 1em;\n",
       "  font-family: monospace;\n",
       "  background-color: var(--sklearn-color-background);\n",
       "  border-radius: 1rem;\n",
       "  height: 1rem;\n",
       "  width: 1rem;\n",
       "  text-decoration: none;\n",
       "  /* unfitted */\n",
       "  color: var(--sklearn-color-unfitted-level-1);\n",
       "  border: var(--sklearn-color-unfitted-level-1) 1pt solid;\n",
       "}\n",
       "\n",
       "#sk-container-id-6 a.estimator_doc_link.fitted {\n",
       "  /* fitted */\n",
       "  border: var(--sklearn-color-fitted-level-1) 1pt solid;\n",
       "  color: var(--sklearn-color-fitted-level-1);\n",
       "}\n",
       "\n",
       "/* On hover */\n",
       "#sk-container-id-6 a.estimator_doc_link:hover {\n",
       "  /* unfitted */\n",
       "  background-color: var(--sklearn-color-unfitted-level-3);\n",
       "  color: var(--sklearn-color-background);\n",
       "  text-decoration: none;\n",
       "}\n",
       "\n",
       "#sk-container-id-6 a.estimator_doc_link.fitted:hover {\n",
       "  /* fitted */\n",
       "  background-color: var(--sklearn-color-fitted-level-3);\n",
       "}\n",
       "</style><div id=\"sk-container-id-6\" class=\"sk-top-container\"><div class=\"sk-text-repr-fallback\"><pre>Ridge(alpha=0.1)</pre><b>In a Jupyter environment, please rerun this cell to show the HTML representation or trust the notebook. <br />On GitHub, the HTML representation is unable to render, please try loading this page with nbviewer.org.</b></div><div class=\"sk-container\" hidden><div class=\"sk-item\"><div class=\"sk-estimator fitted sk-toggleable\"><input class=\"sk-toggleable__control sk-hidden--visually\" id=\"sk-estimator-id-6\" type=\"checkbox\" checked><label for=\"sk-estimator-id-6\" class=\"sk-toggleable__label fitted sk-toggleable__label-arrow\"><div><div>Ridge</div></div><div><a class=\"sk-estimator-doc-link fitted\" rel=\"noreferrer\" target=\"_blank\" href=\"https://scikit-learn.org/1.6/modules/generated/sklearn.linear_model.Ridge.html\">?<span>Documentation for Ridge</span></a><span class=\"sk-estimator-doc-link fitted\">i<span>Fitted</span></span></div></label><div class=\"sk-toggleable__content fitted\"><pre>Ridge(alpha=0.1)</pre></div> </div></div></div></div>"
      ],
      "text/plain": [
       "Ridge(alpha=0.1)"
      ]
     },
     "execution_count": 172,
     "metadata": {},
     "output_type": "execute_result"
    }
   ],
   "source": [
    "ridge_model = Ridge(alpha=0.1)  \n",
    "ridge_model.fit(X_train_model3, Y_train)"
   ]
  },
  {
   "cell_type": "code",
   "execution_count": 173,
   "id": "acc052b3-6391-4927-acc1-976e78ddddcb",
   "metadata": {},
   "outputs": [],
   "source": [
    "Y_pred_ridge = ridge_model.predict(X_test_model3)"
   ]
  },
  {
   "cell_type": "code",
   "execution_count": 174,
   "id": "45c8d4fc-edc7-4170-9fd3-77d922da8e67",
   "metadata": {},
   "outputs": [
    {
     "name": "stdout",
     "output_type": "stream",
     "text": [
      "R2: 0.83\n"
     ]
    }
   ],
   "source": [
    "r2_ridge = r2_score(Y_test, Y_pred_ridge)\n",
    "print(\"R2:\", np.round(r2_ridge, 2))"
   ]
  },
  {
   "cell_type": "code",
   "execution_count": 175,
   "id": "2752eef9-a245-48d2-a32f-ac61fe773557",
   "metadata": {},
   "outputs": [
    {
     "name": "stdout",
     "output_type": "stream",
     "text": [
      "MSE: 464.44\n"
     ]
    }
   ],
   "source": [
    "mse_ridge = mean_squared_error(Y_test, Y_pred_ridge)\n",
    "print(\"MSE:\", np.round(mse_ridge, 2))"
   ]
  },
  {
   "cell_type": "code",
   "execution_count": 176,
   "id": "dd46fe93-9e58-46fc-a5c4-fcf7ad16dd07",
   "metadata": {},
   "outputs": [
    {
     "name": "stdout",
     "output_type": "stream",
     "text": [
      "RMSE: 21.55\n"
     ]
    }
   ],
   "source": [
    "rmse_ridge = np.sqrt(mse_ridge)\n",
    "print(\"RMSE:\", np.round(rmse_ridge, 2))"
   ]
  },
  {
   "cell_type": "code",
   "execution_count": 177,
   "id": "73367356-06f7-48ec-83a4-636778000ccd",
   "metadata": {},
   "outputs": [
    {
     "name": "stdout",
     "output_type": "stream",
     "text": [
      "Coefficients: [-35.15848295 -11.35994556   5.91558871   8.23560131   1.44942793\n",
      "  -5.33458073]\n"
     ]
    }
   ],
   "source": [
    "print(\"Coefficients:\", ridge_model.coef_)"
   ]
  },
  {
   "cell_type": "code",
   "execution_count": 178,
   "id": "0d35d953-cdfc-4ac1-a026-03b6fe9ca409",
   "metadata": {},
   "outputs": [],
   "source": [
    "# as per my observation in this dataset, all the three models i have tried to fit have \n",
    "# identifical r square, rmse and even lasso and ridge didnt show much impact, which i took as\n",
    "# it have minimum requriment of regularization. so I am thinking this model can predict well and \n",
    "# it might be best-fit model"
   ]
  },
  {
   "cell_type": "code",
   "execution_count": 179,
   "id": "dccac231-5d02-49dd-9cad-9efe879bb4c0",
   "metadata": {},
   "outputs": [],
   "source": [
    "# normalization and standardization are the two methods to remove the units from the variables.\n",
    "# standardization values always lies in between -3 to 3 and once the data is standardized\n",
    "# there will be no units. It is generally performed on numerical variables\n",
    "# normalization is also known as scaling and those values lies in between 0 to 1.\n",
    "\n",
    "# once the data is standardized , it takes less time to compute and processes the calculations\n",
    "# quickly compared to large datasets or the data which isnt standardized. \n",
    "\n",
    "# in both of them any one can be applied \n",
    "# it is only applicable on continuous variables."
   ]
  },
  {
   "cell_type": "code",
   "execution_count": null,
   "id": "ca901077-672d-46f5-be43-6f11820a5413",
   "metadata": {},
   "outputs": [],
   "source": [
    "# muliticollinearity : \n",
    "# if any two X variables are highly correlated among them than with the target variable(Y), then\n",
    "# multicollinearity issues arise.\n",
    "\n",
    "#we can decide multicollinearity by Variance Inflation Factor.\n",
    "# if VIF<5 --- model doesnt have multicollinearity\n",
    "# if VIF --(5-10) -- model have multicollinearity but still can accepetable as it is moderate\n",
    "# if VIF>10 -- model has too much multicollinearity and cannot be accepted."
   ]
  }
 ],
 "metadata": {
  "kernelspec": {
   "display_name": "Python [conda env:base] *",
   "language": "python",
   "name": "conda-base-py"
  },
  "language_info": {
   "codemirror_mode": {
    "name": "ipython",
    "version": 3
   },
   "file_extension": ".py",
   "mimetype": "text/x-python",
   "name": "python",
   "nbconvert_exporter": "python",
   "pygments_lexer": "ipython3",
   "version": "3.13.5"
  }
 },
 "nbformat": 4,
 "nbformat_minor": 5
}
