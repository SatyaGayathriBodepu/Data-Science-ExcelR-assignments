{
 "cells": [
  {
   "cell_type": "code",
   "execution_count": 1,
   "id": "4b1a40ad-1d74-4fec-b7d9-a7bf6c90c3e8",
   "metadata": {},
   "outputs": [],
   "source": [
    "# chi-square is used to check relationship between two discrete variables."
   ]
  },
  {
   "cell_type": "code",
   "execution_count": 2,
   "id": "24ff9d11-ae39-4b4d-97d9-0673de8afdd2",
   "metadata": {},
   "outputs": [],
   "source": [
    "# we need to take H0 and H1 for that"
   ]
  },
  {
   "cell_type": "code",
   "execution_count": 3,
   "id": "97e6627a-a6eb-4f65-8b9c-a2e9d1ba0d4a",
   "metadata": {},
   "outputs": [],
   "source": [
    "# H0 : Device type and customer satisifaction are independent (no relationship)\n",
    "# H1 : Device type and customer satisifaction are dependent on each other (have relationship)"
   ]
  },
  {
   "cell_type": "code",
   "execution_count": 4,
   "id": "e002409b-990f-44c0-986c-9b3e0db35c57",
   "metadata": {},
   "outputs": [],
   "source": [
    "import pandas as pd"
   ]
  },
  {
   "cell_type": "code",
   "execution_count": 5,
   "id": "9304cda5-2720-45cf-b8de-0f92928d0545",
   "metadata": {},
   "outputs": [],
   "source": [
    "data = [[50, 70],\n",
    "        [80, 100],\n",
    "        [60, 90],\n",
    "        [30, 50],\n",
    "        [20, 50]]   # this is the data from the question"
   ]
  },
  {
   "cell_type": "code",
   "execution_count": 6,
   "id": "dbc88467-4959-458f-b2cf-c21e7791ed31",
   "metadata": {},
   "outputs": [
    {
     "data": {
      "text/html": [
       "<div>\n",
       "<style scoped>\n",
       "    .dataframe tbody tr th:only-of-type {\n",
       "        vertical-align: middle;\n",
       "    }\n",
       "\n",
       "    .dataframe tbody tr th {\n",
       "        vertical-align: top;\n",
       "    }\n",
       "\n",
       "    .dataframe thead th {\n",
       "        text-align: right;\n",
       "    }\n",
       "</style>\n",
       "<table border=\"1\" class=\"dataframe\">\n",
       "  <thead>\n",
       "    <tr style=\"text-align: right;\">\n",
       "      <th></th>\n",
       "      <th>Smart Thermostat</th>\n",
       "      <th>Smart Light</th>\n",
       "    </tr>\n",
       "  </thead>\n",
       "  <tbody>\n",
       "    <tr>\n",
       "      <th>Very Satisfied</th>\n",
       "      <td>50</td>\n",
       "      <td>70</td>\n",
       "    </tr>\n",
       "    <tr>\n",
       "      <th>Satisfied</th>\n",
       "      <td>80</td>\n",
       "      <td>100</td>\n",
       "    </tr>\n",
       "    <tr>\n",
       "      <th>Neutral</th>\n",
       "      <td>60</td>\n",
       "      <td>90</td>\n",
       "    </tr>\n",
       "    <tr>\n",
       "      <th>Unsatisfied</th>\n",
       "      <td>30</td>\n",
       "      <td>50</td>\n",
       "    </tr>\n",
       "    <tr>\n",
       "      <th>Very Unsatisfied</th>\n",
       "      <td>20</td>\n",
       "      <td>50</td>\n",
       "    </tr>\n",
       "  </tbody>\n",
       "</table>\n",
       "</div>"
      ],
      "text/plain": [
       "                  Smart Thermostat  Smart Light\n",
       "Very Satisfied                  50           70\n",
       "Satisfied                       80          100\n",
       "Neutral                         60           90\n",
       "Unsatisfied                     30           50\n",
       "Very Unsatisfied                20           50"
      ]
     },
     "execution_count": 6,
     "metadata": {},
     "output_type": "execute_result"
    }
   ],
   "source": [
    "df = pd.DataFrame(data,columns=[\"Smart Thermostat\", \"Smart Light\"],\n",
    "                  index=[[\"Very Satisfied\", \"Satisfied\", \"Neutral\", \"Unsatisfied\", \"Very Unsatisfied\"]])\n",
    "df  "
   ]
  },
  {
   "cell_type": "code",
   "execution_count": 7,
   "id": "7b098ac2-571f-4b91-a914-51c1b9e23022",
   "metadata": {},
   "outputs": [],
   "source": [
    "# i made the given table into a dataframe to perform calculations on it"
   ]
  },
  {
   "cell_type": "code",
   "execution_count": 8,
   "id": "4f2ca35a-c13b-4d4b-b7b7-35d501ed0942",
   "metadata": {},
   "outputs": [
    {
     "name": "stdout",
     "output_type": "stream",
     "text": [
      "<class 'pandas.core.frame.DataFrame'>\n",
      "MultiIndex: 5 entries, ('Very Satisfied',) to ('Very Unsatisfied',)\n",
      "Data columns (total 2 columns):\n",
      " #   Column            Non-Null Count  Dtype\n",
      "---  ------            --------------  -----\n",
      " 0   Smart Thermostat  5 non-null      int64\n",
      " 1   Smart Light       5 non-null      int64\n",
      "dtypes: int64(2)\n",
      "memory usage: 313.0+ bytes\n"
     ]
    }
   ],
   "source": [
    "df.info()"
   ]
  },
  {
   "cell_type": "code",
   "execution_count": 12,
   "id": "c2d2f35e-1542-4f90-b2d9-a115f7b00e5b",
   "metadata": {},
   "outputs": [],
   "source": [
    "# since the given data is in contingency format already i am using scify library "
   ]
  },
  {
   "cell_type": "code",
   "execution_count": 18,
   "id": "9d74bccf-7ae2-4948-b669-dc1a8e930e96",
   "metadata": {},
   "outputs": [],
   "source": [
    "from scipy.stats import chi2_contingency,chi2"
   ]
  },
  {
   "cell_type": "code",
   "execution_count": 29,
   "id": "3a3913bc-9f21-457f-8555-bf5a979eeeda",
   "metadata": {},
   "outputs": [],
   "source": [
    "chi2_stat, p_value, dof, expected = chi2_contingency(data)  \n",
    "# this step is to avoid the unstructure format in output. this will help to retrive each\n",
    "# value indivdually"
   ]
  },
  {
   "cell_type": "code",
   "execution_count": 30,
   "id": "6df8935c-ae5e-4f66-bd13-c59af810d03d",
   "metadata": {},
   "outputs": [],
   "source": [
    "alpha = 0.05   # level of significance is always 0.05\n",
    "critical_value = chi2.ppf(1 - alpha, dof) # as per the question, the critical value formula is this."
   ]
  },
  {
   "cell_type": "code",
   "execution_count": 31,
   "id": "b77de003-aeb0-4f88-b812-d3a6bce739c9",
   "metadata": {},
   "outputs": [
    {
     "name": "stdout",
     "output_type": "stream",
     "text": [
      "Chi-Square Statistic: 5.638227513227513\n"
     ]
    }
   ],
   "source": [
    "print(\"Chi-Square Statistic:\", chi2_stat)   # this is the chi-square value"
   ]
  },
  {
   "cell_type": "code",
   "execution_count": 32,
   "id": "933c9385-c2e1-4c6b-8a77-efca11325d46",
   "metadata": {},
   "outputs": [
    {
     "name": "stdout",
     "output_type": "stream",
     "text": [
      "Degrees of Freedom: 4\n"
     ]
    }
   ],
   "source": [
    "print(\"Degrees of Freedom:\", dof)  # this is the degrees of freedom"
   ]
  },
  {
   "cell_type": "code",
   "execution_count": 33,
   "id": "a4a536eb-9e86-494b-a8b5-c636e5a06aaa",
   "metadata": {},
   "outputs": [
    {
     "name": "stdout",
     "output_type": "stream",
     "text": [
      "Critical Value: 9.487729036781154\n"
     ]
    }
   ],
   "source": [
    "print(\"Critical Value:\", critical_value) # as per the formula, this is the critical value"
   ]
  },
  {
   "cell_type": "code",
   "execution_count": 34,
   "id": "ea292a0d-c937-4e35-9fee-6c42faa42fea",
   "metadata": {},
   "outputs": [
    {
     "name": "stdout",
     "output_type": "stream",
     "text": [
      "p-value: 0.22784371130697179\n"
     ]
    }
   ],
   "source": [
    "print(\"p-value:\", p_value)  # this is the p-value"
   ]
  },
  {
   "cell_type": "code",
   "execution_count": 35,
   "id": "99093cc5-006a-4d37-a642-6e32b2cbd9ed",
   "metadata": {},
   "outputs": [
    {
     "name": "stdout",
     "output_type": "stream",
     "text": [
      "H1 is rejected and H0 is accepted\n"
     ]
    }
   ],
   "source": [
    "if p_value < alpha:    # with this condition we can say which condition is accepted\n",
    "    print(\"H0 is rejected and H1 is accepted\")\n",
    "else:\n",
    "    print(\"H1 is rejected and H0 is accepted\")"
   ]
  },
  {
   "cell_type": "code",
   "execution_count": 36,
   "id": "d69f69e3-b4f6-4565-9114-08ca7fb95650",
   "metadata": {},
   "outputs": [],
   "source": [
    "# H0 is accepted that means there is no relationship between the device type and customer\n",
    "# satisifaction"
   ]
  },
  {
   "cell_type": "code",
   "execution_count": null,
   "id": "0e924d01-e1e5-4153-992f-65d83f8e1cca",
   "metadata": {},
   "outputs": [],
   "source": []
  }
 ],
 "metadata": {
  "kernelspec": {
   "display_name": "Python [conda env:base] *",
   "language": "python",
   "name": "conda-base-py"
  },
  "language_info": {
   "codemirror_mode": {
    "name": "ipython",
    "version": 3
   },
   "file_extension": ".py",
   "mimetype": "text/x-python",
   "name": "python",
   "nbconvert_exporter": "python",
   "pygments_lexer": "ipython3",
   "version": "3.13.5"
  }
 },
 "nbformat": 4,
 "nbformat_minor": 5
}
