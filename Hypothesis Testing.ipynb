{
 "cells": [
  {
   "cell_type": "code",
   "execution_count": 1,
   "id": "b91ff0dd-14fd-4bfd-a575-1533398aedc6",
   "metadata": {},
   "outputs": [],
   "source": [
    "# from the given problem we can see that the objective is :\n",
    "\n",
    "# H0: population mean = 4000 (weakly costs as per prediction)\n",
    "# H1: population mean > 4000 (weakly costs are higher than prediciton)\n",
    "\n",
    "# as we are having the term 'higher than' we should use right-tailed test."
   ]
  },
  {
   "cell_type": "code",
   "execution_count": 16,
   "id": "89a42b3d-e8a7-4ba3-b442-ce03f0f72cf6",
   "metadata": {},
   "outputs": [],
   "source": [
    "import numpy as np\n",
    "from scipy import stats "
   ]
  },
  {
   "cell_type": "code",
   "execution_count": 17,
   "id": "58d93720-ffe1-4cbb-924c-c808e8b401f3",
   "metadata": {},
   "outputs": [],
   "source": [
    "sample_mean = 3050\n",
    "population_mean = 4000\n",
    "sigma = 125 \n",
    "# X follows a normal distribution with standard deviation σ = 25 units and W is 5 times\n",
    "# so it is 5*25 = 125   \n",
    "n = 25 \n",
    "alpha = 0.05"
   ]
  },
  {
   "cell_type": "code",
   "execution_count": 18,
   "id": "ccc427de-36ac-4539-ab10-d7ce615946bf",
   "metadata": {},
   "outputs": [],
   "source": [
    "# calculating standard error"
   ]
  },
  {
   "cell_type": "code",
   "execution_count": 19,
   "id": "485b13f8-4fcb-4150-ac48-30e3b4755ed1",
   "metadata": {},
   "outputs": [],
   "source": [
    "SE = sigma / (n**0.5)"
   ]
  },
  {
   "cell_type": "code",
   "execution_count": 20,
   "id": "6d25cab6-7ded-48e2-b797-fc5a72b15c7f",
   "metadata": {},
   "outputs": [],
   "source": [
    "# z test"
   ]
  },
  {
   "cell_type": "code",
   "execution_count": 21,
   "id": "46b50b03-fd6f-4945-9d39-bc7acfccd4f9",
   "metadata": {},
   "outputs": [
    {
     "name": "stdout",
     "output_type": "stream",
     "text": [
      "Z_stat value: -38.0\n"
     ]
    }
   ],
   "source": [
    "z_stat = (sample_mean - population_mean) / SE\n",
    "print(\"Z_stat value:\",z_stat)"
   ]
  },
  {
   "cell_type": "code",
   "execution_count": 24,
   "id": "8f9e307d-d551-44b3-82bc-53b4d214e328",
   "metadata": {},
   "outputs": [
    {
     "name": "stdout",
     "output_type": "stream",
     "text": [
      "p-value: 1.0\n"
     ]
    }
   ],
   "source": [
    "# p-value for right-tailed test\n",
    "p_value = 1 - stats.norm.cdf(z_stat) # took this formula for manual calculation\n",
    "print(\"p-value:\",p_value)"
   ]
  },
  {
   "cell_type": "code",
   "execution_count": 25,
   "id": "2574a567-a0d5-43f8-a359-fa7222b894eb",
   "metadata": {},
   "outputs": [
    {
     "name": "stdout",
     "output_type": "stream",
     "text": [
      "H1 is rejected and H0 is accepted\n"
     ]
    }
   ],
   "source": [
    "if p_value < alpha:\n",
    "    print(\"H0 is rejected and H1 is accepted\")\n",
    "else:\n",
    "    print(\"H1 is rejected and H0 is accepted\")"
   ]
  },
  {
   "cell_type": "code",
   "execution_count": 26,
   "id": "9021dda8-f1e5-4dce-9cec-b8d616e92a6b",
   "metadata": {},
   "outputs": [],
   "source": [
    "# H0 is accepted. The weekly operating costs are consistent with model. There is no\n",
    "# strong evidence to support the owner's claim."
   ]
  },
  {
   "cell_type": "code",
   "execution_count": null,
   "id": "c9448e4d-a46c-4034-bde9-8f8bcaaa9498",
   "metadata": {},
   "outputs": [],
   "source": [
    "# I followed this method as i am using raw data and not an "
   ]
  }
 ],
 "metadata": {
  "kernelspec": {
   "display_name": "Python [conda env:base] *",
   "language": "python",
   "name": "conda-base-py"
  },
  "language_info": {
   "codemirror_mode": {
    "name": "ipython",
    "version": 3
   },
   "file_extension": ".py",
   "mimetype": "text/x-python",
   "name": "python",
   "nbconvert_exporter": "python",
   "pygments_lexer": "ipython3",
   "version": "3.13.5"
  }
 },
 "nbformat": 4,
 "nbformat_minor": 5
}
