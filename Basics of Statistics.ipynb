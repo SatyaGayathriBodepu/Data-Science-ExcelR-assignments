{
 "cells": [
  {
   "cell_type": "code",
   "execution_count": 1,
   "id": "5835c54d-b7bb-443d-a4b5-efe0de533f57",
   "metadata": {},
   "outputs": [],
   "source": [
    "# descriptive analytics is used to know statistical measures such as mean, median and mode\n",
    "# and also helps us to perform data visualization by using histograms, boxplots, scatter plots, etc\n",
    "# by performing descriptive analytics, we will get an idea of what we are working on and make us\n",
    "# understand about the tasks we are going to perform further."
   ]
  },
  {
   "cell_type": "code",
   "execution_count": 2,
   "id": "a7580445-1d08-4e0f-a7f6-18609c106e53",
   "metadata": {},
   "outputs": [],
   "source": [
    "import pandas as pd"
   ]
  },
  {
   "cell_type": "code",
   "execution_count": 3,
   "id": "2a966ce1-c108-4be9-b617-2d3117e83305",
   "metadata": {},
   "outputs": [
    {
     "data": {
      "text/html": [
       "<div>\n",
       "<style scoped>\n",
       "    .dataframe tbody tr th:only-of-type {\n",
       "        vertical-align: middle;\n",
       "    }\n",
       "\n",
       "    .dataframe tbody tr th {\n",
       "        vertical-align: top;\n",
       "    }\n",
       "\n",
       "    .dataframe thead th {\n",
       "        text-align: right;\n",
       "    }\n",
       "</style>\n",
       "<table border=\"1\" class=\"dataframe\">\n",
       "  <thead>\n",
       "    <tr style=\"text-align: right;\">\n",
       "      <th></th>\n",
       "      <th>Date</th>\n",
       "      <th>Day</th>\n",
       "      <th>SKU</th>\n",
       "      <th>City</th>\n",
       "      <th>Volume</th>\n",
       "      <th>BU</th>\n",
       "      <th>Brand</th>\n",
       "      <th>Model</th>\n",
       "      <th>Avg Price</th>\n",
       "      <th>Total Sales Value</th>\n",
       "      <th>Discount Rate (%)</th>\n",
       "      <th>Discount Amount</th>\n",
       "      <th>Net Sales Value</th>\n",
       "    </tr>\n",
       "  </thead>\n",
       "  <tbody>\n",
       "    <tr>\n",
       "      <th>0</th>\n",
       "      <td>01-04-2021</td>\n",
       "      <td>Thursday</td>\n",
       "      <td>M01</td>\n",
       "      <td>C</td>\n",
       "      <td>15</td>\n",
       "      <td>Mobiles</td>\n",
       "      <td>RealU</td>\n",
       "      <td>RU-10</td>\n",
       "      <td>12100</td>\n",
       "      <td>181500</td>\n",
       "      <td>11.654820</td>\n",
       "      <td>21153.498820</td>\n",
       "      <td>160346.501180</td>\n",
       "    </tr>\n",
       "    <tr>\n",
       "      <th>1</th>\n",
       "      <td>01-04-2021</td>\n",
       "      <td>Thursday</td>\n",
       "      <td>M02</td>\n",
       "      <td>C</td>\n",
       "      <td>10</td>\n",
       "      <td>Mobiles</td>\n",
       "      <td>RealU</td>\n",
       "      <td>RU-9 Plus</td>\n",
       "      <td>10100</td>\n",
       "      <td>101000</td>\n",
       "      <td>11.560498</td>\n",
       "      <td>11676.102961</td>\n",
       "      <td>89323.897039</td>\n",
       "    </tr>\n",
       "    <tr>\n",
       "      <th>2</th>\n",
       "      <td>01-04-2021</td>\n",
       "      <td>Thursday</td>\n",
       "      <td>M03</td>\n",
       "      <td>C</td>\n",
       "      <td>7</td>\n",
       "      <td>Mobiles</td>\n",
       "      <td>YouM</td>\n",
       "      <td>YM-99</td>\n",
       "      <td>16100</td>\n",
       "      <td>112700</td>\n",
       "      <td>9.456886</td>\n",
       "      <td>10657.910157</td>\n",
       "      <td>102042.089843</td>\n",
       "    </tr>\n",
       "    <tr>\n",
       "      <th>3</th>\n",
       "      <td>01-04-2021</td>\n",
       "      <td>Thursday</td>\n",
       "      <td>M04</td>\n",
       "      <td>C</td>\n",
       "      <td>6</td>\n",
       "      <td>Mobiles</td>\n",
       "      <td>YouM</td>\n",
       "      <td>YM-99 Plus</td>\n",
       "      <td>20100</td>\n",
       "      <td>120600</td>\n",
       "      <td>6.935385</td>\n",
       "      <td>8364.074702</td>\n",
       "      <td>112235.925298</td>\n",
       "    </tr>\n",
       "    <tr>\n",
       "      <th>4</th>\n",
       "      <td>01-04-2021</td>\n",
       "      <td>Thursday</td>\n",
       "      <td>M05</td>\n",
       "      <td>C</td>\n",
       "      <td>3</td>\n",
       "      <td>Mobiles</td>\n",
       "      <td>YouM</td>\n",
       "      <td>YM-98</td>\n",
       "      <td>8100</td>\n",
       "      <td>24300</td>\n",
       "      <td>17.995663</td>\n",
       "      <td>4372.946230</td>\n",
       "      <td>19927.053770</td>\n",
       "    </tr>\n",
       "  </tbody>\n",
       "</table>\n",
       "</div>"
      ],
      "text/plain": [
       "         Date       Day  SKU City  Volume       BU  Brand       Model  \\\n",
       "0  01-04-2021  Thursday  M01    C      15  Mobiles  RealU       RU-10   \n",
       "1  01-04-2021  Thursday  M02    C      10  Mobiles  RealU   RU-9 Plus   \n",
       "2  01-04-2021  Thursday  M03    C       7  Mobiles   YouM       YM-99   \n",
       "3  01-04-2021  Thursday  M04    C       6  Mobiles   YouM  YM-99 Plus   \n",
       "4  01-04-2021  Thursday  M05    C       3  Mobiles   YouM      YM-98    \n",
       "\n",
       "   Avg Price  Total Sales Value  Discount Rate (%)  Discount Amount  \\\n",
       "0      12100             181500          11.654820     21153.498820   \n",
       "1      10100             101000          11.560498     11676.102961   \n",
       "2      16100             112700           9.456886     10657.910157   \n",
       "3      20100             120600           6.935385      8364.074702   \n",
       "4       8100              24300          17.995663      4372.946230   \n",
       "\n",
       "   Net Sales Value  \n",
       "0    160346.501180  \n",
       "1     89323.897039  \n",
       "2    102042.089843  \n",
       "3    112235.925298  \n",
       "4     19927.053770  "
      ]
     },
     "execution_count": 3,
     "metadata": {},
     "output_type": "execute_result"
    }
   ],
   "source": [
    "df = pd.read_csv(\"C:\\\\Users\\\\SATYA GAYATHRI\\\\OneDrive\\\\Documents\\\\Data science\\\\Assignments\\\\Basic stats - 1\\\\sales_data_with_discounts.csv\")\n",
    "df.head()"
   ]
  },
  {
   "cell_type": "code",
   "execution_count": 4,
   "id": "753bc595-7558-47ae-ab38-c09976bd102b",
   "metadata": {},
   "outputs": [
    {
     "name": "stdout",
     "output_type": "stream",
     "text": [
      "<class 'pandas.core.frame.DataFrame'>\n",
      "RangeIndex: 450 entries, 0 to 449\n",
      "Data columns (total 13 columns):\n",
      " #   Column             Non-Null Count  Dtype  \n",
      "---  ------             --------------  -----  \n",
      " 0   Date               450 non-null    object \n",
      " 1   Day                450 non-null    object \n",
      " 2   SKU                450 non-null    object \n",
      " 3   City               450 non-null    object \n",
      " 4   Volume             450 non-null    int64  \n",
      " 5   BU                 450 non-null    object \n",
      " 6   Brand              450 non-null    object \n",
      " 7   Model              450 non-null    object \n",
      " 8   Avg Price          450 non-null    int64  \n",
      " 9   Total Sales Value  450 non-null    int64  \n",
      " 10  Discount Rate (%)  450 non-null    float64\n",
      " 11  Discount Amount    450 non-null    float64\n",
      " 12  Net Sales Value    450 non-null    float64\n",
      "dtypes: float64(3), int64(3), object(7)\n",
      "memory usage: 45.8+ KB\n"
     ]
    }
   ],
   "source": [
    "df.info()"
   ]
  },
  {
   "cell_type": "code",
   "execution_count": 5,
   "id": "21c0b527-fc43-4c40-86fa-417987013dad",
   "metadata": {},
   "outputs": [],
   "source": [
    "# from the above info, we can understand that, we have 3 int and 3 col and in total we have\n",
    "# 6 numerical columns"
   ]
  },
  {
   "cell_type": "code",
   "execution_count": 6,
   "id": "d0b4002e-98ae-4346-9b2d-a5db4d5048b2",
   "metadata": {},
   "outputs": [
    {
     "data": {
      "text/html": [
       "<div>\n",
       "<style scoped>\n",
       "    .dataframe tbody tr th:only-of-type {\n",
       "        vertical-align: middle;\n",
       "    }\n",
       "\n",
       "    .dataframe tbody tr th {\n",
       "        vertical-align: top;\n",
       "    }\n",
       "\n",
       "    .dataframe thead th {\n",
       "        text-align: right;\n",
       "    }\n",
       "</style>\n",
       "<table border=\"1\" class=\"dataframe\">\n",
       "  <thead>\n",
       "    <tr style=\"text-align: right;\">\n",
       "      <th></th>\n",
       "      <th>Volume</th>\n",
       "      <th>Avg Price</th>\n",
       "      <th>Total Sales Value</th>\n",
       "      <th>Discount Rate (%)</th>\n",
       "      <th>Discount Amount</th>\n",
       "      <th>Net Sales Value</th>\n",
       "    </tr>\n",
       "  </thead>\n",
       "  <tbody>\n",
       "    <tr>\n",
       "      <th>0</th>\n",
       "      <td>15</td>\n",
       "      <td>12100</td>\n",
       "      <td>181500</td>\n",
       "      <td>11.654820</td>\n",
       "      <td>21153.498820</td>\n",
       "      <td>160346.501180</td>\n",
       "    </tr>\n",
       "    <tr>\n",
       "      <th>1</th>\n",
       "      <td>10</td>\n",
       "      <td>10100</td>\n",
       "      <td>101000</td>\n",
       "      <td>11.560498</td>\n",
       "      <td>11676.102961</td>\n",
       "      <td>89323.897039</td>\n",
       "    </tr>\n",
       "    <tr>\n",
       "      <th>2</th>\n",
       "      <td>7</td>\n",
       "      <td>16100</td>\n",
       "      <td>112700</td>\n",
       "      <td>9.456886</td>\n",
       "      <td>10657.910157</td>\n",
       "      <td>102042.089843</td>\n",
       "    </tr>\n",
       "    <tr>\n",
       "      <th>3</th>\n",
       "      <td>6</td>\n",
       "      <td>20100</td>\n",
       "      <td>120600</td>\n",
       "      <td>6.935385</td>\n",
       "      <td>8364.074702</td>\n",
       "      <td>112235.925298</td>\n",
       "    </tr>\n",
       "    <tr>\n",
       "      <th>4</th>\n",
       "      <td>3</td>\n",
       "      <td>8100</td>\n",
       "      <td>24300</td>\n",
       "      <td>17.995663</td>\n",
       "      <td>4372.946230</td>\n",
       "      <td>19927.053770</td>\n",
       "    </tr>\n",
       "  </tbody>\n",
       "</table>\n",
       "</div>"
      ],
      "text/plain": [
       "   Volume  Avg Price  Total Sales Value  Discount Rate (%)  Discount Amount  \\\n",
       "0      15      12100             181500          11.654820     21153.498820   \n",
       "1      10      10100             101000          11.560498     11676.102961   \n",
       "2       7      16100             112700           9.456886     10657.910157   \n",
       "3       6      20100             120600           6.935385      8364.074702   \n",
       "4       3       8100              24300          17.995663      4372.946230   \n",
       "\n",
       "   Net Sales Value  \n",
       "0    160346.501180  \n",
       "1     89323.897039  \n",
       "2    102042.089843  \n",
       "3    112235.925298  \n",
       "4     19927.053770  "
      ]
     },
     "execution_count": 6,
     "metadata": {},
     "output_type": "execute_result"
    }
   ],
   "source": [
    "num_cols = df.iloc[:, [4, 8, 9, 10, 11, 12]]\n",
    "num_cols.head()"
   ]
  },
  {
   "cell_type": "code",
   "execution_count": 7,
   "id": "31f2e525-7944-4038-974b-e2d78bc16379",
   "metadata": {},
   "outputs": [],
   "source": [
    "# the above are the numerical columns"
   ]
  },
  {
   "cell_type": "code",
   "execution_count": 8,
   "id": "47b329d5-5cd7-4060-b417-990981fa60d9",
   "metadata": {},
   "outputs": [],
   "source": [
    "# Calculating the mean, median, mode, and standard deviation for these columns"
   ]
  },
  {
   "cell_type": "code",
   "execution_count": 9,
   "id": "cecda7b9-eaa5-486d-a1d2-7dc64049d477",
   "metadata": {},
   "outputs": [],
   "source": [
    "import numpy as np"
   ]
  },
  {
   "cell_type": "code",
   "execution_count": 10,
   "id": "f056cb64-6315-49fe-87d1-927a7b27dc81",
   "metadata": {},
   "outputs": [
    {
     "name": "stdout",
     "output_type": "stream",
     "text": [
      "Mean of the volume: 5.066666666666666\n",
      "Medain of the volume: 4.0\n",
      "Mode of the volume: 0    3\n",
      "Name: Volume, dtype: int64\n"
     ]
    }
   ],
   "source": [
    "#volume:\n",
    "\n",
    "print(\"Mean of the volume:\",df[\"Volume\"].mean())\n",
    "print(\"Medain of the volume:\",df[\"Volume\"].median())\n",
    "print(\"Mode of the volume:\",df[\"Volume\"].mode())"
   ]
  },
  {
   "cell_type": "code",
   "execution_count": 11,
   "id": "085da50d-a724-4860-a7c1-f8069f8c3f44",
   "metadata": {},
   "outputs": [
    {
     "name": "stdout",
     "output_type": "stream",
     "text": [
      "Mean of the Avg Price: 10453.433333333332\n",
      "Medain of the Avg Price: 1450.0\n",
      "Mode of the Avg Price: 0     400\n",
      "1     450\n",
      "2     500\n",
      "3    1300\n",
      "4    8100\n",
      "Name: Avg Price, dtype: int64\n"
     ]
    }
   ],
   "source": [
    "# Avg Price:\n",
    "\n",
    "print(\"Mean of the Avg Price:\",df[\"Avg Price\"].mean())\n",
    "print(\"Medain of the Avg Price:\",df[\"Avg Price\"].median())\n",
    "print(\"Mode of the Avg Price:\",df[\"Avg Price\"].mode())"
   ]
  },
  {
   "cell_type": "code",
   "execution_count": 12,
   "id": "f007dd53-424b-4801-a6f3-62bc1fa609c8",
   "metadata": {},
   "outputs": [
    {
     "name": "stdout",
     "output_type": "stream",
     "text": [
      "Mean of the Total Sales Value: 33812.83555555555\n",
      "Medain of the Total Sales Value: 5700.0\n",
      "Mode of the Total Sales Value: 0    24300\n",
      "Name: Total Sales Value, dtype: int64\n"
     ]
    }
   ],
   "source": [
    "# Total Sales Value:\n",
    "\n",
    "print(\"Mean of the Total Sales Value:\",df[\"Total Sales Value\"].mean())\n",
    "print(\"Medain of the Total Sales Value:\",df[\"Total Sales Value\"].median())\n",
    "print(\"Mode of the Total Sales Value:\",df[\"Total Sales Value\"].mode())"
   ]
  },
  {
   "cell_type": "code",
   "execution_count": 13,
   "id": "31444977-97c5-4b50-9a12-998b4ba378d7",
   "metadata": {},
   "outputs": [
    {
     "name": "stdout",
     "output_type": "stream",
     "text": [
      "Mean of the Discount Rate (%): 15.155241895330914\n",
      "Medain of the Discount Rate (%): 16.57776564929597\n",
      "Mode of the Discount Rate (%): 0       5.007822\n",
      "1       5.055218\n",
      "2       5.059801\n",
      "3       5.072124\n",
      "4       5.084108\n",
      "         ...    \n",
      "445    19.940610\n",
      "446    19.965340\n",
      "447    19.976879\n",
      "448    19.982257\n",
      "449    19.992407\n",
      "Name: Discount Rate (%), Length: 450, dtype: float64\n"
     ]
    }
   ],
   "source": [
    "# Discount Rate (%):\n",
    "\n",
    "print(\"Mean of the Discount Rate (%):\",df[\"Discount Rate (%)\"].mean())\n",
    "print(\"Medain of the Discount Rate (%):\",df[\"Discount Rate (%)\"].median())\n",
    "print(\"Mode of the Discount Rate (%):\",df[\"Discount Rate (%)\"].mode())"
   ]
  },
  {
   "cell_type": "code",
   "execution_count": 14,
   "id": "fe518b00-aca4-457c-9cd2-d5e7799d335e",
   "metadata": {},
   "outputs": [
    {
     "name": "stdout",
     "output_type": "stream",
     "text": [
      "Mean of the Discount Amount: 3346.499424342415\n",
      "Medain of the Discount Amount: 988.9337332382784\n",
      "Mode of the Discount Amount: 0         69.177942\n",
      "1         73.025199\n",
      "2         93.649161\n",
      "3         94.682735\n",
      "4        102.705757\n",
      "           ...     \n",
      "445    17900.983733\n",
      "446    21153.498820\n",
      "447    21496.675367\n",
      "448    25328.224204\n",
      "449    25738.022194\n",
      "Name: Discount Amount, Length: 450, dtype: float64\n"
     ]
    }
   ],
   "source": [
    "# Discount Amount:\n",
    "\n",
    "print(\"Mean of the Discount Amount:\",df[\"Discount Amount\"].mean())\n",
    "print(\"Medain of the Discount Amount:\",df[\"Discount Amount\"].median())\n",
    "print(\"Mode of the Discount Amount:\",df[\"Discount Amount\"].mode())"
   ]
  },
  {
   "cell_type": "code",
   "execution_count": 15,
   "id": "fa8dddc7-fb75-4ea1-9c92-b835bcfe7438",
   "metadata": {},
   "outputs": [
    {
     "name": "stdout",
     "output_type": "stream",
     "text": [
      "Mean of the Net Sales Value: 30466.336131270138\n",
      "Medain of the Net Sales Value: 4677.788059301853\n",
      "Mode of the Net Sales Value: 0         326.974801\n",
      "1         330.822058\n",
      "2         466.350839\n",
      "3         485.317265\n",
      "4         496.607104\n",
      "           ...      \n",
      "445    162603.186379\n",
      "446    163915.971000\n",
      "447    163967.080070\n",
      "448    166263.161348\n",
      "449    179507.479049\n",
      "Name: Net Sales Value, Length: 450, dtype: float64\n"
     ]
    }
   ],
   "source": [
    "# Net Sales Value:\n",
    "\n",
    "print(\"Mean of the Net Sales Value:\",df[\"Net Sales Value\"].mean())\n",
    "print(\"Medain of the Net Sales Value:\",df[\"Net Sales Value\"].median())\n",
    "print(\"Mode of the Net Sales Value:\",df[\"Net Sales Value\"].mode())"
   ]
  },
  {
   "cell_type": "code",
   "execution_count": 16,
   "id": "2da4d3cf-4f9d-4cbe-8a6f-5e8df9da9919",
   "metadata": {},
   "outputs": [],
   "source": [
    "# standard deviation"
   ]
  },
  {
   "cell_type": "code",
   "execution_count": 17,
   "id": "4ec899f0-ed5a-4747-a010-1dfe5239e227",
   "metadata": {},
   "outputs": [
    {
     "name": "stdout",
     "output_type": "stream",
     "text": [
      "standard deviation of  Volume: 4.231602391213926\n",
      "standard deviation of  Avg Price: 18079.90483993645\n",
      "standard deviation of  Total Sales Value: 50535.07417255328\n",
      "standard deviation of  Discount Rate (%) 4.220602153325511\n",
      "standard deviation of  Discount Amount: 4509.9029633539985\n",
      "standard deviation of  Net Sales Value: 46358.656624066934\n"
     ]
    }
   ],
   "source": [
    "print(\"standard deviation of  Volume:\",df[\"Volume\"].std())\n",
    "print(\"standard deviation of  Avg Price:\",df[\"Avg Price\"].std())\n",
    "print(\"standard deviation of  Total Sales Value:\",df[\"Total Sales Value\"].std())\n",
    "print(\"standard deviation of  Discount Rate (%)\",df[\"Discount Rate (%)\"].std())\n",
    "print(\"standard deviation of  Discount Amount:\",df[\"Discount Amount\"].std())\n",
    "print(\"standard deviation of  Net Sales Value:\",df[\"Net Sales Value\"].std())"
   ]
  },
  {
   "cell_type": "code",
   "execution_count": 18,
   "id": "a345a012-6d6a-4c2b-92b2-5f5aeaf26133",
   "metadata": {},
   "outputs": [],
   "source": [
    "# data visualization"
   ]
  },
  {
   "cell_type": "code",
   "execution_count": 19,
   "id": "f1bdaaae-0d05-403f-a35f-ef86452e6460",
   "metadata": {},
   "outputs": [],
   "source": [
    "# histograms"
   ]
  },
  {
   "cell_type": "code",
   "execution_count": 20,
   "id": "53881af2-106f-4e5b-9b31-7a699037870a",
   "metadata": {},
   "outputs": [
    {
     "name": "stdout",
     "output_type": "stream",
     "text": [
      "Volume: 2.731723626557714\n"
     ]
    },
    {
     "data": {
      "image/png": "[encoded data removed]",
      "text/plain": [
       "<Figure size 640x480 with 1 Axes>"
      ]
     },
     "metadata": {},
     "output_type": "display_data"
    }
   ],
   "source": [
    "df[\"Volume\"].hist()\n",
    "print(\"Volume:\", df[\"Volume\"].skew())"
   ]
  },
  {
   "cell_type": "code",
   "execution_count": 21,
   "id": "6f21236d-97dd-484c-82ac-1f87f7f1b4a7",
   "metadata": {},
   "outputs": [
    {
     "name": "stdout",
     "output_type": "stream",
     "text": [
      "Avg Price: 1.9088730767759727\n"
     ]
    },
    {
     "data": {
      "image/png": "[encoded data removed]",
      "text/plain": [
       "<Figure size 640x480 with 1 Axes>"
      ]
     },
     "metadata": {},
     "output_type": "display_data"
    }
   ],
   "source": [
    "df[\"Avg Price\"].hist()\n",
    "print(\"Avg Price:\",df[\"Avg Price\"].skew())"
   ]
  },
  {
   "cell_type": "code",
   "execution_count": 22,
   "id": "f268537b-b5d4-422b-9cd0-19e071ae9902",
   "metadata": {},
   "outputs": [
    {
     "name": "stdout",
     "output_type": "stream",
     "text": [
      "Total Sales Value: 1.5347293238977937\n"
     ]
    },
    {
     "data": {
      "image/png": "[encoded data removed]",
      "text/plain": [
       "<Figure size 640x480 with 1 Axes>"
      ]
     },
     "metadata": {},
     "output_type": "display_data"
    }
   ],
   "source": [
    "df[\"Total Sales Value\"].hist()\n",
    "print(\"Total Sales Value:\",df[\"Total Sales Value\"].skew())"
   ]
  },
  {
   "cell_type": "code",
   "execution_count": 23,
   "id": "3aec241d-9bd1-4425-aa26-93c6bdaa0342",
   "metadata": {},
   "outputs": [
    {
     "name": "stdout",
     "output_type": "stream",
     "text": [
      "Discount Rate (%): -1.0622943696988825\n"
     ]
    },
    {
     "data": {
      "image/png": "[encoded data removed]",
      "text/plain": [
       "<Figure size 640x480 with 1 Axes>"
      ]
     },
     "metadata": {},
     "output_type": "display_data"
    }
   ],
   "source": [
    "df[\"Discount Rate (%)\"].hist()\n",
    "print(\"Discount Rate (%):\",df[\"Discount Rate (%)\"].skew())"
   ]
  },
  {
   "cell_type": "code",
   "execution_count": 24,
   "id": "c0602148-55a7-4d19-aa11-708b92795d29",
   "metadata": {},
   "outputs": [
    {
     "name": "stdout",
     "output_type": "stream",
     "text": [
      "Discount Amount: 1.9130377339538271\n"
     ]
    },
    {
     "data": {
      "image/png": "[encoded data removed]",
      "text/plain": [
       "<Figure size 640x480 with 1 Axes>"
      ]
     },
     "metadata": {},
     "output_type": "display_data"
    }
   ],
   "source": [
    "df[\"Discount Amount\"].hist()\n",
    "print(\"Discount Amount:\",df[\"Discount Amount\"].skew())"
   ]
  },
  {
   "cell_type": "code",
   "execution_count": 25,
   "id": "e026d9bb-75b4-45ac-befe-21b9a0a144b8",
   "metadata": {},
   "outputs": [
    {
     "name": "stdout",
     "output_type": "stream",
     "text": [
      "Net Sales Value: 1.5408217575344376\n"
     ]
    },
    {
     "data": {
      "image/png": "[encoded data removed]",
      "text/plain": [
       "<Figure size 640x480 with 1 Axes>"
      ]
     },
     "metadata": {},
     "output_type": "display_data"
    }
   ],
   "source": [
    "df[\"Net Sales Value\"].hist()\n",
    "print(\"Net Sales Value:\",df[\"Net Sales Value\"].skew())"
   ]
  },
  {
   "cell_type": "code",
   "execution_count": 26,
   "id": "72a00eed-f60d-4d4e-984d-0da36451ab9f",
   "metadata": {},
   "outputs": [],
   "source": [
    "# most numerical values are right-skewed. \n",
    "# net sales values, discount amount, total sales values, avg price, volume are right-skewed\n",
    "# discount rate(%) is left-skewed"
   ]
  },
  {
   "cell_type": "code",
   "execution_count": 27,
   "id": "378fe180-a6e1-4a9a-9384-7f1fe4fac9f6",
   "metadata": {},
   "outputs": [],
   "source": [
    "# boxplots"
   ]
  },
  {
   "cell_type": "code",
   "execution_count": 28,
   "id": "df6d8781-6a21-4b1a-b7b9-4c6bb0ec0f50",
   "metadata": {},
   "outputs": [
    {
     "data": {
      "text/plain": [
       "<Axes: title={'center': 'boxplot'}>"
      ]
     },
     "execution_count": 28,
     "metadata": {},
     "output_type": "execute_result"
    },
    {
     "data": {
      "image/png": "[encoded data removed]",
      "text/plain": [
       "<Figure size 640x480 with 1 Axes>"
      ]
     },
     "metadata": {},
     "output_type": "display_data"
    }
   ],
   "source": [
    "#volume\n",
    "boxplot = df[\"Volume\"].plot(kind=\"box\",vert=False,title='boxplot')\n",
    "boxplot"
   ]
  },
  {
   "cell_type": "code",
   "execution_count": 29,
   "id": "ec78dabb-8ce9-45b6-9e42-ac8fa6282c74",
   "metadata": {},
   "outputs": [
    {
     "data": {
      "text/plain": [
       "np.float64(3.0)"
      ]
     },
     "execution_count": 29,
     "metadata": {},
     "output_type": "execute_result"
    }
   ],
   "source": [
    "# identifying outliers\n",
    "Q1 = np.percentile(df[\"Volume\"],25)\n",
    "Q3 = np.percentile(df[\"Volume\"],75)\n",
    "IQR = Q3 - Q1\n",
    "IQR"
   ]
  },
  {
   "cell_type": "code",
   "execution_count": 30,
   "id": "58d625d0-6188-47af-a639-48c4b559702c",
   "metadata": {},
   "outputs": [
    {
     "data": {
      "text/plain": [
       "np.float64(10.5)"
      ]
     },
     "execution_count": 30,
     "metadata": {},
     "output_type": "execute_result"
    }
   ],
   "source": [
    "UW = Q3 + (1.5 * IQR)\n",
    "UW"
   ]
  },
  {
   "cell_type": "code",
   "execution_count": 31,
   "id": "595db030-7e7e-4f3b-90dd-d7ec9c6cb93e",
   "metadata": {},
   "outputs": [
    {
     "name": "stdout",
     "output_type": "stream",
     "text": [
      "#outliers are : 44\n"
     ]
    }
   ],
   "source": [
    "print(\"#outliers are :\", len(df[df[\"Volume\"]>UW]))"
   ]
  },
  {
   "cell_type": "code",
   "execution_count": 32,
   "id": "220ca5f4-7580-4b6e-bf3f-4a313f2295c3",
   "metadata": {},
   "outputs": [
    {
     "data": {
      "text/plain": [
       "<Axes: title={'center': 'boxplot'}>"
      ]
     },
     "execution_count": 32,
     "metadata": {},
     "output_type": "execute_result"
    },
    {
     "data": {
      "image/png": "[encoded data removed]",
      "text/plain": [
       "<Figure size 640x480 with 1 Axes>"
      ]
     },
     "metadata": {},
     "output_type": "display_data"
    }
   ],
   "source": [
    "# Avg Price\n",
    "boxplot = df[\"Avg Price\"].plot(kind=\"box\",vert=False,title=\"boxplot\")\n",
    "boxplot"
   ]
  },
  {
   "cell_type": "code",
   "execution_count": 33,
   "id": "21e5b662-afdf-4802-b1b0-bfed0a549692",
   "metadata": {},
   "outputs": [
    {
     "data": {
      "text/plain": [
       "np.float64(9635.0)"
      ]
     },
     "execution_count": 33,
     "metadata": {},
     "output_type": "execute_result"
    }
   ],
   "source": [
    "Q1 = np.percentile(df[\"Avg Price\"],25)\n",
    "Q3 = np.percentile(df[\"Avg Price\"],75)\n",
    "IQR = Q3 - Q1\n",
    "IQR"
   ]
  },
  {
   "cell_type": "code",
   "execution_count": 34,
   "id": "65bec955-494e-427e-904d-eb3c20571c67",
   "metadata": {},
   "outputs": [
    {
     "data": {
      "text/plain": [
       "np.float64(24552.5)"
      ]
     },
     "execution_count": 34,
     "metadata": {},
     "output_type": "execute_result"
    }
   ],
   "source": [
    "UW = Q3 + (1.5 * IQR)\n",
    "UW"
   ]
  },
  {
   "cell_type": "code",
   "execution_count": 35,
   "id": "08d5c6b1-a11b-430e-8acb-6481241ceae1",
   "metadata": {},
   "outputs": [
    {
     "name": "stdout",
     "output_type": "stream",
     "text": [
      "# outliers are: 60\n"
     ]
    }
   ],
   "source": [
    "print(\"# outliers are:\", len(df[df[\"Avg Price\"]>UW]))"
   ]
  },
  {
   "cell_type": "code",
   "execution_count": 36,
   "id": "c703b18f-9880-40fe-bae5-f636992cb1b1",
   "metadata": {},
   "outputs": [
    {
     "data": {
      "text/plain": [
       "<Axes: title={'center': 'boxplot'}>"
      ]
     },
     "execution_count": 36,
     "metadata": {},
     "output_type": "execute_result"
    },
    {
     "data": {
      "image/png": "[encoded data removed]",
      "text/plain": [
       "<Figure size 640x480 with 1 Axes>"
      ]
     },
     "metadata": {},
     "output_type": "display_data"
    }
   ],
   "source": [
    "# Total Sales Value\n",
    "boxplot = df[\"Total Sales Value\"].plot(kind=\"box\",vert=False,title=\"boxplot\")\n",
    "boxplot"
   ]
  },
  {
   "cell_type": "code",
   "execution_count": 37,
   "id": "5acacb8f-e979-4aa5-bfad-895f94127d89",
   "metadata": {},
   "outputs": [
    {
     "data": {
      "text/plain": [
       "np.float64(50500.0)"
      ]
     },
     "execution_count": 37,
     "metadata": {},
     "output_type": "execute_result"
    }
   ],
   "source": [
    "Q1 = np.percentile(df[\"Total Sales Value\"],25)\n",
    "Q3 = np.percentile(df[\"Total Sales Value\"],75)\n",
    "IQR = Q3 - Q1\n",
    "IQR"
   ]
  },
  {
   "cell_type": "code",
   "execution_count": 38,
   "id": "4c4d1266-2a21-4b29-a515-3dfbd2df3ac8",
   "metadata": {},
   "outputs": [
    {
     "data": {
      "text/plain": [
       "np.float64(128950.0)"
      ]
     },
     "execution_count": 38,
     "metadata": {},
     "output_type": "execute_result"
    }
   ],
   "source": [
    "UW = Q3 + (1.5 * IQR)\n",
    "UW"
   ]
  },
  {
   "cell_type": "code",
   "execution_count": 39,
   "id": "74f6ee68-0ad5-4724-b021-36aa1009093f",
   "metadata": {},
   "outputs": [
    {
     "name": "stdout",
     "output_type": "stream",
     "text": [
      "#outliers: 36\n"
     ]
    }
   ],
   "source": [
    "print(\"#outliers:\",len(df[df[\"Total Sales Value\"]>UW]))"
   ]
  },
  {
   "cell_type": "code",
   "execution_count": 40,
   "id": "0ef14b03-d6d5-4fae-b513-4effadef0f69",
   "metadata": {},
   "outputs": [
    {
     "data": {
      "text/plain": [
       "<Axes: title={'center': 'boxplot'}>"
      ]
     },
     "execution_count": 40,
     "metadata": {},
     "output_type": "execute_result"
    },
    {
     "data": {
      "image/png": "[encoded data removed]",
      "text/plain": [
       "<Figure size 640x480 with 1 Axes>"
      ]
     },
     "metadata": {},
     "output_type": "display_data"
    }
   ],
   "source": [
    "# Discount Rate (%)\n",
    "boxplot = df[\"Discount Rate (%)\"].plot(kind=\"box\",vert=False,title='boxplot')\n",
    "boxplot"
   ]
  },
  {
   "cell_type": "code",
   "execution_count": 41,
   "id": "0562d053-0b1b-4c52-b026-1db788649a17",
   "metadata": {},
   "outputs": [
    {
     "data": {
      "text/plain": [
       "np.float64(4.149655934050962)"
      ]
     },
     "execution_count": 41,
     "metadata": {},
     "output_type": "execute_result"
    }
   ],
   "source": [
    "Q1 = np.percentile(df[\"Discount Rate (%)\"],25)\n",
    "Q3 = np.percentile(df[\"Discount Rate (%)\"],75)\n",
    "IQR = Q3 - Q1\n",
    "IQR"
   ]
  },
  {
   "cell_type": "code",
   "execution_count": 42,
   "id": "8ea0bbaa-4a9a-4993-a0d7-90afd0962c3c",
   "metadata": {},
   "outputs": [
    {
     "data": {
      "text/plain": [
       "np.float64(24.339202378829146)"
      ]
     },
     "execution_count": 42,
     "metadata": {},
     "output_type": "execute_result"
    }
   ],
   "source": [
    "UW = Q3 + (1.5 * IQR)\n",
    "UW"
   ]
  },
  {
   "cell_type": "code",
   "execution_count": 43,
   "id": "26b3104e-0adc-4a72-b96c-12f0bde315ca",
   "metadata": {},
   "outputs": [
    {
     "name": "stdout",
     "output_type": "stream",
     "text": [
      "#outliers: 0\n"
     ]
    }
   ],
   "source": [
    "print(\"#outliers:\",len(df[df[\"Discount Rate (%)\"]>UW]))"
   ]
  },
  {
   "cell_type": "code",
   "execution_count": 44,
   "id": "4b1bb44a-be2d-4e8c-80e3-fde5d0c51fc6",
   "metadata": {},
   "outputs": [],
   "source": [
    "# here we can see the outliers appearing in the boxplot clearly, but there arent any outliers when \n",
    "# we used UW, so I am trying to use LW to make sure, the presence of outliers"
   ]
  },
  {
   "cell_type": "code",
   "execution_count": 45,
   "id": "447ca9d8-e33f-444e-b195-57789d4e6c9e",
   "metadata": {},
   "outputs": [
    {
     "name": "stdout",
     "output_type": "stream",
     "text": [
      "#lower outliers: 45\n"
     ]
    }
   ],
   "source": [
    "LW = Q1 - (1.5 * IQR)\n",
    "print(\"#lower outliers:\", len(df[df[\"Discount Rate (%)\"] < LW]))"
   ]
  },
  {
   "cell_type": "code",
   "execution_count": 46,
   "id": "c778cf1d-dea8-49f7-9797-3d472e666517",
   "metadata": {},
   "outputs": [
    {
     "data": {
      "text/plain": [
       "45"
      ]
     },
     "execution_count": 46,
     "metadata": {},
     "output_type": "execute_result"
    }
   ],
   "source": [
    "total_outliers = len(df[df[\"Discount Rate (%)\"] > UW]) + len(df[df[\"Discount Rate (%)\"] < LW])\n",
    "total_outliers"
   ]
  },
  {
   "cell_type": "code",
   "execution_count": 47,
   "id": "619c8c8f-d398-46a9-b6fb-571308315dc1",
   "metadata": {},
   "outputs": [],
   "source": [
    "# i checked with lw because i didnt found any on uw and i can still see in the boxplot that\n",
    "# the outliers are present"
   ]
  },
  {
   "cell_type": "code",
   "execution_count": 48,
   "id": "f6bf7f10-a782-413e-8148-d9817ba8f084",
   "metadata": {},
   "outputs": [
    {
     "data": {
      "text/plain": [
       "<Axes: title={'center': 'boxplot'}>"
      ]
     },
     "execution_count": 48,
     "metadata": {},
     "output_type": "execute_result"
    },
    {
     "data": {
      "image/png": "[encoded data removed]",
      "text/plain": [
       "<Figure size 640x480 with 1 Axes>"
      ]
     },
     "metadata": {},
     "output_type": "display_data"
    }
   ],
   "source": [
    "# Discount Amount\n",
    "boxplot = df[\"Discount Amount\"].plot(kind='box',vert=False,title='boxplot')\n",
    "boxplot"
   ]
  },
  {
   "cell_type": "code",
   "execution_count": 49,
   "id": "77d5a5cd-3416-49cc-88b2-da57621e55cb",
   "metadata": {},
   "outputs": [
    {
     "data": {
      "text/plain": [
       "np.float64(4856.03612280112)"
      ]
     },
     "execution_count": 49,
     "metadata": {},
     "output_type": "execute_result"
    }
   ],
   "source": [
    "Q1 = np.percentile(df[\"Discount Amount\"],25)\n",
    "Q3 = np.percentile(df[\"Discount Amount\"],75)\n",
    "IQR = Q3-Q1\n",
    "IQR"
   ]
  },
  {
   "cell_type": "code",
   "execution_count": 50,
   "id": "82523243-2763-4534-9bee-377de839d7d0",
   "metadata": {},
   "outputs": [
    {
     "data": {
      "text/plain": [
       "np.float64(12600.54961088833)"
      ]
     },
     "execution_count": 50,
     "metadata": {},
     "output_type": "execute_result"
    }
   ],
   "source": [
    "UW = Q3 + (1.5 * IQR)\n",
    "UW"
   ]
  },
  {
   "cell_type": "code",
   "execution_count": 51,
   "id": "02717dac-b9bd-4682-b035-1cb1cc2db42c",
   "metadata": {},
   "outputs": [
    {
     "name": "stdout",
     "output_type": "stream",
     "text": [
      "# outliers 24\n"
     ]
    }
   ],
   "source": [
    "print(\"# outliers\",len(df[df[\"Discount Amount\"]>UW]))"
   ]
  },
  {
   "cell_type": "code",
   "execution_count": 52,
   "id": "14f4c18a-671c-4153-ac8d-daa8ffb5ce30",
   "metadata": {},
   "outputs": [
    {
     "data": {
      "text/plain": [
       "<Axes: title={'center': 'boxplot'}>"
      ]
     },
     "execution_count": 52,
     "metadata": {},
     "output_type": "execute_result"
    },
    {
     "data": {
      "image/png": "[encoded data removed]",
      "text/plain": [
       "<Figure size 640x480 with 1 Axes>"
      ]
     },
     "metadata": {},
     "output_type": "display_data"
    }
   ],
   "source": [
    "# Net Sales Value\n",
    "boxplot = df[\"Net Sales Value\"].plot(kind=\"box\",vert=False,title='boxplot')\n",
    "boxplot"
   ]
  },
  {
   "cell_type": "code",
   "execution_count": 53,
   "id": "447f43b2-aaf8-40c1-88a0-ad5aad2ce233",
   "metadata": {},
   "outputs": [
    {
     "data": {
      "text/plain": [
       "np.float64(45645.70420627015)"
      ]
     },
     "execution_count": 53,
     "metadata": {},
     "output_type": "execute_result"
    }
   ],
   "source": [
    "Q1 = np.percentile(df[\"Net Sales Value\"],25)\n",
    "Q3 = np.percentile(df[\"Net Sales Value\"],75)\n",
    "IQR = Q3 - Q1\n",
    "IQR"
   ]
  },
  {
   "cell_type": "code",
   "execution_count": 54,
   "id": "86f9e305-fd9b-4cae-ad67-f257b1026042",
   "metadata": {},
   "outputs": [
    {
     "data": {
      "text/plain": [
       "np.float64(116316.46916099661)"
      ]
     },
     "execution_count": 54,
     "metadata": {},
     "output_type": "execute_result"
    }
   ],
   "source": [
    "UW = Q3 + (1.5 * IQR)\n",
    "UW"
   ]
  },
  {
   "cell_type": "code",
   "execution_count": 55,
   "id": "7c4ca8d7-7631-4320-bf54-f411b3188dc2",
   "metadata": {},
   "outputs": [
    {
     "name": "stdout",
     "output_type": "stream",
     "text": [
      "#outliers: 35\n"
     ]
    }
   ],
   "source": [
    "print(\"#outliers:\",len(df[df[\"Net Sales Value\"]>UW]))"
   ]
  },
  {
   "cell_type": "code",
   "execution_count": 56,
   "id": "8930a9fd-9a23-4cf9-b144-281d7afd2416",
   "metadata": {},
   "outputs": [],
   "source": [
    "# we found outliers and the extreme outliers are in avg price , discount rate (%) "
   ]
  },
  {
   "cell_type": "code",
   "execution_count": 57,
   "id": "94b5e335-718b-43a3-a765-03c843245c50",
   "metadata": {},
   "outputs": [],
   "source": [
    "# barchart"
   ]
  },
  {
   "cell_type": "code",
   "execution_count": 58,
   "id": "e9c7ce07-ded0-492e-ae3e-f94e76440052",
   "metadata": {},
   "outputs": [
    {
     "data": {
      "text/plain": [
       "<Axes: xlabel='Date'>"
      ]
     },
     "execution_count": 58,
     "metadata": {},
     "output_type": "execute_result"
    },
    {
     "data": {
      "image/png": "[encoded data removed]",
      "text/plain": [
       "<Figure size 640x480 with 1 Axes>"
      ]
     },
     "metadata": {},
     "output_type": "display_data"
    }
   ],
   "source": [
    "date_counts = df[\"Date\"].value_counts()\n",
    "date_counts.plot(kind=\"bar\")"
   ]
  },
  {
   "cell_type": "code",
   "execution_count": 59,
   "id": "30029c02-ab95-43db-9229-79e26809d57c",
   "metadata": {},
   "outputs": [
    {
     "data": {
      "text/plain": [
       "<Axes: xlabel='Day'>"
      ]
     },
     "execution_count": 59,
     "metadata": {},
     "output_type": "execute_result"
    },
    {
     "data": {
      "image/png": "[encoded data removed]",
      "text/plain": [
       "<Figure size 640x480 with 1 Axes>"
      ]
     },
     "metadata": {},
     "output_type": "display_data"
    }
   ],
   "source": [
    "day_counts = df[\"Day\"].value_counts()\n",
    "day_counts.plot(kind=\"bar\")"
   ]
  },
  {
   "cell_type": "code",
   "execution_count": 60,
   "id": "052b630a-dc9b-4c7f-819c-93d5daf7e362",
   "metadata": {},
   "outputs": [
    {
     "data": {
      "text/plain": [
       "<Axes: xlabel='SKU'>"
      ]
     },
     "execution_count": 60,
     "metadata": {},
     "output_type": "execute_result"
    },
    {
     "data": {
      "image/png": "[encoded data removed]",
      "text/plain": [
       "<Figure size 640x480 with 1 Axes>"
      ]
     },
     "metadata": {},
     "output_type": "display_data"
    }
   ],
   "source": [
    "sku_counts = df[\"SKU\"].value_counts()\n",
    "sku_counts.plot(kind=\"bar\")"
   ]
  },
  {
   "cell_type": "code",
   "execution_count": 61,
   "id": "662fe068-3b23-451c-8812-b6aa2e309b07",
   "metadata": {},
   "outputs": [
    {
     "data": {
      "text/plain": [
       "<Axes: xlabel='City'>"
      ]
     },
     "execution_count": 61,
     "metadata": {},
     "output_type": "execute_result"
    },
    {
     "data": {
      "image/png": "[encoded data removed]",
      "text/plain": [
       "<Figure size 640x480 with 1 Axes>"
      ]
     },
     "metadata": {},
     "output_type": "display_data"
    }
   ],
   "source": [
    "city_counts = df[\"City\"].value_counts()\n",
    "city_counts.plot(kind=\"bar\")"
   ]
  },
  {
   "cell_type": "code",
   "execution_count": 62,
   "id": "0a566455-d291-481e-b710-b3688902adfd",
   "metadata": {},
   "outputs": [
    {
     "data": {
      "text/plain": [
       "<Axes: xlabel='Brand'>"
      ]
     },
     "execution_count": 62,
     "metadata": {},
     "output_type": "execute_result"
    },
    {
     "data": {
      "image/png": "[encoded data removed]",
      "text/plain": [
       "<Figure size 640x480 with 1 Axes>"
      ]
     },
     "metadata": {},
     "output_type": "display_data"
    }
   ],
   "source": [
    "brand_counts = df[\"Brand\"].value_counts()\n",
    "brand_counts.plot(kind=\"bar\")"
   ]
  },
  {
   "cell_type": "code",
   "execution_count": 63,
   "id": "90a9c46b-3116-4f52-bb70-6e88cb4281cd",
   "metadata": {},
   "outputs": [
    {
     "data": {
      "text/plain": [
       "<Axes: xlabel='Model'>"
      ]
     },
     "execution_count": 63,
     "metadata": {},
     "output_type": "execute_result"
    },
    {
     "data": {
      "image/png": "[encoded data removed]",
      "text/plain": [
       "<Figure size 640x480 with 1 Axes>"
      ]
     },
     "metadata": {},
     "output_type": "display_data"
    }
   ],
   "source": [
    "model_counts = df[\"Model\"].value_counts()\n",
    "model_counts.plot(kind=\"bar\")"
   ]
  },
  {
   "cell_type": "code",
   "execution_count": 64,
   "id": "1fb8d0d5-f4e8-4f43-88a3-4d183995dfa8",
   "metadata": {},
   "outputs": [
    {
     "data": {
      "text/plain": [
       "<Axes: xlabel='BU'>"
      ]
     },
     "execution_count": 64,
     "metadata": {},
     "output_type": "execute_result"
    },
    {
     "data": {
      "image/png": "[encoded data removed]",
      "text/plain": [
       "<Figure size 640x480 with 1 Axes>"
      ]
     },
     "metadata": {},
     "output_type": "display_data"
    }
   ],
   "source": [
    "bu_counts = df[\"BU\"].value_counts()\n",
    "bu_counts.plot(kind=\"bar\")"
   ]
  },
  {
   "cell_type": "code",
   "execution_count": 65,
   "id": "84ffbf05-7aec-4e21-bdfb-f28b29d2c42d",
   "metadata": {},
   "outputs": [],
   "source": [
    "# standardization of numerical variables"
   ]
  },
  {
   "cell_type": "code",
   "execution_count": 66,
   "id": "1f8fe612-831b-499c-9464-72b76242bd3f",
   "metadata": {},
   "outputs": [
    {
     "data": {
      "text/html": [
       "<div>\n",
       "<style scoped>\n",
       "    .dataframe tbody tr th:only-of-type {\n",
       "        vertical-align: middle;\n",
       "    }\n",
       "\n",
       "    .dataframe tbody tr th {\n",
       "        vertical-align: top;\n",
       "    }\n",
       "\n",
       "    .dataframe thead th {\n",
       "        text-align: right;\n",
       "    }\n",
       "</style>\n",
       "<table border=\"1\" class=\"dataframe\">\n",
       "  <thead>\n",
       "    <tr style=\"text-align: right;\">\n",
       "      <th></th>\n",
       "      <th>Volume</th>\n",
       "      <th>Avg Price</th>\n",
       "      <th>Total Sales Value</th>\n",
       "      <th>Discount Rate (%)</th>\n",
       "      <th>Discount Amount</th>\n",
       "      <th>Net Sales Value</th>\n",
       "    </tr>\n",
       "  </thead>\n",
       "  <tbody>\n",
       "    <tr>\n",
       "      <th>0</th>\n",
       "      <td>15</td>\n",
       "      <td>12100</td>\n",
       "      <td>181500</td>\n",
       "      <td>11.654820</td>\n",
       "      <td>21153.498820</td>\n",
       "      <td>160346.501180</td>\n",
       "    </tr>\n",
       "    <tr>\n",
       "      <th>1</th>\n",
       "      <td>10</td>\n",
       "      <td>10100</td>\n",
       "      <td>101000</td>\n",
       "      <td>11.560498</td>\n",
       "      <td>11676.102961</td>\n",
       "      <td>89323.897039</td>\n",
       "    </tr>\n",
       "    <tr>\n",
       "      <th>2</th>\n",
       "      <td>7</td>\n",
       "      <td>16100</td>\n",
       "      <td>112700</td>\n",
       "      <td>9.456886</td>\n",
       "      <td>10657.910157</td>\n",
       "      <td>102042.089843</td>\n",
       "    </tr>\n",
       "    <tr>\n",
       "      <th>3</th>\n",
       "      <td>6</td>\n",
       "      <td>20100</td>\n",
       "      <td>120600</td>\n",
       "      <td>6.935385</td>\n",
       "      <td>8364.074702</td>\n",
       "      <td>112235.925298</td>\n",
       "    </tr>\n",
       "    <tr>\n",
       "      <th>4</th>\n",
       "      <td>3</td>\n",
       "      <td>8100</td>\n",
       "      <td>24300</td>\n",
       "      <td>17.995663</td>\n",
       "      <td>4372.946230</td>\n",
       "      <td>19927.053770</td>\n",
       "    </tr>\n",
       "  </tbody>\n",
       "</table>\n",
       "</div>"
      ],
      "text/plain": [
       "   Volume  Avg Price  Total Sales Value  Discount Rate (%)  Discount Amount  \\\n",
       "0      15      12100             181500          11.654820     21153.498820   \n",
       "1      10      10100             101000          11.560498     11676.102961   \n",
       "2       7      16100             112700           9.456886     10657.910157   \n",
       "3       6      20100             120600           6.935385      8364.074702   \n",
       "4       3       8100              24300          17.995663      4372.946230   \n",
       "\n",
       "   Net Sales Value  \n",
       "0    160346.501180  \n",
       "1     89323.897039  \n",
       "2    102042.089843  \n",
       "3    112235.925298  \n",
       "4     19927.053770  "
      ]
     },
     "execution_count": 66,
     "metadata": {},
     "output_type": "execute_result"
    }
   ],
   "source": [
    "X_cont = df.iloc[:, [4, 8, 9, 10, 11, 12]]\n",
    "X_cont.head()"
   ]
  },
  {
   "cell_type": "code",
   "execution_count": 67,
   "id": "787aa45a-ea07-45c7-87d6-f842a92acc8c",
   "metadata": {},
   "outputs": [],
   "source": [
    "from sklearn.preprocessing import StandardScaler\n",
    "SS = StandardScaler()"
   ]
  },
  {
   "cell_type": "code",
   "execution_count": 68,
   "id": "00bac855-a2a7-4ff0-abb7-b14a543dbc85",
   "metadata": {},
   "outputs": [
    {
     "data": {
      "text/html": [
       "<div>\n",
       "<style scoped>\n",
       "    .dataframe tbody tr th:only-of-type {\n",
       "        vertical-align: middle;\n",
       "    }\n",
       "\n",
       "    .dataframe tbody tr th {\n",
       "        vertical-align: top;\n",
       "    }\n",
       "\n",
       "    .dataframe thead th {\n",
       "        text-align: right;\n",
       "    }\n",
       "</style>\n",
       "<table border=\"1\" class=\"dataframe\">\n",
       "  <thead>\n",
       "    <tr style=\"text-align: right;\">\n",
       "      <th></th>\n",
       "      <th>Volume</th>\n",
       "      <th>Avg Price</th>\n",
       "      <th>Total Sales Value</th>\n",
       "      <th>Discount Rate (%)</th>\n",
       "      <th>Discount Amount</th>\n",
       "      <th>Net Sales Value</th>\n",
       "    </tr>\n",
       "  </thead>\n",
       "  <tbody>\n",
       "    <tr>\n",
       "      <th>0</th>\n",
       "      <td>2.350029</td>\n",
       "      <td>0.091173</td>\n",
       "      <td>2.925721</td>\n",
       "      <td>-0.830289</td>\n",
       "      <td>3.952816</td>\n",
       "      <td>2.804756</td>\n",
       "    </tr>\n",
       "    <tr>\n",
       "      <th>1</th>\n",
       "      <td>1.167129</td>\n",
       "      <td>-0.019570</td>\n",
       "      <td>1.330995</td>\n",
       "      <td>-0.852661</td>\n",
       "      <td>1.849014</td>\n",
       "      <td>1.271026</td>\n",
       "    </tr>\n",
       "    <tr>\n",
       "      <th>2</th>\n",
       "      <td>0.457388</td>\n",
       "      <td>0.312659</td>\n",
       "      <td>1.562775</td>\n",
       "      <td>-1.351631</td>\n",
       "      <td>1.622995</td>\n",
       "      <td>1.545675</td>\n",
       "    </tr>\n",
       "    <tr>\n",
       "      <th>3</th>\n",
       "      <td>0.220808</td>\n",
       "      <td>0.534146</td>\n",
       "      <td>1.719276</td>\n",
       "      <td>-1.949723</td>\n",
       "      <td>1.113807</td>\n",
       "      <td>1.765810</td>\n",
       "    </tr>\n",
       "    <tr>\n",
       "      <th>4</th>\n",
       "      <td>-0.488932</td>\n",
       "      <td>-0.130313</td>\n",
       "      <td>-0.188452</td>\n",
       "      <td>0.673739</td>\n",
       "      <td>0.227852</td>\n",
       "      <td>-0.227595</td>\n",
       "    </tr>\n",
       "  </tbody>\n",
       "</table>\n",
       "</div>"
      ],
      "text/plain": [
       "     Volume  Avg Price  Total Sales Value  Discount Rate (%)  Discount Amount  \\\n",
       "0  2.350029   0.091173           2.925721          -0.830289         3.952816   \n",
       "1  1.167129  -0.019570           1.330995          -0.852661         1.849014   \n",
       "2  0.457388   0.312659           1.562775          -1.351631         1.622995   \n",
       "3  0.220808   0.534146           1.719276          -1.949723         1.113807   \n",
       "4 -0.488932  -0.130313          -0.188452           0.673739         0.227852   \n",
       "\n",
       "   Net Sales Value  \n",
       "0         2.804756  \n",
       "1         1.271026  \n",
       "2         1.545675  \n",
       "3         1.765810  \n",
       "4        -0.227595  "
      ]
     },
     "execution_count": 68,
     "metadata": {},
     "output_type": "execute_result"
    }
   ],
   "source": [
    "SS_X = SS.fit_transform(X_cont)\n",
    "SS_X = pd.DataFrame(SS_X)\n",
    "SS_X.columns = list(X_cont)\n",
    "SS_X.head()"
   ]
  },
  {
   "cell_type": "code",
   "execution_count": 69,
   "id": "ec0ed519-ff5f-4d37-94ac-44cda138c72c",
   "metadata": {},
   "outputs": [],
   "source": [
    "# one hot encoding"
   ]
  },
  {
   "cell_type": "code",
   "execution_count": 70,
   "id": "118b0f24-e545-46e5-af5f-f29ccc7d3c0b",
   "metadata": {},
   "outputs": [],
   "source": [
    "X_cat = df[[\"Day\",\"BU\",\"Brand\"]]"
   ]
  },
  {
   "cell_type": "code",
   "execution_count": 71,
   "id": "85864a99-e5ea-4c6d-86c6-b0db40fbf272",
   "metadata": {},
   "outputs": [],
   "source": [
    "from sklearn.preprocessing import OneHotEncoder\n",
    "OHE = OneHotEncoder()"
   ]
  },
  {
   "cell_type": "code",
   "execution_count": 74,
   "id": "6f1a2643-f957-4c86-814c-954cf569917f",
   "metadata": {},
   "outputs": [
    {
     "data": {
      "text/html": [
       "<div>\n",
       "<style scoped>\n",
       "    .dataframe tbody tr th:only-of-type {\n",
       "        vertical-align: middle;\n",
       "    }\n",
       "\n",
       "    .dataframe tbody tr th {\n",
       "        vertical-align: top;\n",
       "    }\n",
       "\n",
       "    .dataframe thead th {\n",
       "        text-align: right;\n",
       "    }\n",
       "</style>\n",
       "<table border=\"1\" class=\"dataframe\">\n",
       "  <thead>\n",
       "    <tr style=\"text-align: right;\">\n",
       "      <th></th>\n",
       "      <th>Friday</th>\n",
       "      <th>Monday</th>\n",
       "      <th>Saturday</th>\n",
       "      <th>Sunday</th>\n",
       "      <th>Thursday</th>\n",
       "      <th>Tuesday</th>\n",
       "      <th>Wednesday</th>\n",
       "    </tr>\n",
       "  </thead>\n",
       "  <tbody>\n",
       "    <tr>\n",
       "      <th>0</th>\n",
       "      <td>0.0</td>\n",
       "      <td>0.0</td>\n",
       "      <td>0.0</td>\n",
       "      <td>0.0</td>\n",
       "      <td>1.0</td>\n",
       "      <td>0.0</td>\n",
       "      <td>0.0</td>\n",
       "    </tr>\n",
       "    <tr>\n",
       "      <th>1</th>\n",
       "      <td>0.0</td>\n",
       "      <td>0.0</td>\n",
       "      <td>0.0</td>\n",
       "      <td>0.0</td>\n",
       "      <td>1.0</td>\n",
       "      <td>0.0</td>\n",
       "      <td>0.0</td>\n",
       "    </tr>\n",
       "    <tr>\n",
       "      <th>2</th>\n",
       "      <td>0.0</td>\n",
       "      <td>0.0</td>\n",
       "      <td>0.0</td>\n",
       "      <td>0.0</td>\n",
       "      <td>1.0</td>\n",
       "      <td>0.0</td>\n",
       "      <td>0.0</td>\n",
       "    </tr>\n",
       "    <tr>\n",
       "      <th>3</th>\n",
       "      <td>0.0</td>\n",
       "      <td>0.0</td>\n",
       "      <td>0.0</td>\n",
       "      <td>0.0</td>\n",
       "      <td>1.0</td>\n",
       "      <td>0.0</td>\n",
       "      <td>0.0</td>\n",
       "    </tr>\n",
       "    <tr>\n",
       "      <th>4</th>\n",
       "      <td>0.0</td>\n",
       "      <td>0.0</td>\n",
       "      <td>0.0</td>\n",
       "      <td>0.0</td>\n",
       "      <td>1.0</td>\n",
       "      <td>0.0</td>\n",
       "      <td>0.0</td>\n",
       "    </tr>\n",
       "  </tbody>\n",
       "</table>\n",
       "</div>"
      ],
      "text/plain": [
       "   Friday  Monday  Saturday  Sunday  Thursday  Tuesday  Wednesday\n",
       "0     0.0     0.0       0.0     0.0       1.0      0.0        0.0\n",
       "1     0.0     0.0       0.0     0.0       1.0      0.0        0.0\n",
       "2     0.0     0.0       0.0     0.0       1.0      0.0        0.0\n",
       "3     0.0     0.0       0.0     0.0       1.0      0.0        0.0\n",
       "4     0.0     0.0       0.0     0.0       1.0      0.0        0.0"
      ]
     },
     "execution_count": 74,
     "metadata": {},
     "output_type": "execute_result"
    }
   ],
   "source": [
    "OH = OHE.fit_transform(X_cat[[\"Day\"]]).toarray()\n",
    "OH = pd.DataFrame(OH)\n",
    "OH.columns = [\"Friday\", \"Monday\", \"Saturday\", \"Sunday\", \"Thursday\", \"Tuesday\", \"Wednesday\"]\n",
    "OH.head()"
   ]
  },
  {
   "cell_type": "code",
   "execution_count": 79,
   "id": "20496aec-a6dc-4c99-9961-3fe2e3b8a660",
   "metadata": {},
   "outputs": [
    {
     "data": {
      "text/html": [
       "<div>\n",
       "<style scoped>\n",
       "    .dataframe tbody tr th:only-of-type {\n",
       "        vertical-align: middle;\n",
       "    }\n",
       "\n",
       "    .dataframe tbody tr th {\n",
       "        vertical-align: top;\n",
       "    }\n",
       "\n",
       "    .dataframe thead th {\n",
       "        text-align: right;\n",
       "    }\n",
       "</style>\n",
       "<table border=\"1\" class=\"dataframe\">\n",
       "  <thead>\n",
       "    <tr style=\"text-align: right;\">\n",
       "      <th></th>\n",
       "      <th>FMCG</th>\n",
       "      <th>LifeStyle</th>\n",
       "      <th>Mobiles</th>\n",
       "    </tr>\n",
       "  </thead>\n",
       "  <tbody>\n",
       "    <tr>\n",
       "      <th>0</th>\n",
       "      <td>0.0</td>\n",
       "      <td>0.0</td>\n",
       "      <td>1.0</td>\n",
       "    </tr>\n",
       "    <tr>\n",
       "      <th>1</th>\n",
       "      <td>0.0</td>\n",
       "      <td>0.0</td>\n",
       "      <td>1.0</td>\n",
       "    </tr>\n",
       "    <tr>\n",
       "      <th>2</th>\n",
       "      <td>0.0</td>\n",
       "      <td>0.0</td>\n",
       "      <td>1.0</td>\n",
       "    </tr>\n",
       "    <tr>\n",
       "      <th>3</th>\n",
       "      <td>0.0</td>\n",
       "      <td>0.0</td>\n",
       "      <td>1.0</td>\n",
       "    </tr>\n",
       "    <tr>\n",
       "      <th>4</th>\n",
       "      <td>0.0</td>\n",
       "      <td>0.0</td>\n",
       "      <td>1.0</td>\n",
       "    </tr>\n",
       "  </tbody>\n",
       "</table>\n",
       "</div>"
      ],
      "text/plain": [
       "   FMCG  LifeStyle  Mobiles\n",
       "0   0.0        0.0      1.0\n",
       "1   0.0        0.0      1.0\n",
       "2   0.0        0.0      1.0\n",
       "3   0.0        0.0      1.0\n",
       "4   0.0        0.0      1.0"
      ]
     },
     "execution_count": 79,
     "metadata": {},
     "output_type": "execute_result"
    }
   ],
   "source": [
    "OH1 = OHE.fit_transform(X_cat[[\"BU\"]]).toarray()\n",
    "OH1 = pd.DataFrame(OH1)\n",
    "OH1.columns = [\"FMCG\",\"LifeStyle\",\"Mobiles\"]\n",
    "OH1.head()"
   ]
  },
  {
   "cell_type": "code",
   "execution_count": 80,
   "id": "a0fe3d69-2500-4c28-8a6a-92841d5954a1",
   "metadata": {},
   "outputs": [
    {
     "data": {
      "text/html": [
       "<div>\n",
       "<style scoped>\n",
       "    .dataframe tbody tr th:only-of-type {\n",
       "        vertical-align: middle;\n",
       "    }\n",
       "\n",
       "    .dataframe tbody tr th {\n",
       "        vertical-align: top;\n",
       "    }\n",
       "\n",
       "    .dataframe thead th {\n",
       "        text-align: right;\n",
       "    }\n",
       "</style>\n",
       "<table border=\"1\" class=\"dataframe\">\n",
       "  <thead>\n",
       "    <tr style=\"text-align: right;\">\n",
       "      <th></th>\n",
       "      <th>0</th>\n",
       "      <th>1</th>\n",
       "      <th>2</th>\n",
       "      <th>3</th>\n",
       "      <th>4</th>\n",
       "      <th>5</th>\n",
       "      <th>6</th>\n",
       "      <th>7</th>\n",
       "      <th>8</th>\n",
       "    </tr>\n",
       "  </thead>\n",
       "  <tbody>\n",
       "    <tr>\n",
       "      <th>0</th>\n",
       "      <td>0.0</td>\n",
       "      <td>0.0</td>\n",
       "      <td>0.0</td>\n",
       "      <td>0.0</td>\n",
       "      <td>1.0</td>\n",
       "      <td>0.0</td>\n",
       "      <td>0.0</td>\n",
       "      <td>0.0</td>\n",
       "      <td>0.0</td>\n",
       "    </tr>\n",
       "    <tr>\n",
       "      <th>1</th>\n",
       "      <td>0.0</td>\n",
       "      <td>0.0</td>\n",
       "      <td>0.0</td>\n",
       "      <td>0.0</td>\n",
       "      <td>1.0</td>\n",
       "      <td>0.0</td>\n",
       "      <td>0.0</td>\n",
       "      <td>0.0</td>\n",
       "      <td>0.0</td>\n",
       "    </tr>\n",
       "    <tr>\n",
       "      <th>2</th>\n",
       "      <td>0.0</td>\n",
       "      <td>0.0</td>\n",
       "      <td>0.0</td>\n",
       "      <td>0.0</td>\n",
       "      <td>0.0</td>\n",
       "      <td>0.0</td>\n",
       "      <td>0.0</td>\n",
       "      <td>0.0</td>\n",
       "      <td>1.0</td>\n",
       "    </tr>\n",
       "    <tr>\n",
       "      <th>3</th>\n",
       "      <td>0.0</td>\n",
       "      <td>0.0</td>\n",
       "      <td>0.0</td>\n",
       "      <td>0.0</td>\n",
       "      <td>0.0</td>\n",
       "      <td>0.0</td>\n",
       "      <td>0.0</td>\n",
       "      <td>0.0</td>\n",
       "      <td>1.0</td>\n",
       "    </tr>\n",
       "    <tr>\n",
       "      <th>4</th>\n",
       "      <td>0.0</td>\n",
       "      <td>0.0</td>\n",
       "      <td>0.0</td>\n",
       "      <td>0.0</td>\n",
       "      <td>0.0</td>\n",
       "      <td>0.0</td>\n",
       "      <td>0.0</td>\n",
       "      <td>0.0</td>\n",
       "      <td>1.0</td>\n",
       "    </tr>\n",
       "  </tbody>\n",
       "</table>\n",
       "</div>"
      ],
      "text/plain": [
       "     0    1    2    3    4    5    6    7    8\n",
       "0  0.0  0.0  0.0  0.0  1.0  0.0  0.0  0.0  0.0\n",
       "1  0.0  0.0  0.0  0.0  1.0  0.0  0.0  0.0  0.0\n",
       "2  0.0  0.0  0.0  0.0  0.0  0.0  0.0  0.0  1.0\n",
       "3  0.0  0.0  0.0  0.0  0.0  0.0  0.0  0.0  1.0\n",
       "4  0.0  0.0  0.0  0.0  0.0  0.0  0.0  0.0  1.0"
      ]
     },
     "execution_count": 80,
     "metadata": {},
     "output_type": "execute_result"
    }
   ],
   "source": [
    "OH2 = OHE.fit_transform(X_cat[[\"Brand\"]]).toarray()\n",
    "OH2 = pd.DataFrame(OH2)     # not mentioning column names as there are 9.\n",
    "OH2.head()"
   ]
  },
  {
   "cell_type": "code",
   "execution_count": 81,
   "id": "91db1d47-9fae-4175-98dc-5b1c468a30b8",
   "metadata": {},
   "outputs": [],
   "source": [
    "# standardization is a technique which is used to remove the units of the numerical values\n",
    "# that we perform different opeartions on. all the values lies in between -3 to +3. \n",
    "# When data is standardized it takes less computation time and processes \n",
    "# quickly compared to huge data."
   ]
  },
  {
   "cell_type": "code",
   "execution_count": null,
   "id": "fd7bfab2-5b16-4b70-b98c-a244d614feee",
   "metadata": {},
   "outputs": [],
   "source": [
    "# one hot encoding is a similar method that is used on categorical variables to convert them \n",
    "# in to 0 and 1 based. and it is also known as dummy data. we use this to make the model standard and \n",
    "# for better fitting"
   ]
  }
 ],
 "metadata": {
  "kernelspec": {
   "display_name": "Python [conda env:base] *",
   "language": "python",
   "name": "conda-base-py"
  },
  "language_info": {
   "codemirror_mode": {
    "name": "ipython",
    "version": 3
   },
   "file_extension": ".py",
   "mimetype": "text/x-python",
   "name": "python",
   "nbconvert_exporter": "python",
   "pygments_lexer": "ipython3",
   "version": "3.13.5"
  }
 },
 "nbformat": 4,
 "nbformat_minor": 5
}
