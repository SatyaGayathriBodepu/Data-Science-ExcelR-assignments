{
 "cells": [
  {
   "cell_type": "code",
   "execution_count": 1,
   "id": "d2a25593-6fb7-4108-b146-5f10b0da4fbf",
   "metadata": {},
   "outputs": [],
   "source": [
    "#prime number:"
   ]
  },
  {
   "cell_type": "code",
   "execution_count": 2,
   "id": "4d27c1c6-2e4a-4dd2-a52c-f00e03bd2d98",
   "metadata": {},
   "outputs": [
    {
     "name": "stdin",
     "output_type": "stream",
     "text": [
      "Enter the number:  24\n"
     ]
    },
    {
     "name": "stdout",
     "output_type": "stream",
     "text": [
      "24 is not a prime number\n"
     ]
    }
   ],
   "source": [
    "number = int(input(\"Enter the number: \"))\n",
    "\n",
    "if number <= 1:\n",
    "    print(number, \"is not a prime number\")\n",
    "else:\n",
    "    is_prime = True  # it it is prime then next we can check \n",
    "    for i in range(2, number):\n",
    "        if number % i == 0:\n",
    "            is_prime = False\n",
    "            break   \n",
    "    \n",
    "    if is_prime:\n",
    "        print(number, \"is a prime number\")\n",
    "    else:\n",
    "        print(number, \"is not a prime number\")\n"
   ]
  },
  {
   "cell_type": "code",
   "execution_count": 4,
   "id": "ead04a37-c1b1-41b7-acb5-7706d7485ed8",
   "metadata": {},
   "outputs": [],
   "source": [
    "# random"
   ]
  },
  {
   "cell_type": "code",
   "execution_count": 5,
   "id": "6c09078a-5f7d-4291-95af-babad900809d",
   "metadata": {},
   "outputs": [
    {
     "name": "stdout",
     "output_type": "stream",
     "text": [
      "The first number is 4\n",
      "The second number is 1\n"
     ]
    },
    {
     "name": "stdin",
     "output_type": "stream",
     "text": [
      "Enter the product of the both numbers: 5\n"
     ]
    },
    {
     "name": "stdout",
     "output_type": "stream",
     "text": [
      "Wrong, the answer is 4\n"
     ]
    }
   ],
   "source": [
    "import random\n",
    "fn = random.randint(1,10) #fn -- first number\n",
    "sn = random.randint(1,10) # sn -- second number\n",
    "print(\"The first number is\",fn)\n",
    "print(\"The second number is\",sn)\n",
    "product = int(input(\"Enter the product of the both numbers:\"))\n",
    "if product==fn*sn:\n",
    "    print(\"Correct!\")\n",
    "else:\n",
    "    print(\"Wrong, the answer is\", fn*sn)"
   ]
  },
  {
   "cell_type": "code",
   "execution_count": 6,
   "id": "5770d64a-f6d5-450b-953c-c2a1c0e8733e",
   "metadata": {},
   "outputs": [],
   "source": [
    "# squared\n",
    "# i chose the even numbers\n",
    "# the square of the numbers from 100 and 200 is:"
   ]
  },
  {
   "cell_type": "code",
   "execution_count": 7,
   "id": "e1cff10f-aa8e-4d56-b643-2f49f0185cfe",
   "metadata": {},
   "outputs": [
    {
     "name": "stdout",
     "output_type": "stream",
     "text": [
      "100 square is 10000\n",
      "102 square is 10404\n",
      "104 square is 10816\n",
      "106 square is 11236\n",
      "108 square is 11664\n",
      "110 square is 12100\n",
      "112 square is 12544\n",
      "114 square is 12996\n",
      "116 square is 13456\n",
      "118 square is 13924\n",
      "120 square is 14400\n",
      "122 square is 14884\n",
      "124 square is 15376\n",
      "126 square is 15876\n",
      "128 square is 16384\n",
      "130 square is 16900\n",
      "132 square is 17424\n",
      "134 square is 17956\n",
      "136 square is 18496\n",
      "138 square is 19044\n",
      "140 square is 19600\n",
      "142 square is 20164\n",
      "144 square is 20736\n",
      "146 square is 21316\n",
      "148 square is 21904\n",
      "150 square is 22500\n",
      "152 square is 23104\n",
      "154 square is 23716\n",
      "156 square is 24336\n",
      "158 square is 24964\n",
      "160 square is 25600\n",
      "162 square is 26244\n",
      "164 square is 26896\n",
      "166 square is 27556\n",
      "168 square is 28224\n",
      "170 square is 28900\n",
      "172 square is 29584\n",
      "174 square is 30276\n",
      "176 square is 30976\n",
      "178 square is 31684\n",
      "180 square is 32400\n",
      "182 square is 33124\n",
      "184 square is 33856\n",
      "186 square is 34596\n",
      "188 square is 35344\n",
      "190 square is 36100\n",
      "192 square is 36864\n",
      "194 square is 37636\n",
      "196 square is 38416\n",
      "198 square is 39204\n",
      "200 square is 40000\n"
     ]
    }
   ],
   "source": [
    "for i in range(100,201,2): \n",
    "    print(f\"{i} square is {i**2}\")"
   ]
  },
  {
   "cell_type": "code",
   "execution_count": 8,
   "id": "0778875b-e643-4c37-a6b3-fd55233db07e",
   "metadata": {},
   "outputs": [],
   "source": [
    "# word counter"
   ]
  },
  {
   "cell_type": "code",
   "execution_count": 9,
   "id": "6b81dab2-198d-4ee3-976f-b54349e883dc",
   "metadata": {},
   "outputs": [
    {
     "name": "stdout",
     "output_type": "stream",
     "text": [
      "'This': 2\n",
      "'is': 1\n",
      "'a': 1\n",
      "'sample': 1\n",
      "'text.': 1\n",
      "'text': 1\n",
      "'will': 1\n",
      "'be': 1\n",
      "'used': 1\n",
      "'to': 1\n",
      "'demonstrate': 1\n",
      "'the': 1\n",
      "'word': 1\n",
      "'counter.': 1\n"
     ]
    }
   ],
   "source": [
    "input_text = \"This is a sample text. This text will be used to demonstrate the word counter.\"\n",
    "words = input_text.split() # i am splitting the words \n",
    "word_count = {} # i created a dictionary to store the words \n",
    "\n",
    "for word in words:\n",
    "    if word in word_count:  # if the word is already there increase the count \n",
    "        word_count[word] += 1  \n",
    "    else:                   # if the word is not there, add it\n",
    "        word_count[word] = 1\n",
    "\n",
    "# Loop through each (word, count) pair in the dictionary\n",
    "# .items() gives both the word (key) and its count (value)\n",
    "for word, count in word_count.items():\n",
    "    # Print the word along with how many times it appeared\n",
    "    print(f\"'{word}': {count}\")"
   ]
  },
  {
   "cell_type": "code",
   "execution_count": 10,
   "id": "9c776987-ed54-4e89-a442-99d814481128",
   "metadata": {},
   "outputs": [],
   "source": [
    "# palindrome"
   ]
  },
  {
   "cell_type": "code",
   "execution_count": null,
   "id": "242b90ba-673d-4b1e-876a-58c706a24135",
   "metadata": {},
   "outputs": [],
   "source": [
    "text = input(\"Enter the text\") \n",
    "text = text.lower()  # converted the text into lower \n",
    "text1 = \"\"  # took a blank variable to store the variable\n",
    "for char in text:\n",
    "    if char.isalnum():  # if it is alphanumerical \n",
    "        text1 += char  # if it is alphanumerical it adds to the t\n",
    "reversed_text = text1[::-1]\n",
    "if text1==reversed_text:\n",
    "    print(\"Yes, it is a palindrome\")\n",
    "else:\n",
    "    print(\"No, it is not a palindrome\")"
   ]
  }
 ],
 "metadata": {
  "kernelspec": {
   "display_name": "Python [conda env:base] *",
   "language": "python",
   "name": "conda-base-py"
  },
  "language_info": {
   "codemirror_mode": {
    "name": "ipython",
    "version": 3
   },
   "file_extension": ".py",
   "mimetype": "text/x-python",
   "name": "python",
   "nbconvert_exporter": "python",
   "pygments_lexer": "ipython3",
   "version": "3.13.5"
  }
 },
 "nbformat": 4,
 "nbformat_minor": 5
}
